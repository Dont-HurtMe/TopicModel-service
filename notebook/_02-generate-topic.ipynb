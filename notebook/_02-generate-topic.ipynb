{
 "cells": [
  {
   "cell_type": "code",
   "execution_count": 1,
   "id": "bd5e1a9c-fd59-412e-8086-4e5572e21edf",
   "metadata": {},
   "outputs": [],
   "source": [
    "import pandas as pd\n",
    "import numpy as np \n",
    "import matplotlib.pyplot as plt\n",
    "import random"
   ]
  },
  {
   "cell_type": "markdown",
   "id": "2e4778dd-e70b-432b-b729-3fe64d164062",
   "metadata": {},
   "source": [
    "# **Generate Topics**"
   ]
  },
  {
   "cell_type": "code",
   "execution_count": 2,
   "id": "e8843e59-561d-41ad-a5e5-6a80c121cff5",
   "metadata": {},
   "outputs": [
    {
     "name": "stderr",
     "output_type": "stream",
     "text": [
      "/Users/peetiphartsuebpeng/Documents/11-PROJECT-WizMap/generate-wizmap-dev/model/generate_vector/node.py:6: TqdmExperimentalWarning: Using `tqdm.autonotebook.tqdm` in notebook mode. Use `tqdm.tqdm` instead to force console mode (e.g. in jupyter console)\n",
      "  from tqdm.autonotebook import tqdm\n"
     ]
    }
   ],
   "source": [
    "from model.generate_topic import Mini_Bert, find_topic, llm_summary_cluster\n",
    "from sklearn.feature_extraction.text import CountVectorizer\n",
    "from sklearn.cluster import KMeans"
   ]
  },
  {
   "cell_type": "markdown",
   "id": "3c054cee-745d-457c-95af-1fcccb861d63",
   "metadata": {},
   "source": [
    "## **Structure of Data**"
   ]
  },
  {
   "cell_type": "code",
   "execution_count": 3,
   "id": "642dac2b-fbf7-4087-9be3-ae6946b05cc3",
   "metadata": {},
   "outputs": [
    {
     "data": {
      "text/html": [
       "<div>\n",
       "<style scoped>\n",
       "    .dataframe tbody tr th:only-of-type {\n",
       "        vertical-align: middle;\n",
       "    }\n",
       "\n",
       "    .dataframe tbody tr th {\n",
       "        vertical-align: top;\n",
       "    }\n",
       "\n",
       "    .dataframe thead th {\n",
       "        text-align: right;\n",
       "    }\n",
       "</style>\n",
       "<table border=\"1\" class=\"dataframe\">\n",
       "  <thead>\n",
       "    <tr style=\"text-align: right;\">\n",
       "      <th></th>\n",
       "      <th>data_process</th>\n",
       "      <th>vector</th>\n",
       "      <th>x</th>\n",
       "      <th>y</th>\n",
       "      <th>data_display</th>\n",
       "    </tr>\n",
       "  </thead>\n",
       "  <tbody>\n",
       "    <tr>\n",
       "      <th>0</th>\n",
       "      <td>title: Quantitative HPLC Determination and Sta...</td>\n",
       "      <td>[-0.0074133547, -0.017918514, -0.08736931, -0....</td>\n",
       "      <td>-2.303174</td>\n",
       "      <td>8.624246</td>\n",
       "      <td>X: -2.3032 Y: 8.6242 Content: title: Quantitat...</td>\n",
       "    </tr>\n",
       "    <tr>\n",
       "      <th>1</th>\n",
       "      <td>title: Insecticidal activity of Stemona collin...</td>\n",
       "      <td>[0.0048623416, -0.044462435, -0.1135353, -0.04...</td>\n",
       "      <td>-2.333353</td>\n",
       "      <td>9.045902</td>\n",
       "      <td>X: -2.3334 Y: 9.0459 Content: title: Insectici...</td>\n",
       "    </tr>\n",
       "    <tr>\n",
       "      <th>2</th>\n",
       "      <td>title: Oral toxicity of various Stemona collin...</td>\n",
       "      <td>[0.053052347, -0.042213105, -0.082500555, -0.0...</td>\n",
       "      <td>-2.417654</td>\n",
       "      <td>8.920828</td>\n",
       "      <td>X: -2.4177 Y: 8.9208 Content: title: Oral toxi...</td>\n",
       "    </tr>\n",
       "    <tr>\n",
       "      <th>3</th>\n",
       "      <td>title: Optimized extraction for high yield of ...</td>\n",
       "      <td>[0.00866904, 0.013025655, -0.08530998, -0.0659...</td>\n",
       "      <td>-2.425498</td>\n",
       "      <td>8.621630</td>\n",
       "      <td>X: -2.4255 Y: 8.6216 Content: title: Optimized...</td>\n",
       "    </tr>\n",
       "    <tr>\n",
       "      <th>4</th>\n",
       "      <td>title: Acetylcholinesterase inhibitory activit...</td>\n",
       "      <td>[0.01852814, -0.03028386, -0.07568237, -0.0225...</td>\n",
       "      <td>-2.602903</td>\n",
       "      <td>8.542785</td>\n",
       "      <td>X: -2.6029 Y: 8.5428 Content: title: Acetylcho...</td>\n",
       "    </tr>\n",
       "    <tr>\n",
       "      <th>...</th>\n",
       "      <td>...</td>\n",
       "      <td>...</td>\n",
       "      <td>...</td>\n",
       "      <td>...</td>\n",
       "      <td>...</td>\n",
       "    </tr>\n",
       "    <tr>\n",
       "      <th>1951</th>\n",
       "      <td>title: Effects of Onion (Allium cepa L.) and G...</td>\n",
       "      <td>[-0.03210118, -0.026279455, -0.050988115, 0.03...</td>\n",
       "      <td>5.431913</td>\n",
       "      <td>7.503321</td>\n",
       "      <td>X: 5.4319 Y: 7.5033 Content: title: Effects of...</td>\n",
       "    </tr>\n",
       "    <tr>\n",
       "      <th>1952</th>\n",
       "      <td>title: Methods of Isolation of Active Substanc...</td>\n",
       "      <td>[-0.04116749, -0.033044282, -0.09556768, 0.057...</td>\n",
       "      <td>5.586211</td>\n",
       "      <td>7.031571</td>\n",
       "      <td>X: 5.5862 Y: 7.0316 Content: title: Methods of...</td>\n",
       "    </tr>\n",
       "    <tr>\n",
       "      <th>1953</th>\n",
       "      <td>title: Garlic (Allium sativum L.): a potential...</td>\n",
       "      <td>[-0.061984845, 0.005201916, -0.10571754, 0.041...</td>\n",
       "      <td>5.333734</td>\n",
       "      <td>6.810878</td>\n",
       "      <td>X: 5.3337 Y: 6.8109 Content: title: Garlic (Al...</td>\n",
       "    </tr>\n",
       "    <tr>\n",
       "      <th>1954</th>\n",
       "      <td>title: Character association and path analysis...</td>\n",
       "      <td>[0.002141517, -0.003871272, -0.04897455, 0.057...</td>\n",
       "      <td>6.493972</td>\n",
       "      <td>7.872734</td>\n",
       "      <td>X: 6.494 Y: 7.8727 Content: title: Character a...</td>\n",
       "    </tr>\n",
       "    <tr>\n",
       "      <th>1955</th>\n",
       "      <td>title: Antibacterial effect of different conce...</td>\n",
       "      <td>[-0.028550493, -0.07910663, -0.06341982, -0.00...</td>\n",
       "      <td>4.886277</td>\n",
       "      <td>7.475355</td>\n",
       "      <td>X: 4.8863 Y: 7.4754 Content: title: Antibacter...</td>\n",
       "    </tr>\n",
       "  </tbody>\n",
       "</table>\n",
       "<p>1956 rows × 5 columns</p>\n",
       "</div>"
      ],
      "text/plain": [
       "                                           data_process  \\\n",
       "0     title: Quantitative HPLC Determination and Sta...   \n",
       "1     title: Insecticidal activity of Stemona collin...   \n",
       "2     title: Oral toxicity of various Stemona collin...   \n",
       "3     title: Optimized extraction for high yield of ...   \n",
       "4     title: Acetylcholinesterase inhibitory activit...   \n",
       "...                                                 ...   \n",
       "1951  title: Effects of Onion (Allium cepa L.) and G...   \n",
       "1952  title: Methods of Isolation of Active Substanc...   \n",
       "1953  title: Garlic (Allium sativum L.): a potential...   \n",
       "1954  title: Character association and path analysis...   \n",
       "1955  title: Antibacterial effect of different conce...   \n",
       "\n",
       "                                                 vector         x         y  \\\n",
       "0     [-0.0074133547, -0.017918514, -0.08736931, -0.... -2.303174  8.624246   \n",
       "1     [0.0048623416, -0.044462435, -0.1135353, -0.04... -2.333353  9.045902   \n",
       "2     [0.053052347, -0.042213105, -0.082500555, -0.0... -2.417654  8.920828   \n",
       "3     [0.00866904, 0.013025655, -0.08530998, -0.0659... -2.425498  8.621630   \n",
       "4     [0.01852814, -0.03028386, -0.07568237, -0.0225... -2.602903  8.542785   \n",
       "...                                                 ...       ...       ...   \n",
       "1951  [-0.03210118, -0.026279455, -0.050988115, 0.03...  5.431913  7.503321   \n",
       "1952  [-0.04116749, -0.033044282, -0.09556768, 0.057...  5.586211  7.031571   \n",
       "1953  [-0.061984845, 0.005201916, -0.10571754, 0.041...  5.333734  6.810878   \n",
       "1954  [0.002141517, -0.003871272, -0.04897455, 0.057...  6.493972  7.872734   \n",
       "1955  [-0.028550493, -0.07910663, -0.06341982, -0.00...  4.886277  7.475355   \n",
       "\n",
       "                                           data_display  \n",
       "0     X: -2.3032 Y: 8.6242 Content: title: Quantitat...  \n",
       "1     X: -2.3334 Y: 9.0459 Content: title: Insectici...  \n",
       "2     X: -2.4177 Y: 8.9208 Content: title: Oral toxi...  \n",
       "3     X: -2.4255 Y: 8.6216 Content: title: Optimized...  \n",
       "4     X: -2.6029 Y: 8.5428 Content: title: Acetylcho...  \n",
       "...                                                 ...  \n",
       "1951  X: 5.4319 Y: 7.5033 Content: title: Effects of...  \n",
       "1952  X: 5.5862 Y: 7.0316 Content: title: Methods of...  \n",
       "1953  X: 5.3337 Y: 6.8109 Content: title: Garlic (Al...  \n",
       "1954  X: 6.494 Y: 7.8727 Content: title: Character a...  \n",
       "1955  X: 4.8863 Y: 7.4754 Content: title: Antibacter...  \n",
       "\n",
       "[1956 rows x 5 columns]"
      ]
     },
     "execution_count": 3,
     "metadata": {},
     "output_type": "execute_result"
    }
   ],
   "source": [
    "df = pd.read_parquet('./output_test/data.parquet')\n",
    "df"
   ]
  },
  {
   "cell_type": "code",
   "execution_count": 4,
   "id": "3d878a00-1fc4-4f9a-94d9-79782c398f37",
   "metadata": {},
   "outputs": [],
   "source": [
    "docs = df['data_process'].tolist()"
   ]
  },
  {
   "cell_type": "code",
   "execution_count": 5,
   "id": "5c494347-6c21-454d-9ac4-475794934ffb",
   "metadata": {},
   "outputs": [],
   "source": [
    "example_input = random.sample(docs, 10)"
   ]
  },
  {
   "cell_type": "code",
   "execution_count": 6,
   "id": "1b588439-7801-4c91-996b-1f1a77683f36",
   "metadata": {},
   "outputs": [
    {
     "data": {
      "text/plain": [
       "['title: Antioxidant Activities and Antioxidative Components in Extracts of Alpinia galanga (L.) Sw pub_year: 2009 keyword: Zingiber_cassumunar abstract: Galangal extracted using 50% ethanol in water was studied for its antioxidant activity and composition in comparison with two other samples based on a water extract and the essential oil. The antioxidant activities were determined using the 2,2-diphenyl-1-picrylhydrazyl (DPPH) and oxygen radical absorbance capacity (ORAC) methods. The ethanolic extract showed the highest DPPH free radical scavenging ability as well as the highest ORAC value when compared to the water extract and the essential oil. The IC 50 values of the galangal ethanolic extract (10.66 mg/ml), water extract (55.48 mg/ml) and essential oil (455.43 mg/ml) were higher than those of α-tocopherol (1.45 mg/ml) and butylated hydroxyanisole (BHA; 0.41 mg/ml). The results indicated that the antioxidant activities of galangal extracts were lower than that of BHA, the commercial synthetic antioxidant generally used in food. The ethanolic extract contained the highest concentrations of total phenolic compounds (31.49 mgGAE/g) and flavonoids (13.78 mgCE/g). The water extract and the essential oil had a total phenolic content of 8.25 and 5.01 mgGAE/g and a total flavonoid content of 1.48 and 0.20 mgCE/g, respectively. Antioxidants in the galangal essential oil, namely, methyl eugenol (4,130.38 µg/g), chavicol (2,390.45 µg/g), and eugenol (728.30 µg/g) were found in its volatile fraction. The water extract contained mainly myricetin (14.60 mg/g extract) and an unknown phenolic compound. The major antioxidants in the ethanolic extract were 1ácetoxycavichol acetate (10.56 mg/g extract), catechin (1.74 mg/g extract), and three unknown subtances. In addition to the phenolic compounds, 1ácetoxycavichol acetate (ACA) could play an important role in the antioxidant activity of galangal. The ethanolic extract of galangal was also advantageous as an antioxidant in food due to its mild odor compared with the essential oil.',\n",
       " 'title: Yanangdaengin, a dihydrochalcone glucoside galloyl ester as active antioxidative agent from leaves of Lysiphyllum strychnifolium (syn. Bauhinia strychnifolia) pub_year: 2020 keyword: Lysiphyllum_strychnifolium abstract: Objective\\nTo isolate and identify the major bioactive components from the leaves of Lysiphyllum strychnifolium, an indigenous herb used in traditional Thai medicine for detoxification, longevity, and some other health related issues.\\n\\nMethods\\nComparative HPLC analyses of the crude extracts from three provenances were carried out for an overview of characteristic compound profiles. Isolation of the major compounds was undertaken with chromatographic methods. Chemical structures were elucidated by NMR spectroscopic techniques and mass spectrometry. DPPH scavenging assay was carried out to determine the free radical scavenging activity of isolated compounds.\\n\\nResults\\nYanangdaengin (3), a dihydrochalcone glucoside galloyl ester, has been isolated together with its corresponding dihydrochalcone glucoside trilobatin (2) as major compounds from the leaves of L. strychnifolium. Additionally, gallic acid (1) was co-chromatographically identified. Free radical scavenging activity of isolated compounds were determined. Compound 3 exhibited higher free radical scavenging activities in comparison to Trolox and quercetin.\\n\\nConclusion\\nThe isolated compounds could be used as chemical markers for quality assessment. The present work could promote the quality control and herbal medicinal product development of this plant.',\n",
       " \"title: Garcinia mangostana L.: A Phytochemical and Pharmacological Review pub_year: 2009 keyword: Garcinia_mangostana abstract: Garcinia mangostana L. (mangosteen, Clusiaceae) has a long history of use as a medical plant, mostly in Southeast Asia. This is a review of the phytochemistry and pharmacology of mangosteen. Traditionally mangosteen is famous for its antiinflammatory properties and is used in the treatment of skin infections and wounds. Other applications include the therapy of various conditions such as dysentery, different urinary disorders, cystitis and gonorrhoea. This review highlights the development of this botanical drug into a widely used nutraceutical. Products derived from G. mangostana are now distributed increasingly all over the world. This has given rise to a concomitant increase in research on the phytochemical constituents and biological activity of mangosteen. Central to the biological activity of the species are xanthones which are reviewed in detail. A comprehensive assessment of the biological activities of individual xanthones as well as extracts of G. mangostana is included. In addition, its potential in terms of developing novel drug leads is assessed. Products containing its fruits are now sold widely as 'liquid botanical supplements', but evidence for the health benefits of these products is still lacking. As shown here, a serious weakness in our knowledge is the lack of clinical data and it is not yet clear to what extent the findings about pharmacological activities are of potential clinical relevance.\",\n",
       " 'title: Kaempferia parviflora Extract Alleviated Rat Arthritis, Exerted Chondroprotective Properties In Vitro, and Reduced Expression of Genes Associated with Inflammatory Arthritis pub_year: 2021 keyword: Kaemferia_parviflora abstract: Kaempferia parviflora Wall. ex Baker (KP) has been reported to attenuate cartilage destruction in rat model of osteoarthritis. Previously, we demonstrated that KP rhizome extract and its active components effectively suppressed mechanisms associated with RA in SW982 cells. Here, we further evaluated the anti-arthritis potential of KP extract by using multi-level models, including a complete Freund’s adjuvant-induced arthritis and a cartilage explant culture model, and to investigate the effects of KP extract and its major components on related gene expressions and underlying mechanisms within cells. In arthritis rats, the KP extract reduced arthritis indexes, with no significant changes in biological parameters. In the cartilage explant model, the KP extract exerted chondroprotective potential by suppressing sulfated glycosaminoglycans release while preserving high accumulation of proteoglycans. In human chondrocyte cell line, a mixture of the major components equal to their amounts in KP extract showed strong suppression the expression of genes-associated inflammatory joint disease similar to that of the extract. Additionally, KP extract significantly suppressed NF-κB and MAPK signaling pathways. The suppressing expression of necroptosis genes and promoted anti-apoptosis were also found. Collectively, these results provided supportive evidence of the anti-arthritis properties of KP extract, which are associated with its three major components.',\n",
       " 'title: Anti-inflammatory activity of mangostins from Garcinia mangostana pub_year: 2008 keyword: Garcinia_mangostana abstract: The fruit hull of Garcinia mangostana Linn (Guttiferae) is used as an anti-inflammatory drug in Southeast Asia. Two xanthones, alpha- and gamma-mangostins, were isolated from the fruit hull of G. mangostana, and both significantly inhibited nitric oxide (NO) and PGE(2) production from lipopolysaccharide (LPS)-stimulated RAW 264.7 cells. The IC(50) values for the inhibition of NO production by alpha- and gamma-mangostins were 12.4 and 10.1 microM, respectively. After iNOS enzyme activity was stimulated by LPS for 12 h, treatment with either alpha- or gamma-mangostin at 5 microg/ml (12.2 and 12.6 microM, respectively) for 24 h did not significantly inhibit NO production. The data show that the inhibitory activities of alpha- and gamma-mangostins are not due to direct inhibition of iNOS enzyme activity. On the other hand, expression of iNOS was inhibited by alpha- and gamma-mangostins in LPS-stimulated RAW 264.7 cells, but not by COX-2. However, the level of PGE(2) production was reduced by the two xanthones. In an in vivo study, alpha-mangostin significantly inhibited mice carrageenan-induced paw edema. In conclusion, alpha- and gamma-mangostins from G. mangostana are bioactive substances with anti-inflammatory effects.',\n",
       " 'title: Production of human embryonic kidney 293T cells stably expressing C-X-C chemokine receptor type 4 (CXCR4) as a screening tool for anticancer lead compound targeting CXCR4 pub_year: 2022 keyword: Stephania_venosa abstract: Aim\\nThe C-X-C chemokine-receptor type 4 (CXCR4) is an emerging target for cancer drug discovery due to its high expression in cancer cells. The present study aimed to produce CXCR4 overexpressing HEK293T cells for a non-radioactive binding assay as a platform to identify drug candidates targeting CXCR4.\\n\\nMain methods\\nHEK293T cells stably expressing human CXCR4 were constructed by transfection of CXCR4 plasmids from the human CXCR4 gene. The CXCR4 overexpressing HEK293T cells were obtained by fluorescence-activated sorting and verified by conducting the competition binding assay of a known CXCR4 inhibitor, AMD3100 (plerixafor), to determine the IC50 value against monoclonal anti-human CD184 (hCD184) antibody tagged with fluorescence probe, phycoerythrin (PE). The non-radioactive binding assay using CXCR4 overexpressing HEK293T cells and PE-anti hCD184 was applied as a platform for identifying the target of natural compounds that exhibited cytotoxicity against cancer cell lines.\\n\\nKey findings\\nThe CXCR4 overexpressing HEK293T cells were produced with high expression (99.8%). The IC50 value of plerixafor determined by fluorescence tagged antibody-based competition assay using our developed cells agree with previously reported values using a radioligand binding assay. We observed no significant displacement of bound PE-anti-hCD184 by the test natural compounds which could be due to non-specific binding to other functional targets or organelles, low potency of the natural compounds, or binding to CXCR4 at deeper pockets.\\n\\nSignificance\\nThe verified non-radioactive binding assay can serve as an alternative screening tool for anticancer lead compounds targeting CXCR4 and an essential tool for proof of mechanism study in the drug discovery.',\n",
       " 'title: Electrospun poly(lactic acid) nanofiber mats for controlled transdermal delivery of essential oil from Zingiber cassumunar Roxb pub_year: 2020 keyword: Zingiber_cassumunar abstract: A controlled release system of Plai ( Zingiber cassumunar Roxb.) oil based on electrospun poly(lactic) acid (PLA) nanofiber mat was successfully developed. The physicochemical properties of the nanofibers loaded with select amounts of oil (15%, 20%, and 30% wt) were characterized using various techniques, including a morphological study using scanning electron microscopy (SEM), structural determination using Fourier transform infrared spectrometry (FTIR) and x-ray diffraction (XRD), as well as thermal properties study using differential scanning calorimetry (DSC) and thermogravimetric analysis (TGA). The loading content and the entrapment efficiency of Plai oil within the fiber mats were evaluated and were found to be remarkably high, ensuring that PLA was an appropriate material for Plai oil loading. The ability of the nanofiber mats to release ( E )-1-(3,4-dimethoxyphenyl) butadiene (DMPBD) was also examined and the fiber mats showed controlled release characteristics. As the nanofiber mats have particularly high specific surface area with fully accessible and interconnected pore structures, a liquid medium with active ingredients will not be trapped in blind pores but can be fully released out of the fiber matrix. Furthermore, in vitro skin permeation of the active compound as well as a skin irritation were assessed using reconstructed human epidermis (EpiSkin TM ). It was found that DMPBD could efficiently penetrate through the skin model. Moreover, the nanofiber mats containing Plai oil also showed no skin irritation, indicating them as promising prototypes for medical applications.',\n",
       " 'title: New insights in the anti-obese activity of xanthones from Garcinia mangostana pub_year: 2014 keyword: Garcinia_mangostana abstract: Obesity has reached epidemic proportion worldwide, both obesity and its related diseases, such as diabetes and cardiovascular diseases, have become major public health challenges. Fruits are important dietary components, and bioactive constituents from fruits are considered to be an excellent source for developing future effective, safe anti-obesity drugs. Garcinia mangostana Linn. (Clusiaceae) is a tropical evergreen tree. Its fruit, mangosteen, is called ‘Queen of Fruit’. The pericarp of G. mangostana has been used for centuries in Southeast Asia as a medical agent for treatment of various diseases. Mangosteen originated products are widely consumed to ameliorate metabolic dysfunction and the resultant metabolic syndrome. However, the chemical principles and underlying mechanisms are remaining unclear. In this review, the recent chemical and pharmacological studies including weigh reduction, anti-adipogenesis, anti-inflammation and anti-oxidation related to G. mangostana were summarized. The aim of this review is to shed light on the role of G. mangostana and its constituents in preventing or treating obesity, which will attract more interest to develop potential therapeutic method.',\n",
       " 'title: The potential application of Allium Sativum (garlic) for the treatment of bladder cancer pub_year: 2000 keyword: Allium_sativum abstract: Additional studies are needed to identify the active ingredients in Allium Sativum (garlic) that are responsible for the observed antitumor activity and immune stimulation. Garlic seems to detoxify chemical carcinogens and prevent carcinogenesis and can also directly inhibit the growth of cancer cells. Current data suggest that low molecular weight sulfur compounds and protein F4 have immune-stimulation properties. Garlic is reported to stimulate immunity, including macrophage activity, natural killer and killer cells, and LAK cells, and to increase the production of IL-2, TNF, and interferon-gamma. These cytokines are associated with the beneficial Th1 antitumor response, which is characteristic of effective cancer immunotherapies. As is true of BCG, garlic stimulates the proliferation of macrophages and lymphocytes and protects against the suppression of immunity by chemotherapy and ultraviolet radiation. Garlic is clearly not a panacea for cancer, but its broad range of beneficial effects are worthy of serious consideration in clinical trials for the prevention and treatment of cancer.',\n",
       " 'title: Biological properties in relation to health promotion effects of Garcinia mangostana (queen of fruit) A short report pub_year: 2018 keyword: Garcinia_mangostana abstract: Purpose – For the prevention and cure of disease, patient use various types of chemical and drug agents. Along with their curative effect, almost all drugs have some destructive effects and side-effects. Due to the minimal and/or none of unwanted side-effect, recently, the use of herbal remedy as the drug of choice becomes the preference choice. The mangosteen, Garcinia mangostana, contains various types of polyphenols. It has been used as a traditional medicine from the ancient times till present days. The purpose of this paper is to\\ninvestigate the biological properties of mangosteen in relation to health promotion effects.\\n\\nDesign/methodology/approach – Several research papers from well-known database (such as PubMed, Google scholar, Scopus and Sciencedirect) were reviewed without considering publication-times to\\nunderstand the biological properties of mangosteen.\\n\\nFindings – Mangosteen and its xanthone exerted diverse biological activities such as anti-oxidant, anti-inflammatory, anti-allergy, anti-bacteria, anti-fungal, anti-malaria, anticancer and anti-diabetes.\\n\\nOriginality/value – Based on these studies, mangosteen is beneficial dietary supplement of overall human health.']"
      ]
     },
     "execution_count": 6,
     "metadata": {},
     "output_type": "execute_result"
    }
   ],
   "source": [
    "example_input"
   ]
  },
  {
   "cell_type": "markdown",
   "id": "1fd495f3-9b13-4350-b4ad-a9a5760f2884",
   "metadata": {},
   "source": [
    "## **find_topic[I/O]**"
   ]
  },
  {
   "cell_type": "code",
   "execution_count": 8,
   "id": "c44d9c5a-0663-4b24-830a-5644b9df7222",
   "metadata": {},
   "outputs": [],
   "source": [
    "generator_topic = find_topic(n_topic=20, cv=CountVectorizer(stop_words=\"english\", ngram_range=(1, 1)))"
   ]
  },
  {
   "cell_type": "code",
   "execution_count": 9,
   "id": "64ac4664-ea02-45a2-8eef-5ace6a77c3de",
   "metadata": {},
   "outputs": [],
   "source": [
    "generator_topic.input(' '.join(example_input))"
   ]
  },
  {
   "cell_type": "code",
   "execution_count": 10,
   "id": "673457cc-1eba-4172-845b-60f66389f2b3",
   "metadata": {},
   "outputs": [
    {
     "data": {
      "text/plain": [
       "{'ad': 0.1094,\n",
       " 'galanga': 0.1094,\n",
       " 'keyword': 0.1367,\n",
       " 'garlic': 0.1094,\n",
       " 'inflammatory': 0.1367,\n",
       " 'kaempferia': 0.1367,\n",
       " '1β': 0.123,\n",
       " 'results': 0.123,\n",
       " 'mm': 0.2187,\n",
       " 'curcumin': 0.123,\n",
       " 'concentration': 0.1914,\n",
       " 'abstract': 0.1367,\n",
       " 'extract': 0.2598,\n",
       " 'title': 0.1367,\n",
       " 'compounds': 0.1094,\n",
       " 'study': 0.123,\n",
       " 'pub_year': 0.1367,\n",
       " 'il': 0.123,\n",
       " 'rhizome': 0.123,\n",
       " 'activity': 0.123}"
      ]
     },
     "execution_count": 10,
     "metadata": {},
     "output_type": "execute_result"
    }
   ],
   "source": [
    "topwords = generator_topic.run()\n",
    "topwords = dict(topwords[0])\n",
    "topwords"
   ]
  },
  {
   "cell_type": "code",
   "execution_count": 11,
   "id": "75aab1bd-d1b0-49c8-81d8-31ef8bc7d8ee",
   "metadata": {
    "scrolled": true
   },
   "outputs": [
    {
     "data": {
      "text/plain": [
       "{'extract': 0.2598,\n",
       " 'mm': 0.2187,\n",
       " 'concentration': 0.1914,\n",
       " 'keyword': 0.1367,\n",
       " 'inflammatory': 0.1367,\n",
       " 'kaempferia': 0.1367,\n",
       " 'abstract': 0.1367,\n",
       " 'title': 0.1367,\n",
       " 'pub_year': 0.1367,\n",
       " '1β': 0.123,\n",
       " 'results': 0.123,\n",
       " 'curcumin': 0.123,\n",
       " 'study': 0.123,\n",
       " 'il': 0.123,\n",
       " 'rhizome': 0.123,\n",
       " 'activity': 0.123,\n",
       " 'ad': 0.1094,\n",
       " 'galanga': 0.1094,\n",
       " 'garlic': 0.1094,\n",
       " 'compounds': 0.1094}"
      ]
     },
     "execution_count": 11,
     "metadata": {},
     "output_type": "execute_result"
    }
   ],
   "source": [
    "topwords = dict(sorted(topwords.items(), key=lambda x: x[1], reverse=True))\n",
    "topwords"
   ]
  },
  {
   "cell_type": "code",
   "execution_count": 13,
   "id": "238d1530-276d-452e-bab3-0544d504c68b",
   "metadata": {},
   "outputs": [
    {
     "data": {
      "text/plain": [
       "Text(0.5, 1.0, 'Top words')"
      ]
     },
     "execution_count": 13,
     "metadata": {},
     "output_type": "execute_result"
    },
    {
     "data": {
      "image/png": "[encoded data removed]",
      "text/plain": [
       "<Figure size 3000x800 with 1 Axes>"
      ]
     },
     "metadata": {},
     "output_type": "display_data"
    }
   ],
   "source": [
    "plt.figure(figsize=(30,8))\n",
    "plt.bar(list(topwords.keys()), list(topwords.values()))\n",
    "plt.title(label='Top words')"
   ]
  },
  {
   "cell_type": "markdown",
   "id": "a21dd63f-c004-4ec7-bb40-2cc1644d3697",
   "metadata": {},
   "source": [
    "# **llm generate summary**"
   ]
  },
  {
   "cell_type": "markdown",
   "id": "2d6f742d-c8de-4a6b-96c7-d14467a6bcc2",
   "metadata": {},
   "source": [
    "### **GPT**"
   ]
  },
  {
   "cell_type": "code",
   "execution_count": 15,
   "id": "eb4e80ef-4ff8-4049-9c01-7f5cf16c240c",
   "metadata": {},
   "outputs": [],
   "source": [
    "gpt_generator = llm_summary_cluster(gpt_api=api_key, verbose=True)"
   ]
  },
  {
   "cell_type": "code",
   "execution_count": 16,
   "id": "c732256b-35ed-4ff6-a607-298c1d9b8c99",
   "metadata": {},
   "outputs": [
    {
     "name": "stdout",
     "output_type": "stream",
     "text": [
      "\n",
      "    please use the input to create and summarize short content in 'summary' and create short topic or header in 'header' and response in json format.\n",
      "    # input\n",
      "     [hello world! This is example text] \n",
      "    \n",
      "    # example json output\n",
      "{'header':'header', 'summary': 'summary'}\n"
     ]
    }
   ],
   "source": [
    "text = \"\"\" [hello world! This is example text] \"\"\"\n",
    "print(gpt_generator.generate_prompt(text))"
   ]
  },
  {
   "cell_type": "code",
   "execution_count": 17,
   "id": "8803299c-5b9a-4860-abc9-6257284b6244",
   "metadata": {},
   "outputs": [],
   "source": [
    "gpt_res = gpt_generator.response(example_input)"
   ]
  },
  {
   "cell_type": "code",
   "execution_count": 18,
   "id": "88756ad4-27cc-4c32-a0c3-7b102311f479",
   "metadata": {},
   "outputs": [
    {
     "data": {
      "text/plain": [
       "{'header': 'Antimicrobial Activity Test of Mangosteen Leaves Ethanol Extract ( Garcinia mangostana Linn ) Against Pseudomonas aeruginosa Bacteria',\n",
       " 'summary': 'The research aimed to examine the antibacterial activity of mangosteen leaves ethanol extract against Pseudomonas aeruginosa bacteria. Results showed that the extract could inhibit bacteria from a concentration of 10% with a minimum inhibitory concentration of 13.20 mm.'}"
      ]
     },
     "execution_count": 18,
     "metadata": {},
     "output_type": "execute_result"
    }
   ],
   "source": [
    "eval(gpt_res)"
   ]
  },
  {
   "cell_type": "markdown",
   "id": "0d9abbf7-37af-4ecc-b80d-078a53eec153",
   "metadata": {},
   "source": [
    "### **Gemini**"
   ]
  },
  {
   "cell_type": "code",
   "execution_count": 20,
   "id": "ec32973c-2d9f-40a8-9f24-96f49a0fb0bc",
   "metadata": {},
   "outputs": [],
   "source": [
    "gemini_generator = llm_summary_cluster(gemini_api=gemini_key, verbose=True)"
   ]
  },
  {
   "cell_type": "code",
   "execution_count": 21,
   "id": "bf1397c3-2ced-4854-9f68-285622ec6d18",
   "metadata": {},
   "outputs": [],
   "source": [
    "gemini_res = gemini_generator.response(example_input)"
   ]
  },
  {
   "cell_type": "code",
   "execution_count": 22,
   "id": "1070f541-b407-4e22-afaa-c52605cfb728",
   "metadata": {},
   "outputs": [
    {
     "data": {
      "text/plain": [
       "{'header': 'Antibacterial Activity of Mangosteen Leaves Ethanol Extract ( Garcinia mangostana Linn ) Against Pseudomonas aeruginosa Bacteria',\n",
       " 'summary': 'This study investigates the antibacterial activity of mangosteen leaves ethanol extract against Ps. aeruginosa bacteria. The results showed that the ethanol extract of mangosteen leaves could inhibit bacteria from a concentration of 10% with an average inhibitory diameter of 13.20 mm, 20% is 14.00 mm, 30% is 14.65 mm, 40% is 15.85 mm, 50% is 16.05 mm, 60% is 16.90 mm, 70% is 17.55 mm, 80% is 18.75 mm, 90% is 19.25 mm and 100% equal to 24.80 mm. The minimum inhibitory concentration was 10% with a diameter inhibitor zone of 13.20 mm.'}"
      ]
     },
     "execution_count": 22,
     "metadata": {},
     "output_type": "execute_result"
    }
   ],
   "source": [
    "eval(gemini_res)"
   ]
  },
  {
   "cell_type": "code",
   "execution_count": null,
   "id": "755735a8-8da8-419d-9f34-8a7c68f62cf9",
   "metadata": {},
   "outputs": [],
   "source": []
  },
  {
   "cell_type": "code",
   "execution_count": null,
   "id": "32b5b7aa-72f6-4346-9749-a6d19ae03451",
   "metadata": {},
   "outputs": [],
   "source": []
  },
  {
   "cell_type": "markdown",
   "id": "5a42ea42-1e3b-4d91-a4c2-8a993a9dc2f0",
   "metadata": {},
   "source": [
    "# **Mini_Bert**"
   ]
  },
  {
   "cell_type": "code",
   "execution_count": 7,
   "id": "0ba083c6-9be6-4d60-929c-97d38eb8019a",
   "metadata": {},
   "outputs": [
    {
     "data": {
      "text/html": [
       "<div>\n",
       "<style scoped>\n",
       "    .dataframe tbody tr th:only-of-type {\n",
       "        vertical-align: middle;\n",
       "    }\n",
       "\n",
       "    .dataframe tbody tr th {\n",
       "        vertical-align: top;\n",
       "    }\n",
       "\n",
       "    .dataframe thead th {\n",
       "        text-align: right;\n",
       "    }\n",
       "</style>\n",
       "<table border=\"1\" class=\"dataframe\">\n",
       "  <thead>\n",
       "    <tr style=\"text-align: right;\">\n",
       "      <th></th>\n",
       "      <th>data_process</th>\n",
       "      <th>vector</th>\n",
       "      <th>x</th>\n",
       "      <th>y</th>\n",
       "      <th>data_display</th>\n",
       "    </tr>\n",
       "  </thead>\n",
       "  <tbody>\n",
       "    <tr>\n",
       "      <th>0</th>\n",
       "      <td>title: Quantitative HPLC Determination and Sta...</td>\n",
       "      <td>[-0.0074133547, -0.017918514, -0.08736931, -0....</td>\n",
       "      <td>-2.303174</td>\n",
       "      <td>8.624246</td>\n",
       "      <td>X: -2.3032 Y: 8.6242 Content: title: Quantitat...</td>\n",
       "    </tr>\n",
       "    <tr>\n",
       "      <th>1</th>\n",
       "      <td>title: Insecticidal activity of Stemona collin...</td>\n",
       "      <td>[0.0048623416, -0.044462435, -0.1135353, -0.04...</td>\n",
       "      <td>-2.333353</td>\n",
       "      <td>9.045902</td>\n",
       "      <td>X: -2.3334 Y: 9.0459 Content: title: Insectici...</td>\n",
       "    </tr>\n",
       "    <tr>\n",
       "      <th>2</th>\n",
       "      <td>title: Oral toxicity of various Stemona collin...</td>\n",
       "      <td>[0.053052347, -0.042213105, -0.082500555, -0.0...</td>\n",
       "      <td>-2.417654</td>\n",
       "      <td>8.920828</td>\n",
       "      <td>X: -2.4177 Y: 8.9208 Content: title: Oral toxi...</td>\n",
       "    </tr>\n",
       "    <tr>\n",
       "      <th>3</th>\n",
       "      <td>title: Optimized extraction for high yield of ...</td>\n",
       "      <td>[0.00866904, 0.013025655, -0.08530998, -0.0659...</td>\n",
       "      <td>-2.425498</td>\n",
       "      <td>8.621630</td>\n",
       "      <td>X: -2.4255 Y: 8.6216 Content: title: Optimized...</td>\n",
       "    </tr>\n",
       "    <tr>\n",
       "      <th>4</th>\n",
       "      <td>title: Acetylcholinesterase inhibitory activit...</td>\n",
       "      <td>[0.01852814, -0.03028386, -0.07568237, -0.0225...</td>\n",
       "      <td>-2.602903</td>\n",
       "      <td>8.542785</td>\n",
       "      <td>X: -2.6029 Y: 8.5428 Content: title: Acetylcho...</td>\n",
       "    </tr>\n",
       "    <tr>\n",
       "      <th>...</th>\n",
       "      <td>...</td>\n",
       "      <td>...</td>\n",
       "      <td>...</td>\n",
       "      <td>...</td>\n",
       "      <td>...</td>\n",
       "    </tr>\n",
       "    <tr>\n",
       "      <th>1951</th>\n",
       "      <td>title: Effects of Onion (Allium cepa L.) and G...</td>\n",
       "      <td>[-0.03210118, -0.026279455, -0.050988115, 0.03...</td>\n",
       "      <td>5.431913</td>\n",
       "      <td>7.503321</td>\n",
       "      <td>X: 5.4319 Y: 7.5033 Content: title: Effects of...</td>\n",
       "    </tr>\n",
       "    <tr>\n",
       "      <th>1952</th>\n",
       "      <td>title: Methods of Isolation of Active Substanc...</td>\n",
       "      <td>[-0.04116749, -0.033044282, -0.09556768, 0.057...</td>\n",
       "      <td>5.586211</td>\n",
       "      <td>7.031571</td>\n",
       "      <td>X: 5.5862 Y: 7.0316 Content: title: Methods of...</td>\n",
       "    </tr>\n",
       "    <tr>\n",
       "      <th>1953</th>\n",
       "      <td>title: Garlic (Allium sativum L.): a potential...</td>\n",
       "      <td>[-0.061984845, 0.005201916, -0.10571754, 0.041...</td>\n",
       "      <td>5.333734</td>\n",
       "      <td>6.810878</td>\n",
       "      <td>X: 5.3337 Y: 6.8109 Content: title: Garlic (Al...</td>\n",
       "    </tr>\n",
       "    <tr>\n",
       "      <th>1954</th>\n",
       "      <td>title: Character association and path analysis...</td>\n",
       "      <td>[0.002141517, -0.003871272, -0.04897455, 0.057...</td>\n",
       "      <td>6.493972</td>\n",
       "      <td>7.872734</td>\n",
       "      <td>X: 6.494 Y: 7.8727 Content: title: Character a...</td>\n",
       "    </tr>\n",
       "    <tr>\n",
       "      <th>1955</th>\n",
       "      <td>title: Antibacterial effect of different conce...</td>\n",
       "      <td>[-0.028550493, -0.07910663, -0.06341982, -0.00...</td>\n",
       "      <td>4.886277</td>\n",
       "      <td>7.475355</td>\n",
       "      <td>X: 4.8863 Y: 7.4754 Content: title: Antibacter...</td>\n",
       "    </tr>\n",
       "  </tbody>\n",
       "</table>\n",
       "<p>1956 rows × 5 columns</p>\n",
       "</div>"
      ],
      "text/plain": [
       "                                           data_process  \\\n",
       "0     title: Quantitative HPLC Determination and Sta...   \n",
       "1     title: Insecticidal activity of Stemona collin...   \n",
       "2     title: Oral toxicity of various Stemona collin...   \n",
       "3     title: Optimized extraction for high yield of ...   \n",
       "4     title: Acetylcholinesterase inhibitory activit...   \n",
       "...                                                 ...   \n",
       "1951  title: Effects of Onion (Allium cepa L.) and G...   \n",
       "1952  title: Methods of Isolation of Active Substanc...   \n",
       "1953  title: Garlic (Allium sativum L.): a potential...   \n",
       "1954  title: Character association and path analysis...   \n",
       "1955  title: Antibacterial effect of different conce...   \n",
       "\n",
       "                                                 vector         x         y  \\\n",
       "0     [-0.0074133547, -0.017918514, -0.08736931, -0.... -2.303174  8.624246   \n",
       "1     [0.0048623416, -0.044462435, -0.1135353, -0.04... -2.333353  9.045902   \n",
       "2     [0.053052347, -0.042213105, -0.082500555, -0.0... -2.417654  8.920828   \n",
       "3     [0.00866904, 0.013025655, -0.08530998, -0.0659... -2.425498  8.621630   \n",
       "4     [0.01852814, -0.03028386, -0.07568237, -0.0225... -2.602903  8.542785   \n",
       "...                                                 ...       ...       ...   \n",
       "1951  [-0.03210118, -0.026279455, -0.050988115, 0.03...  5.431913  7.503321   \n",
       "1952  [-0.04116749, -0.033044282, -0.09556768, 0.057...  5.586211  7.031571   \n",
       "1953  [-0.061984845, 0.005201916, -0.10571754, 0.041...  5.333734  6.810878   \n",
       "1954  [0.002141517, -0.003871272, -0.04897455, 0.057...  6.493972  7.872734   \n",
       "1955  [-0.028550493, -0.07910663, -0.06341982, -0.00...  4.886277  7.475355   \n",
       "\n",
       "                                           data_display  \n",
       "0     X: -2.3032 Y: 8.6242 Content: title: Quantitat...  \n",
       "1     X: -2.3334 Y: 9.0459 Content: title: Insectici...  \n",
       "2     X: -2.4177 Y: 8.9208 Content: title: Oral toxi...  \n",
       "3     X: -2.4255 Y: 8.6216 Content: title: Optimized...  \n",
       "4     X: -2.6029 Y: 8.5428 Content: title: Acetylcho...  \n",
       "...                                                 ...  \n",
       "1951  X: 5.4319 Y: 7.5033 Content: title: Effects of...  \n",
       "1952  X: 5.5862 Y: 7.0316 Content: title: Methods of...  \n",
       "1953  X: 5.3337 Y: 6.8109 Content: title: Garlic (Al...  \n",
       "1954  X: 6.494 Y: 7.8727 Content: title: Character a...  \n",
       "1955  X: 4.8863 Y: 7.4754 Content: title: Antibacter...  \n",
       "\n",
       "[1956 rows x 5 columns]"
      ]
     },
     "execution_count": 7,
     "metadata": {},
     "output_type": "execute_result"
    }
   ],
   "source": [
    "df"
   ]
  },
  {
   "cell_type": "code",
   "execution_count": 9,
   "id": "897a0315-373d-475d-9b41-d856603aa413",
   "metadata": {},
   "outputs": [],
   "source": [
    "generator = Mini_Bert(cv=CountVectorizer(stop_words=\"english\", ngram_range=(1, 1)), \n",
    "  cluster=KMeans(n_clusters=6), \n",
    "  gemini_token=gemini_key, \n",
    "  n_topic=10, \n",
    "  batch_size=126, \n",
    "  n_sample_summary=15, \n",
    "  verbose=True)"
   ]
  },
  {
   "cell_type": "code",
   "execution_count": 10,
   "id": "b7936eae-75e4-4d0c-b695-646842730103",
   "metadata": {},
   "outputs": [],
   "source": [
    "generator.input(df)"
   ]
  },
  {
   "cell_type": "code",
   "execution_count": 11,
   "id": "61e9372f-0386-4fb2-aaef-392dc2f29360",
   "metadata": {},
   "outputs": [
    {
     "data": {
      "application/vnd.jupyter.widget-view+json": {
       "model_id": "2bd9918886ae4f12b54b98d05b235ea7",
       "version_major": 2,
       "version_minor": 0
      },
      "text/plain": [
       "Cluster :   0%|          | 0/6 [00:00<?, ?it/s]"
      ]
     },
     "metadata": {},
     "output_type": "display_data"
    }
   ],
   "source": [
    "rs, model_log, data = generator.run()"
   ]
  },
  {
   "cell_type": "code",
   "execution_count": 12,
   "id": "41e28efa-caf1-43aa-89d4-07ff5ed1daf3",
   "metadata": {},
   "outputs": [
    {
     "data": {
      "text/html": [
       "<div>\n",
       "<style scoped>\n",
       "    .dataframe tbody tr th:only-of-type {\n",
       "        vertical-align: middle;\n",
       "    }\n",
       "\n",
       "    .dataframe tbody tr th {\n",
       "        vertical-align: top;\n",
       "    }\n",
       "\n",
       "    .dataframe thead th {\n",
       "        text-align: right;\n",
       "    }\n",
       "</style>\n",
       "<table border=\"1\" class=\"dataframe\">\n",
       "  <thead>\n",
       "    <tr style=\"text-align: right;\">\n",
       "      <th></th>\n",
       "      <th>cluster</th>\n",
       "      <th>topword</th>\n",
       "      <th>summary</th>\n",
       "    </tr>\n",
       "  </thead>\n",
       "  <tbody>\n",
       "    <tr>\n",
       "      <th>0</th>\n",
       "      <td>3</td>\n",
       "      <td>[[(compounds, 0.1514), (kp, 0.1721), (kaempfer...</td>\n",
       "      <td>{'header': 'Two new monoterpene esters from Il...</td>\n",
       "    </tr>\n",
       "    <tr>\n",
       "      <th>1</th>\n",
       "      <td>1</td>\n",
       "      <td>[[(study, 0.1261), (analysis, 0.1303), (plant,...</td>\n",
       "      <td>{  \"header\": \"Predictive Analysis of Quality M...</td>\n",
       "    </tr>\n",
       "    <tr>\n",
       "      <th>2</th>\n",
       "      <td>5</td>\n",
       "      <td>[[(title, 0.1664), (abstract, 0.1686), (oil, 0...</td>\n",
       "      <td>{'header': 'Bioadhesive dermal patch as promis...</td>\n",
       "    </tr>\n",
       "    <tr>\n",
       "      <th>3</th>\n",
       "      <td>2</td>\n",
       "      <td>[[(title, 0.1619), (pub_year, 0.1619), (abstra...</td>\n",
       "      <td>{'header': 'Antimicrobial Effects of Garcinia ...</td>\n",
       "    </tr>\n",
       "    <tr>\n",
       "      <th>4</th>\n",
       "      <td>4</td>\n",
       "      <td>[[(extract, 0.1395), (pub_year, 0.1501), (keyw...</td>\n",
       "      <td>{'header': 'Curcuma longa, Linn – A Review', '...</td>\n",
       "    </tr>\n",
       "    <tr>\n",
       "      <th>5</th>\n",
       "      <td>0</td>\n",
       "      <td>[[(extract, 0.1058), (keyword, 0.129), (pub_ye...</td>\n",
       "      <td>{'header': 'Garlic (Allium sativum): A Compreh...</td>\n",
       "    </tr>\n",
       "  </tbody>\n",
       "</table>\n",
       "</div>"
      ],
      "text/plain": [
       "   cluster                                            topword  \\\n",
       "0        3  [[(compounds, 0.1514), (kp, 0.1721), (kaempfer...   \n",
       "1        1  [[(study, 0.1261), (analysis, 0.1303), (plant,...   \n",
       "2        5  [[(title, 0.1664), (abstract, 0.1686), (oil, 0...   \n",
       "3        2  [[(title, 0.1619), (pub_year, 0.1619), (abstra...   \n",
       "4        4  [[(extract, 0.1395), (pub_year, 0.1501), (keyw...   \n",
       "5        0  [[(extract, 0.1058), (keyword, 0.129), (pub_ye...   \n",
       "\n",
       "                                             summary  \n",
       "0  {'header': 'Two new monoterpene esters from Il...  \n",
       "1  {  \"header\": \"Predictive Analysis of Quality M...  \n",
       "2  {'header': 'Bioadhesive dermal patch as promis...  \n",
       "3  {'header': 'Antimicrobial Effects of Garcinia ...  \n",
       "4  {'header': 'Curcuma longa, Linn – A Review', '...  \n",
       "5  {'header': 'Garlic (Allium sativum): A Compreh...  "
      ]
     },
     "execution_count": 12,
     "metadata": {},
     "output_type": "execute_result"
    }
   ],
   "source": [
    "rs"
   ]
  },
  {
   "cell_type": "code",
   "execution_count": 16,
   "id": "b8b46946-7721-496e-ba89-86eae26149ba",
   "metadata": {},
   "outputs": [],
   "source": [
    "rs['summary'] = rs['summary'].apply(eval)"
   ]
  },
  {
   "cell_type": "code",
   "execution_count": 31,
   "id": "94e6b3ac-c5a9-4734-a757-024ed3db6cd9",
   "metadata": {},
   "outputs": [
    {
     "data": {
      "text/plain": [
       "{'header': 'Antimicrobial Effects of Garcinia Mangostana on Cariogenic Microorganisms',\n",
       " 'summary': 'Introduction: Garcinia mangostana commonly called as Mangosteen fruit has been used as an antibacterial agent since age old times. The mangosteen pericarp has proven to have antibacterial effect, but the effect of the same on cariogenic organisms has not been explored. The present study was an attempt to gain a better understanding of the antibacterial effect of mangosteen pericarp on the cariogenic bacteria, to unravel the therapeutic potential for the same.\\n\\nAim: The aim of the study was to assess the antibacterial efficacy of the crude chloroform extract of mangosteen pericarp against cariogenic bacteria.\\n\\nMaterials and methods: The study was done under laboratory settings using an in vitro design. The microorganisms namely Streptococcus mutans, Streptococcus sanguis, Streptococcus salivarius, Streptococcus oralis and Lactobacillus acidophilus were procured from American Type Cell Culture (ATCC) and Microbial Type Culture Collection (MTCC) were revived and lawn cultured. The antibacterial effect of mangosteen pericarp was tested using agar well diffusion method on Trypticase Soy Agar-Blood Agar (TSA-BA) and de Man, Rogosa and Sharpe (MRS) agar media. The standard antiplaque agent chlorhexidine was used as the positive control. This cross-sectional, experimental study was done in Central Research laboratory, Meenakshi Ammal Dental College for period of eight weeks. Minimum Inhibitory Concentration (MIC) and Minimum Bactericidal Concentration (MBC) values were determined by microbroth dilution method. Statistical analysis was done by calculating the mean of the zones of inhibition on tested microorganisms. Mann-Whitney test was done to compare the zones of inhibition of mangosteen and chlorhexidine.\\n\\nResults: The antibacterial bioassay showed the highest activity for Lactobacillus acidophilus (13.6 mm) and Streptococcus sanguis (13.6 mm), whereas, it showed a medium and low activity for Streptococcus oralis (11.3 mm), Streptococcus mutans (10.6 mm) and Streptococcus salivarius (3 mm) respectively. The MBC and MIC values were lowest for Lactobacillus acidophilus (MIC 25 mg/ml, MBC 50 mg/ml) and Streptococcus oralis (MIC 50 mg/ml, MBC 100 mg/ml).\\n\\nConclusion: Mangosteen pericarp extract had a higher zone of inhibition against the tested microorganisms which suggests its potent antibacterial action against cariogenic organisms. However, further analytical studies are needed to isolate the key molecules of mangosteen pericarp, to explore its anticariogenic therapeutic potential on gram negative oral microorganisms.'}"
      ]
     },
     "execution_count": 31,
     "metadata": {},
     "output_type": "execute_result"
    }
   ],
   "source": [
    "rs[rs['cluster']==2]['summary'].values[0]"
   ]
  },
  {
   "cell_type": "code",
   "execution_count": 28,
   "id": "97e126b0-ceea-4695-907c-357853e88492",
   "metadata": {},
   "outputs": [
    {
     "name": "stdout",
     "output_type": "stream",
     "text": [
      "header: Two new monoterpene esters from Illigera paviflora Dunn roots pub_year: 2022 \n",
      "summary: Two new monoterpene esters, illigerates H and I (1 and 2), and six known compounds actinodaphine (3), bulbocupnine (4), stephanine (5), hypserpanine B (6), betulinic acid (7) and gallic acid (8) were obtained from the root of Illigera paviflora Dunn. Their structures were elucidated by spectroscopic analysis. Anti-inflammatory and antioxidant activities of some isolated compounds were assessed. Two monoterpenes 1 and 2 exhibited weak in vitro anti-inflammatory activity (IC50 64.5 ± 5.3 and 79.2 ± 7.5 μM) while compounds 3–6 showed inhibition of α-glucosidase with IC50 values ranged from 87.17 to 118.74 μM.\n",
      "\n",
      "################################################################################################################################################################ \n",
      "\n",
      "header: Predictive Analysis of Quality Markers of Atractylodis Rhizoma Based on Fingerprint and Network Pharmacology \n",
      "summary: Atractylodes chinensis (DC.) Koidz. (A. chinensis) is a perennial herbaceous plant that is widely used as a Chinese medicine herb to gastric diseases. However, the bioactive compounds of this herbal medicine have not been defined, and quality control is imperfect.\n",
      "\n",
      "Background\n",
      "Atractylodes lancea is widely distributed in East Asia, ranging from Amur to south-central China. The rhizome of A. lancea is commonly used in traditional Chinese medicine, however, the quality of products varies across different regions with different geochemical characteristics.\n",
      "\n",
      "Method\n",
      "This study aimed to identify the chemotypes of A. lancea from different areas and screen for chemical markers by quantifying volatile organic compounds (VOCs) using a targeted metabolomics approach based on GC–MS/MS.\n",
      "\n",
      "Results\n",
      "Combining network pharmacological effectiveness and composition specificity with the Q-Marker concept, atractylodin (ATD), β-eudesmol, atractylenolide Ι (AT-I) and atractylenolide III (AT-III) were predicted to be potential Q-Markers of A. chinensis that showed anti-inflammatory, anti-depressant, anti-gastric and antiviral effects by acting on 10 core targets and 20 key pathways.\n",
      "\n",
      "The A. lancea distributed in Hubei, Anhui, Shaanxi, and a region west of Henan province was classified as the Hubei Chemotype (HBA). HBA is characterized by high content of β-eudesmol and hinesol with lower levels of atractylodin and atractylon. In contrast, the Maoshan Chemotype (MA) from Jiangsu, Shandong, Shanxi, Hebei, Inner Mongolia, and other northern regions, exhibited high levels of atractylodin and atractylon. A total of 15 categories of VOCs metabolites were detected and identified, revealing significant differences in the profiles of terpenoid, heterocyclic compound, ester, and ketone among different areas. Multivariate statistics indicated that 6 compounds and 455 metabolites could serve as candidate markers for differentiating A. lancea obtained from the southern, northern, and Maoshan areas.\n",
      "\n",
      "Conclusions\n",
      "The HPLC fingerprinting method established in this study is straight forward, and the identified four active constituents can be utilized as Q-markers of A. chinensis. These findings facilitate effective quality evaluation of A. chinensis and suggest this approach could be applied to evaluate the quality of other herbal medicines\n",
      "\n",
      "This comprehensive analysis provides a chemical fingerprint of selected A. lancea. Our results highlight the potential of metabolite profiling combined with chemometrics for authenticating the geographical origin of A. lancea.\n",
      "\n",
      "################################################################################################################################################################ \n",
      "\n",
      "header: Bioadhesive dermal patch as promising approach for improved antibacterial activity of bioactive compound of Zingiber cassumunar Roxb in ex vivo Staphylococcus aureus skin infection model \n",
      "summary: Infected burn injury has become a significant challenge among skin health problems. Recently, the use of a natural product, as an antibacterial alternative, has increased, particularly in the management of skin infections. Zingiber cassumunar Roxb. has been reported to possess a high amount of curcumin, showing an excellent antibacterial activity against Staphylococcus aureus, a bacterium associated with skin infections. With respect to the selection of drug dosage form, the use of a bioadhesive patch could be beneficial as this system can easily adhere to the infected site in the skin. Here, we present the development of bioadhesive patches containing Zingiber cassumunar Roxb. extract with different types of bioadhesive polymers, namely HPMC, NaCMC, chitosan and Carbopol. The characterization results indicated that the patches were uniform in their drug content, weight and thickness, indicating the reproducibility of the method used. Importantly, the patches were found to have excellent folding endurance values, which were more than 300 times, with surface pH values close to skin pH. The ex vivo dermal delivery showed that among the four bioadhesive polymers studied, HPMC and NaCMC were 1.3–2 times better than chitosan and Carbopol in terms of delivery of curcumin. Essentially, more than 80% of bacterial burdens were killed following the application of HPMC and NaCMC patches in an ex vivo Staphylococcus aureus infection model in rat skin. However, considering that HPMC patches showed lowest bioadhesion property, patches prepared from NaCMC were considered as the optimized formulation. To conclude, this work shows a promising delivery approach for a natural product in the treatment of the skin infections.\n",
      "\n",
      "################################################################################################################################################################ \n",
      "\n",
      "header: Antimicrobial Effects of Garcinia Mangostana on Cariogenic Microorganisms \n",
      "summary: Introduction: Garcinia mangostana commonly called as Mangosteen fruit has been used as an antibacterial agent since age old times. The mangosteen pericarp has proven to have antibacterial effect, but the effect of the same on cariogenic organisms has not been explored. The present study was an attempt to gain a better understanding of the antibacterial effect of mangosteen pericarp on the cariogenic bacteria, to unravel the therapeutic potential for the same.\n",
      "\n",
      "Aim: The aim of the study was to assess the antibacterial efficacy of the crude chloroform extract of mangosteen pericarp against cariogenic bacteria.\n",
      "\n",
      "Materials and methods: The study was done under laboratory settings using an in vitro design. The microorganisms namely Streptococcus mutans, Streptococcus sanguis, Streptococcus salivarius, Streptococcus oralis and Lactobacillus acidophilus were procured from American Type Cell Culture (ATCC) and Microbial Type Culture Collection (MTCC) were revived and lawn cultured. The antibacterial effect of mangosteen pericarp was tested using agar well diffusion method on Trypticase Soy Agar-Blood Agar (TSA-BA) and de Man, Rogosa and Sharpe (MRS) agar media. The standard antiplaque agent chlorhexidine was used as the positive control. This cross-sectional, experimental study was done in Central Research laboratory, Meenakshi Ammal Dental College for period of eight weeks. Minimum Inhibitory Concentration (MIC) and Minimum Bactericidal Concentration (MBC) values were determined by microbroth dilution method. Statistical analysis was done by calculating the mean of the zones of inhibition on tested microorganisms. Mann-Whitney test was done to compare the zones of inhibition of mangosteen and chlorhexidine.\n",
      "\n",
      "Results: The antibacterial bioassay showed the highest activity for Lactobacillus acidophilus (13.6 mm) and Streptococcus sanguis (13.6 mm), whereas, it showed a medium and low activity for Streptococcus oralis (11.3 mm), Streptococcus mutans (10.6 mm) and Streptococcus salivarius (3 mm) respectively. The MBC and MIC values were lowest for Lactobacillus acidophilus (MIC 25 mg/ml, MBC 50 mg/ml) and Streptococcus oralis (MIC 50 mg/ml, MBC 100 mg/ml).\n",
      "\n",
      "Conclusion: Mangosteen pericarp extract had a higher zone of inhibition against the tested microorganisms which suggests its potent antibacterial action against cariogenic organisms. However, further analytical studies are needed to isolate the key molecules of mangosteen pericarp, to explore its anticariogenic therapeutic potential on gram negative oral microorganisms.\n",
      "\n",
      "################################################################################################################################################################ \n",
      "\n",
      "header: Curcuma longa, Linn – A Review \n",
      "summary: Turmeric (Haldi) is the dried rhizome of Curcuma longa Linn. The primary and secondary rhizomes are dug up, steamed or boiled and dried. Turmeric has an aromatic odour and a warm somewhat bitter taste. Large quantities of turmeric are used in the preparation of curries and sauces. It is commonly used as a preservative, food additive and food colouring agent. It forms an integral component of diet. It has shown diverse biological and pharmacological activities. It has been used in Unani Medicine (Tibb-e-Unani) and other Traditional System of Medicine from time immemorial. Both East and West have held its medicinal properties in high regard. The present review highlights the traditional uses and pharmacological properties of the plant.\n",
      "\n",
      "################################################################################################################################################################ \n",
      "\n",
      "header: Garlic (Allium sativum): A Comprehensive Review of Phytochemicals, Pharmacology, and Health Implications \n",
      "summary: Garlic has been used for centuries for its medicinal properties and is now widely recognized as a functional food with a range of health benefits. This review aims to provide a comprehensive overview of the phytochemicals found in garlic, their pharmacological activities, and the potential health implications of garlic consumption.\n",
      "\n",
      "Phytochemicals in Garlic:\n",
      "- Garlic is a rich source of organosulfur compounds, including allicin, diallyl disulfide, and diallyl trisulfide.\n",
      "- These compounds are responsible for the characteristic odor and taste of garlic and have been shown to possess a wide range of biological activities, including antioxidant, anti-inflammatory, and antimicrobial properties.\n",
      "- Garlic also contains a variety of flavonoids, phenolic acids, and other bioactive compounds that contribute to its health-promoting effects.\n",
      "\n",
      "Pharmacological Activities of Garlic:\n",
      "- Garlic has been shown to possess a variety of pharmacological activities, including:\n",
      "-- Antihypertensive: Garlic has been shown to lower blood pressure in both animals and humans.\n",
      "-- Antiplatelet: Garlic has been shown to inhibit platelet aggregation and reduce the risk of blood clots.\n",
      "-- Anti-inflammatory: Garlic has been shown to reduce inflammation in both animals and humans.\n",
      "-- Antioxidant: Garlic has been shown to protect against oxidative damage, which is a major risk factor for a variety of chronic diseases.\n",
      "-- Antimicrobial: Garlic has been shown to inhibit the growth of a wide range of bacteria, viruses, and fungi.\n",
      "\n",
      "Health Implications of Garlic Consumption:\n",
      "- Garlic has been shown to have a number of potential health benefits, including:\n",
      "-- Cardiovascular health: Garlic has been shown to reduce the risk of heart disease, stroke, and other cardiovascular events.\n",
      "-- Cancer prevention: Garlic has been shown to inhibit the growth of cancer cells and reduce the risk of certain types of cancer, such as stomach cancer and colorectal cancer.\n",
      "-- Immune function: Garlic has been shown to boost immune function and protect against infections.\n",
      "-- Diabetes management: Garlic has been shown to help control blood sugar levels and reduce the risk of complications associated with diabetes.\n",
      "\n",
      "Overall, garlic is a valuable functional food with a range of health benefits. Its phytochemicals have a variety of pharmacological activities that contribute to its ability to promote health and prevent disease.\n",
      "\n",
      "**Keywords:** Garlic, Allium sativum, Phytochemicals, Pharmacology, Health benefits\n",
      "\n",
      "################################################################################################################################################################ \n",
      "\n"
     ]
    }
   ],
   "source": [
    "for cluster in rs.cluster.unique() : \n",
    "    tmp_rs = rs[rs['cluster']==cluster]\n",
    "    tmp_dict = tmp_rs['summary'].values[0]\n",
    "    print(f'header: {tmp_dict.get('header')} \\nsummary: {tmp_dict.get('summary')}\\n')\n",
    "    print(f'#####'*32,'\\n')"
   ]
  },
  {
   "cell_type": "code",
   "execution_count": 13,
   "id": "e5eea687-2fb9-4068-811d-930eaf5c1375",
   "metadata": {},
   "outputs": [
    {
     "data": {
      "text/html": [
       "<div>\n",
       "<style scoped>\n",
       "    .dataframe tbody tr th:only-of-type {\n",
       "        vertical-align: middle;\n",
       "    }\n",
       "\n",
       "    .dataframe tbody tr th {\n",
       "        vertical-align: top;\n",
       "    }\n",
       "\n",
       "    .dataframe thead th {\n",
       "        text-align: right;\n",
       "    }\n",
       "</style>\n",
       "<table border=\"1\" class=\"dataframe\">\n",
       "  <thead>\n",
       "    <tr style=\"text-align: right;\">\n",
       "      <th></th>\n",
       "      <th>data_process</th>\n",
       "      <th>vector</th>\n",
       "      <th>x</th>\n",
       "      <th>y</th>\n",
       "      <th>data_display</th>\n",
       "      <th>cluster</th>\n",
       "    </tr>\n",
       "  </thead>\n",
       "  <tbody>\n",
       "    <tr>\n",
       "      <th>0</th>\n",
       "      <td>title: Quantitative HPLC Determination and Sta...</td>\n",
       "      <td>[-0.0074133547, -0.017918514, -0.08736931, -0....</td>\n",
       "      <td>-2.303174</td>\n",
       "      <td>8.624246</td>\n",
       "      <td>X: -2.3032 Y: 8.6242 Content: title: Quantitat...</td>\n",
       "      <td>3</td>\n",
       "    </tr>\n",
       "    <tr>\n",
       "      <th>1</th>\n",
       "      <td>title: Insecticidal activity of Stemona collin...</td>\n",
       "      <td>[0.0048623416, -0.044462435, -0.1135353, -0.04...</td>\n",
       "      <td>-2.333353</td>\n",
       "      <td>9.045902</td>\n",
       "      <td>X: -2.3334 Y: 9.0459 Content: title: Insectici...</td>\n",
       "      <td>3</td>\n",
       "    </tr>\n",
       "    <tr>\n",
       "      <th>2</th>\n",
       "      <td>title: Oral toxicity of various Stemona collin...</td>\n",
       "      <td>[0.053052347, -0.042213105, -0.082500555, -0.0...</td>\n",
       "      <td>-2.417654</td>\n",
       "      <td>8.920828</td>\n",
       "      <td>X: -2.4177 Y: 8.9208 Content: title: Oral toxi...</td>\n",
       "      <td>3</td>\n",
       "    </tr>\n",
       "    <tr>\n",
       "      <th>3</th>\n",
       "      <td>title: Optimized extraction for high yield of ...</td>\n",
       "      <td>[0.00866904, 0.013025655, -0.08530998, -0.0659...</td>\n",
       "      <td>-2.425498</td>\n",
       "      <td>8.621630</td>\n",
       "      <td>X: -2.4255 Y: 8.6216 Content: title: Optimized...</td>\n",
       "      <td>3</td>\n",
       "    </tr>\n",
       "    <tr>\n",
       "      <th>4</th>\n",
       "      <td>title: Acetylcholinesterase inhibitory activit...</td>\n",
       "      <td>[0.01852814, -0.03028386, -0.07568237, -0.0225...</td>\n",
       "      <td>-2.602903</td>\n",
       "      <td>8.542785</td>\n",
       "      <td>X: -2.6029 Y: 8.5428 Content: title: Acetylcho...</td>\n",
       "      <td>3</td>\n",
       "    </tr>\n",
       "    <tr>\n",
       "      <th>...</th>\n",
       "      <td>...</td>\n",
       "      <td>...</td>\n",
       "      <td>...</td>\n",
       "      <td>...</td>\n",
       "      <td>...</td>\n",
       "      <td>...</td>\n",
       "    </tr>\n",
       "    <tr>\n",
       "      <th>1951</th>\n",
       "      <td>title: Effects of Onion (Allium cepa L.) and G...</td>\n",
       "      <td>[-0.03210118, -0.026279455, -0.050988115, 0.03...</td>\n",
       "      <td>5.431913</td>\n",
       "      <td>7.503321</td>\n",
       "      <td>X: 5.4319 Y: 7.5033 Content: title: Effects of...</td>\n",
       "      <td>0</td>\n",
       "    </tr>\n",
       "    <tr>\n",
       "      <th>1952</th>\n",
       "      <td>title: Methods of Isolation of Active Substanc...</td>\n",
       "      <td>[-0.04116749, -0.033044282, -0.09556768, 0.057...</td>\n",
       "      <td>5.586211</td>\n",
       "      <td>7.031571</td>\n",
       "      <td>X: 5.5862 Y: 7.0316 Content: title: Methods of...</td>\n",
       "      <td>0</td>\n",
       "    </tr>\n",
       "    <tr>\n",
       "      <th>1953</th>\n",
       "      <td>title: Garlic (Allium sativum L.): a potential...</td>\n",
       "      <td>[-0.061984845, 0.005201916, -0.10571754, 0.041...</td>\n",
       "      <td>5.333734</td>\n",
       "      <td>6.810878</td>\n",
       "      <td>X: 5.3337 Y: 6.8109 Content: title: Garlic (Al...</td>\n",
       "      <td>0</td>\n",
       "    </tr>\n",
       "    <tr>\n",
       "      <th>1954</th>\n",
       "      <td>title: Character association and path analysis...</td>\n",
       "      <td>[0.002141517, -0.003871272, -0.04897455, 0.057...</td>\n",
       "      <td>6.493972</td>\n",
       "      <td>7.872734</td>\n",
       "      <td>X: 6.494 Y: 7.8727 Content: title: Character a...</td>\n",
       "      <td>0</td>\n",
       "    </tr>\n",
       "    <tr>\n",
       "      <th>1955</th>\n",
       "      <td>title: Antibacterial effect of different conce...</td>\n",
       "      <td>[-0.028550493, -0.07910663, -0.06341982, -0.00...</td>\n",
       "      <td>4.886277</td>\n",
       "      <td>7.475355</td>\n",
       "      <td>X: 4.8863 Y: 7.4754 Content: title: Antibacter...</td>\n",
       "      <td>0</td>\n",
       "    </tr>\n",
       "  </tbody>\n",
       "</table>\n",
       "<p>1956 rows × 6 columns</p>\n",
       "</div>"
      ],
      "text/plain": [
       "                                           data_process  \\\n",
       "0     title: Quantitative HPLC Determination and Sta...   \n",
       "1     title: Insecticidal activity of Stemona collin...   \n",
       "2     title: Oral toxicity of various Stemona collin...   \n",
       "3     title: Optimized extraction for high yield of ...   \n",
       "4     title: Acetylcholinesterase inhibitory activit...   \n",
       "...                                                 ...   \n",
       "1951  title: Effects of Onion (Allium cepa L.) and G...   \n",
       "1952  title: Methods of Isolation of Active Substanc...   \n",
       "1953  title: Garlic (Allium sativum L.): a potential...   \n",
       "1954  title: Character association and path analysis...   \n",
       "1955  title: Antibacterial effect of different conce...   \n",
       "\n",
       "                                                 vector         x         y  \\\n",
       "0     [-0.0074133547, -0.017918514, -0.08736931, -0.... -2.303174  8.624246   \n",
       "1     [0.0048623416, -0.044462435, -0.1135353, -0.04... -2.333353  9.045902   \n",
       "2     [0.053052347, -0.042213105, -0.082500555, -0.0... -2.417654  8.920828   \n",
       "3     [0.00866904, 0.013025655, -0.08530998, -0.0659... -2.425498  8.621630   \n",
       "4     [0.01852814, -0.03028386, -0.07568237, -0.0225... -2.602903  8.542785   \n",
       "...                                                 ...       ...       ...   \n",
       "1951  [-0.03210118, -0.026279455, -0.050988115, 0.03...  5.431913  7.503321   \n",
       "1952  [-0.04116749, -0.033044282, -0.09556768, 0.057...  5.586211  7.031571   \n",
       "1953  [-0.061984845, 0.005201916, -0.10571754, 0.041...  5.333734  6.810878   \n",
       "1954  [0.002141517, -0.003871272, -0.04897455, 0.057...  6.493972  7.872734   \n",
       "1955  [-0.028550493, -0.07910663, -0.06341982, -0.00...  4.886277  7.475355   \n",
       "\n",
       "                                           data_display  cluster  \n",
       "0     X: -2.3032 Y: 8.6242 Content: title: Quantitat...        3  \n",
       "1     X: -2.3334 Y: 9.0459 Content: title: Insectici...        3  \n",
       "2     X: -2.4177 Y: 8.9208 Content: title: Oral toxi...        3  \n",
       "3     X: -2.4255 Y: 8.6216 Content: title: Optimized...        3  \n",
       "4     X: -2.6029 Y: 8.5428 Content: title: Acetylcho...        3  \n",
       "...                                                 ...      ...  \n",
       "1951  X: 5.4319 Y: 7.5033 Content: title: Effects of...        0  \n",
       "1952  X: 5.5862 Y: 7.0316 Content: title: Methods of...        0  \n",
       "1953  X: 5.3337 Y: 6.8109 Content: title: Garlic (Al...        0  \n",
       "1954  X: 6.494 Y: 7.8727 Content: title: Character a...        0  \n",
       "1955  X: 4.8863 Y: 7.4754 Content: title: Antibacter...        0  \n",
       "\n",
       "[1956 rows x 6 columns]"
      ]
     },
     "execution_count": 13,
     "metadata": {},
     "output_type": "execute_result"
    }
   ],
   "source": [
    "data"
   ]
  },
  {
   "cell_type": "code",
   "execution_count": 32,
   "id": "506bae77-0c8c-4c03-86b9-1fdc443aff51",
   "metadata": {},
   "outputs": [],
   "source": [
    "data.to_parquet('./output_test/data.parquet')"
   ]
  },
  {
   "cell_type": "code",
   "execution_count": 33,
   "id": "9c22f627-67e9-471c-adee-b26c3f55cd75",
   "metadata": {},
   "outputs": [],
   "source": [
    "import pickle \n",
    "with open('./output_test/model_log.pkl', 'wb') as f : \n",
    "    pickle.dump(model_log, f)"
   ]
  },
  {
   "cell_type": "code",
   "execution_count": 34,
   "id": "e4e62c5b-cc23-44f5-824f-aa343d16cf84",
   "metadata": {},
   "outputs": [
    {
     "data": {
      "text/plain": [
       "{'clustering': KMeans(n_clusters=6),\n",
       " 'cv': CountVectorizer(stop_words='english')}"
      ]
     },
     "execution_count": 34,
     "metadata": {},
     "output_type": "execute_result"
    }
   ],
   "source": [
    "model_log"
   ]
  },
  {
   "cell_type": "code",
   "execution_count": null,
   "id": "72f4e5f4-5586-4ef9-bcdb-82b277d50c2e",
   "metadata": {},
   "outputs": [],
   "source": []
  }
 ],
 "metadata": {
  "kernelspec": {
   "display_name": "env-wizmap",
   "language": "python",
   "name": "env-wizmap"
  },
  "language_info": {
   "codemirror_mode": {
    "name": "ipython",
    "version": 3
   },
   "file_extension": ".py",
   "mimetype": "text/x-python",
   "name": "python",
   "nbconvert_exporter": "python",
   "pygments_lexer": "ipython3",
   "version": "3.12.0"
  }
 },
 "nbformat": 4,
 "nbformat_minor": 5
}
