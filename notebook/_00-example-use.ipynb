{
 "cells": [
  {
   "cell_type": "markdown",
   "id": "29f5b08e-ccbe-497b-aedc-2fbce730b134",
   "metadata": {},
   "source": [
    "# Example \n",
    "way to use this library"
   ]
  },
  {
   "cell_type": "code",
   "execution_count": 1,
   "id": "0214fb81-8ef3-41d4-a184-02d93191a877",
   "metadata": {
    "scrolled": true
   },
   "outputs": [
    {
     "name": "stdout",
     "output_type": "stream",
     "text": [
      "The history saving thread hit an unexpected error (OperationalError('attempt to write a readonly database')).History will not be written to the database.\n",
      "Collecting git+https://github.com/Dont-HurtMe/TopicModel-service.git\n",
      "  Cloning https://github.com/Dont-HurtMe/TopicModel-service.git to /private/var/folders/xf/1xvzht_s2k1_t5hs1h05rb3h0000gn/T/pip-req-build-pcdm5sqp\n",
      "  Running command git clone --filter=blob:none --quiet https://github.com/Dont-HurtMe/TopicModel-service.git /private/var/folders/xf/1xvzht_s2k1_t5hs1h05rb3h0000gn/T/pip-req-build-pcdm5sqp\n",
      "  Resolved https://github.com/Dont-HurtMe/TopicModel-service.git to commit 96f975d5cda35b3d5968c7712f7947eb71b6d2fc\n",
      "  Preparing metadata (setup.py) ... \u001b[?25ldone\n",
      "\u001b[?25hCollecting http_server@ git+https://github.com/SothanaV/http-server.git@62b5a7d11b6de0ac574887afdcc3a4385cd53eb7 (from dsm_wizservices==0.0.1)\n",
      "  Cloning https://github.com/SothanaV/http-server.git (to revision 62b5a7d11b6de0ac574887afdcc3a4385cd53eb7) to /private/var/folders/xf/1xvzht_s2k1_t5hs1h05rb3h0000gn/T/pip-install-kgu_disw/http-server_ac34c85ebb0041ce8f0651418ac71589\n",
      "  Running command git clone --filter=blob:none --quiet https://github.com/SothanaV/http-server.git /private/var/folders/xf/1xvzht_s2k1_t5hs1h05rb3h0000gn/T/pip-install-kgu_disw/http-server_ac34c85ebb0041ce8f0651418ac71589\n",
      "  Running command git rev-parse -q --verify 'sha^62b5a7d11b6de0ac574887afdcc3a4385cd53eb7'\n",
      "  Running command git fetch -q https://github.com/SothanaV/http-server.git 62b5a7d11b6de0ac574887afdcc3a4385cd53eb7\n",
      "  Resolved https://github.com/SothanaV/http-server.git to commit 62b5a7d11b6de0ac574887afdcc3a4385cd53eb7\n",
      "  Preparing metadata (setup.py) ... \u001b[?25ldone\n",
      "\u001b[?25hRequirement already satisfied: pandas in /Users/peetiphartsuebpeng/Documents/CONDA_ENV/env-wizmap/lib/python3.12/site-packages (from dsm_wizservices==0.0.1) (2.2.2)\n",
      "Requirement already satisfied: numpy in /Users/peetiphartsuebpeng/Documents/CONDA_ENV/env-wizmap/lib/python3.12/site-packages (from dsm_wizservices==0.0.1) (1.26.4)\n",
      "Requirement already satisfied: pickles in /Users/peetiphartsuebpeng/Documents/CONDA_ENV/env-wizmap/lib/python3.12/site-packages (from dsm_wizservices==0.0.1) (0.1.1)\n",
      "Requirement already satisfied: tqdm in /Users/peetiphartsuebpeng/Documents/CONDA_ENV/env-wizmap/lib/python3.12/site-packages (from dsm_wizservices==0.0.1) (4.66.4)\n",
      "Requirement already satisfied: scipy in /Users/peetiphartsuebpeng/Documents/CONDA_ENV/env-wizmap/lib/python3.12/site-packages (from dsm_wizservices==0.0.1) (1.13.1)\n",
      "Requirement already satisfied: sentence-transformers in /Users/peetiphartsuebpeng/Documents/CONDA_ENV/env-wizmap/lib/python3.12/site-packages (from dsm_wizservices==0.0.1) (3.0.0)\n",
      "Requirement already satisfied: umap-learn in /Users/peetiphartsuebpeng/Documents/CONDA_ENV/env-wizmap/lib/python3.12/site-packages (from dsm_wizservices==0.0.1) (0.5.6)\n",
      "Requirement already satisfied: matplotlib in /Users/peetiphartsuebpeng/Documents/CONDA_ENV/env-wizmap/lib/python3.12/site-packages (from dsm_wizservices==0.0.1) (3.9.0)\n",
      "Requirement already satisfied: scikit-learn in /Users/peetiphartsuebpeng/Documents/CONDA_ENV/env-wizmap/lib/python3.12/site-packages (from dsm_wizservices==0.0.1) (1.5.0)\n",
      "Requirement already satisfied: openai in /Users/peetiphartsuebpeng/Documents/CONDA_ENV/env-wizmap/lib/python3.12/site-packages (from dsm_wizservices==0.0.1) (0.28.0)\n",
      "Requirement already satisfied: google-generativeai in /Users/peetiphartsuebpeng/Documents/CONDA_ENV/env-wizmap/lib/python3.12/site-packages (from dsm_wizservices==0.0.1) (0.7.0)\n",
      "Requirement already satisfied: quadtreed3 in /Users/peetiphartsuebpeng/Documents/CONDA_ENV/env-wizmap/lib/python3.12/site-packages (from dsm_wizservices==0.0.1) (0.1.1)\n",
      "Requirement already satisfied: ndjson in /Users/peetiphartsuebpeng/Documents/CONDA_ENV/env-wizmap/lib/python3.12/site-packages (from dsm_wizservices==0.0.1) (0.3.1)\n",
      "Requirement already satisfied: google-ai-generativelanguage==0.6.5 in /Users/peetiphartsuebpeng/Documents/CONDA_ENV/env-wizmap/lib/python3.12/site-packages (from google-generativeai->dsm_wizservices==0.0.1) (0.6.5)\n",
      "Requirement already satisfied: google-api-core in /Users/peetiphartsuebpeng/Documents/CONDA_ENV/env-wizmap/lib/python3.12/site-packages (from google-generativeai->dsm_wizservices==0.0.1) (2.19.0)\n",
      "Requirement already satisfied: google-api-python-client in /Users/peetiphartsuebpeng/Documents/CONDA_ENV/env-wizmap/lib/python3.12/site-packages (from google-generativeai->dsm_wizservices==0.0.1) (2.134.0)\n",
      "Requirement already satisfied: google-auth>=2.15.0 in /Users/peetiphartsuebpeng/Documents/CONDA_ENV/env-wizmap/lib/python3.12/site-packages (from google-generativeai->dsm_wizservices==0.0.1) (2.30.0)\n",
      "Requirement already satisfied: protobuf in /Users/peetiphartsuebpeng/Documents/CONDA_ENV/env-wizmap/lib/python3.12/site-packages (from google-generativeai->dsm_wizservices==0.0.1) (4.25.3)\n",
      "Requirement already satisfied: pydantic in /Users/peetiphartsuebpeng/Documents/CONDA_ENV/env-wizmap/lib/python3.12/site-packages (from google-generativeai->dsm_wizservices==0.0.1) (2.7.3)\n",
      "Requirement already satisfied: typing-extensions in /Users/peetiphartsuebpeng/Documents/CONDA_ENV/env-wizmap/lib/python3.12/site-packages (from google-generativeai->dsm_wizservices==0.0.1) (4.12.1)\n",
      "Requirement already satisfied: proto-plus<2.0.0dev,>=1.22.3 in /Users/peetiphartsuebpeng/Documents/CONDA_ENV/env-wizmap/lib/python3.12/site-packages (from google-ai-generativelanguage==0.6.5->google-generativeai->dsm_wizservices==0.0.1) (1.24.0)\n",
      "Requirement already satisfied: contourpy>=1.0.1 in /Users/peetiphartsuebpeng/Documents/CONDA_ENV/env-wizmap/lib/python3.12/site-packages (from matplotlib->dsm_wizservices==0.0.1) (1.2.1)\n",
      "Requirement already satisfied: cycler>=0.10 in /Users/peetiphartsuebpeng/Documents/CONDA_ENV/env-wizmap/lib/python3.12/site-packages (from matplotlib->dsm_wizservices==0.0.1) (0.12.1)\n",
      "Requirement already satisfied: fonttools>=4.22.0 in /Users/peetiphartsuebpeng/Documents/CONDA_ENV/env-wizmap/lib/python3.12/site-packages (from matplotlib->dsm_wizservices==0.0.1) (4.53.0)\n",
      "Requirement already satisfied: kiwisolver>=1.3.1 in /Users/peetiphartsuebpeng/Documents/CONDA_ENV/env-wizmap/lib/python3.12/site-packages (from matplotlib->dsm_wizservices==0.0.1) (1.4.5)\n",
      "Requirement already satisfied: packaging>=20.0 in /Users/peetiphartsuebpeng/Documents/CONDA_ENV/env-wizmap/lib/python3.12/site-packages (from matplotlib->dsm_wizservices==0.0.1) (24.0)\n",
      "Requirement already satisfied: pillow>=8 in /Users/peetiphartsuebpeng/Documents/CONDA_ENV/env-wizmap/lib/python3.12/site-packages (from matplotlib->dsm_wizservices==0.0.1) (10.3.0)\n",
      "Requirement already satisfied: pyparsing>=2.3.1 in /Users/peetiphartsuebpeng/Documents/CONDA_ENV/env-wizmap/lib/python3.12/site-packages (from matplotlib->dsm_wizservices==0.0.1) (3.1.2)\n",
      "Requirement already satisfied: python-dateutil>=2.7 in /Users/peetiphartsuebpeng/Documents/CONDA_ENV/env-wizmap/lib/python3.12/site-packages (from matplotlib->dsm_wizservices==0.0.1) (2.9.0.post0)\n",
      "Requirement already satisfied: requests>=2.20 in /Users/peetiphartsuebpeng/Documents/CONDA_ENV/env-wizmap/lib/python3.12/site-packages (from openai->dsm_wizservices==0.0.1) (2.32.3)\n",
      "Requirement already satisfied: aiohttp in /Users/peetiphartsuebpeng/Documents/CONDA_ENV/env-wizmap/lib/python3.12/site-packages (from openai->dsm_wizservices==0.0.1) (3.9.5)\n",
      "Requirement already satisfied: pytz>=2020.1 in /Users/peetiphartsuebpeng/Documents/CONDA_ENV/env-wizmap/lib/python3.12/site-packages (from pandas->dsm_wizservices==0.0.1) (2024.1)\n",
      "Requirement already satisfied: tzdata>=2022.7 in /Users/peetiphartsuebpeng/Documents/CONDA_ENV/env-wizmap/lib/python3.12/site-packages (from pandas->dsm_wizservices==0.0.1) (2024.1)\n",
      "Requirement already satisfied: joblib>=1.2.0 in /Users/peetiphartsuebpeng/Documents/CONDA_ENV/env-wizmap/lib/python3.12/site-packages (from scikit-learn->dsm_wizservices==0.0.1) (1.4.2)\n",
      "Requirement already satisfied: threadpoolctl>=3.1.0 in /Users/peetiphartsuebpeng/Documents/CONDA_ENV/env-wizmap/lib/python3.12/site-packages (from scikit-learn->dsm_wizservices==0.0.1) (3.5.0)\n",
      "Requirement already satisfied: transformers<5.0.0,>=4.34.0 in /Users/peetiphartsuebpeng/Documents/CONDA_ENV/env-wizmap/lib/python3.12/site-packages (from sentence-transformers->dsm_wizservices==0.0.1) (4.41.2)\n",
      "Requirement already satisfied: torch>=1.11.0 in /Users/peetiphartsuebpeng/Documents/CONDA_ENV/env-wizmap/lib/python3.12/site-packages (from sentence-transformers->dsm_wizservices==0.0.1) (2.3.1)\n",
      "Requirement already satisfied: huggingface-hub>=0.15.1 in /Users/peetiphartsuebpeng/Documents/CONDA_ENV/env-wizmap/lib/python3.12/site-packages (from sentence-transformers->dsm_wizservices==0.0.1) (0.23.2)\n",
      "Requirement already satisfied: numba>=0.51.2 in /Users/peetiphartsuebpeng/Documents/CONDA_ENV/env-wizmap/lib/python3.12/site-packages (from umap-learn->dsm_wizservices==0.0.1) (0.59.1)\n",
      "Requirement already satisfied: pynndescent>=0.5 in /Users/peetiphartsuebpeng/Documents/CONDA_ENV/env-wizmap/lib/python3.12/site-packages (from umap-learn->dsm_wizservices==0.0.1) (0.5.12)\n",
      "Requirement already satisfied: googleapis-common-protos<2.0.dev0,>=1.56.2 in /Users/peetiphartsuebpeng/Documents/CONDA_ENV/env-wizmap/lib/python3.12/site-packages (from google-api-core->google-generativeai->dsm_wizservices==0.0.1) (1.63.1)\n",
      "Requirement already satisfied: cachetools<6.0,>=2.0.0 in /Users/peetiphartsuebpeng/Documents/CONDA_ENV/env-wizmap/lib/python3.12/site-packages (from google-auth>=2.15.0->google-generativeai->dsm_wizservices==0.0.1) (5.3.3)\n",
      "Requirement already satisfied: pyasn1-modules>=0.2.1 in /Users/peetiphartsuebpeng/Documents/CONDA_ENV/env-wizmap/lib/python3.12/site-packages (from google-auth>=2.15.0->google-generativeai->dsm_wizservices==0.0.1) (0.4.0)\n",
      "Requirement already satisfied: rsa<5,>=3.1.4 in /Users/peetiphartsuebpeng/Documents/CONDA_ENV/env-wizmap/lib/python3.12/site-packages (from google-auth>=2.15.0->google-generativeai->dsm_wizservices==0.0.1) (4.9)\n",
      "Requirement already satisfied: filelock in /Users/peetiphartsuebpeng/Documents/CONDA_ENV/env-wizmap/lib/python3.12/site-packages (from huggingface-hub>=0.15.1->sentence-transformers->dsm_wizservices==0.0.1) (3.14.0)\n",
      "Requirement already satisfied: fsspec>=2023.5.0 in /Users/peetiphartsuebpeng/Documents/CONDA_ENV/env-wizmap/lib/python3.12/site-packages (from huggingface-hub>=0.15.1->sentence-transformers->dsm_wizservices==0.0.1) (2024.3.1)\n",
      "Requirement already satisfied: pyyaml>=5.1 in /Users/peetiphartsuebpeng/Documents/CONDA_ENV/env-wizmap/lib/python3.12/site-packages (from huggingface-hub>=0.15.1->sentence-transformers->dsm_wizservices==0.0.1) (6.0.1)\n",
      "Requirement already satisfied: llvmlite<0.43,>=0.42.0dev0 in /Users/peetiphartsuebpeng/Documents/CONDA_ENV/env-wizmap/lib/python3.12/site-packages (from numba>=0.51.2->umap-learn->dsm_wizservices==0.0.1) (0.42.0)\n",
      "Requirement already satisfied: six>=1.5 in /Users/peetiphartsuebpeng/Documents/CONDA_ENV/env-wizmap/lib/python3.12/site-packages (from python-dateutil>=2.7->matplotlib->dsm_wizservices==0.0.1) (1.16.0)\n",
      "Requirement already satisfied: charset-normalizer<4,>=2 in /Users/peetiphartsuebpeng/Documents/CONDA_ENV/env-wizmap/lib/python3.12/site-packages (from requests>=2.20->openai->dsm_wizservices==0.0.1) (3.3.2)\n",
      "Requirement already satisfied: idna<4,>=2.5 in /Users/peetiphartsuebpeng/Documents/CONDA_ENV/env-wizmap/lib/python3.12/site-packages (from requests>=2.20->openai->dsm_wizservices==0.0.1) (3.7)\n",
      "Requirement already satisfied: urllib3<3,>=1.21.1 in /Users/peetiphartsuebpeng/Documents/CONDA_ENV/env-wizmap/lib/python3.12/site-packages (from requests>=2.20->openai->dsm_wizservices==0.0.1) (2.2.1)\n",
      "Requirement already satisfied: certifi>=2017.4.17 in /Users/peetiphartsuebpeng/Documents/CONDA_ENV/env-wizmap/lib/python3.12/site-packages (from requests>=2.20->openai->dsm_wizservices==0.0.1) (2024.6.2)\n",
      "Requirement already satisfied: sympy in /Users/peetiphartsuebpeng/Documents/CONDA_ENV/env-wizmap/lib/python3.12/site-packages (from torch>=1.11.0->sentence-transformers->dsm_wizservices==0.0.1) (1.12.1)\n",
      "Requirement already satisfied: networkx in /Users/peetiphartsuebpeng/Documents/CONDA_ENV/env-wizmap/lib/python3.12/site-packages (from torch>=1.11.0->sentence-transformers->dsm_wizservices==0.0.1) (3.3)\n",
      "Requirement already satisfied: jinja2 in /Users/peetiphartsuebpeng/Documents/CONDA_ENV/env-wizmap/lib/python3.12/site-packages (from torch>=1.11.0->sentence-transformers->dsm_wizservices==0.0.1) (3.1.4)\n",
      "Requirement already satisfied: regex!=2019.12.17 in /Users/peetiphartsuebpeng/Documents/CONDA_ENV/env-wizmap/lib/python3.12/site-packages (from transformers<5.0.0,>=4.34.0->sentence-transformers->dsm_wizservices==0.0.1) (2024.5.15)\n",
      "Requirement already satisfied: tokenizers<0.20,>=0.19 in /Users/peetiphartsuebpeng/Documents/CONDA_ENV/env-wizmap/lib/python3.12/site-packages (from transformers<5.0.0,>=4.34.0->sentence-transformers->dsm_wizservices==0.0.1) (0.19.1)\n",
      "Requirement already satisfied: safetensors>=0.4.1 in /Users/peetiphartsuebpeng/Documents/CONDA_ENV/env-wizmap/lib/python3.12/site-packages (from transformers<5.0.0,>=4.34.0->sentence-transformers->dsm_wizservices==0.0.1) (0.4.3)\n",
      "Requirement already satisfied: aiosignal>=1.1.2 in /Users/peetiphartsuebpeng/Documents/CONDA_ENV/env-wizmap/lib/python3.12/site-packages (from aiohttp->openai->dsm_wizservices==0.0.1) (1.3.1)\n",
      "Requirement already satisfied: attrs>=17.3.0 in /Users/peetiphartsuebpeng/Documents/CONDA_ENV/env-wizmap/lib/python3.12/site-packages (from aiohttp->openai->dsm_wizservices==0.0.1) (23.2.0)\n",
      "Requirement already satisfied: frozenlist>=1.1.1 in /Users/peetiphartsuebpeng/Documents/CONDA_ENV/env-wizmap/lib/python3.12/site-packages (from aiohttp->openai->dsm_wizservices==0.0.1) (1.4.1)\n",
      "Requirement already satisfied: multidict<7.0,>=4.5 in /Users/peetiphartsuebpeng/Documents/CONDA_ENV/env-wizmap/lib/python3.12/site-packages (from aiohttp->openai->dsm_wizservices==0.0.1) (6.0.5)\n",
      "Requirement already satisfied: yarl<2.0,>=1.0 in /Users/peetiphartsuebpeng/Documents/CONDA_ENV/env-wizmap/lib/python3.12/site-packages (from aiohttp->openai->dsm_wizservices==0.0.1) (1.9.4)\n",
      "Requirement already satisfied: httplib2<1.dev0,>=0.19.0 in /Users/peetiphartsuebpeng/Documents/CONDA_ENV/env-wizmap/lib/python3.12/site-packages (from google-api-python-client->google-generativeai->dsm_wizservices==0.0.1) (0.22.0)\n",
      "Requirement already satisfied: google-auth-httplib2<1.0.0,>=0.2.0 in /Users/peetiphartsuebpeng/Documents/CONDA_ENV/env-wizmap/lib/python3.12/site-packages (from google-api-python-client->google-generativeai->dsm_wizservices==0.0.1) (0.2.0)\n",
      "Requirement already satisfied: uritemplate<5,>=3.0.1 in /Users/peetiphartsuebpeng/Documents/CONDA_ENV/env-wizmap/lib/python3.12/site-packages (from google-api-python-client->google-generativeai->dsm_wizservices==0.0.1) (4.1.1)\n",
      "Requirement already satisfied: annotated-types>=0.4.0 in /Users/peetiphartsuebpeng/Documents/CONDA_ENV/env-wizmap/lib/python3.12/site-packages (from pydantic->google-generativeai->dsm_wizservices==0.0.1) (0.7.0)\n",
      "Requirement already satisfied: pydantic-core==2.18.4 in /Users/peetiphartsuebpeng/Documents/CONDA_ENV/env-wizmap/lib/python3.12/site-packages (from pydantic->google-generativeai->dsm_wizservices==0.0.1) (2.18.4)\n",
      "Requirement already satisfied: grpcio<2.0dev,>=1.33.2 in /Users/peetiphartsuebpeng/Documents/CONDA_ENV/env-wizmap/lib/python3.12/site-packages (from google-api-core[grpc]!=2.0.*,!=2.1.*,!=2.10.*,!=2.2.*,!=2.3.*,!=2.4.*,!=2.5.*,!=2.6.*,!=2.7.*,!=2.8.*,!=2.9.*,<3.0.0dev,>=1.34.1->google-ai-generativelanguage==0.6.5->google-generativeai->dsm_wizservices==0.0.1) (1.64.1)\n",
      "Requirement already satisfied: grpcio-status<2.0.dev0,>=1.33.2 in /Users/peetiphartsuebpeng/Documents/CONDA_ENV/env-wizmap/lib/python3.12/site-packages (from google-api-core[grpc]!=2.0.*,!=2.1.*,!=2.10.*,!=2.2.*,!=2.3.*,!=2.4.*,!=2.5.*,!=2.6.*,!=2.7.*,!=2.8.*,!=2.9.*,<3.0.0dev,>=1.34.1->google-ai-generativelanguage==0.6.5->google-generativeai->dsm_wizservices==0.0.1) (1.62.2)\n",
      "Requirement already satisfied: pyasn1<0.7.0,>=0.4.6 in /Users/peetiphartsuebpeng/Documents/CONDA_ENV/env-wizmap/lib/python3.12/site-packages (from pyasn1-modules>=0.2.1->google-auth>=2.15.0->google-generativeai->dsm_wizservices==0.0.1) (0.6.0)\n",
      "Requirement already satisfied: MarkupSafe>=2.0 in /Users/peetiphartsuebpeng/Documents/CONDA_ENV/env-wizmap/lib/python3.12/site-packages (from jinja2->torch>=1.11.0->sentence-transformers->dsm_wizservices==0.0.1) (2.1.5)\n",
      "Requirement already satisfied: mpmath<1.4.0,>=1.1.0 in /Users/peetiphartsuebpeng/Documents/CONDA_ENV/env-wizmap/lib/python3.12/site-packages (from sympy->torch>=1.11.0->sentence-transformers->dsm_wizservices==0.0.1) (1.3.0)\n",
      "Note: you may need to restart the kernel to use updated packages.\n"
     ]
    }
   ],
   "source": [
    "pip install git+https://github.com/Dont-HurtMe/TopicModel-service.git"
   ]
  },
  {
   "cell_type": "code",
   "execution_count": null,
   "id": "3915cd3f-6a6c-4acb-ad07-4313e931719a",
   "metadata": {},
   "outputs": [],
   "source": []
  },
  {
   "cell_type": "code",
   "execution_count": null,
   "id": "79ed0b49-07c5-42cc-b4c5-66fa01c71034",
   "metadata": {},
   "outputs": [],
   "source": []
  },
  {
   "cell_type": "markdown",
   "id": "702ebf84-9368-46bb-8761-78195885bce1",
   "metadata": {
    "jp-MarkdownHeadingCollapsed": true
   },
   "source": [
    "## **Step by step**"
   ]
  },
  {
   "cell_type": "code",
   "execution_count": 1,
   "id": "ac2685f9-d079-4fa1-8316-da19618b43d9",
   "metadata": {
    "scrolled": true
   },
   "outputs": [],
   "source": [
    "import pandas as pd\n",
    "import re\n",
    "import string\n",
    "import datasets"
   ]
  },
  {
   "cell_type": "code",
   "execution_count": 2,
   "id": "4175fa2c-b9f5-4b90-96c9-a291b7c4facf",
   "metadata": {},
   "outputs": [],
   "source": [
    "def cleanText(text):\n",
    "    \n",
    "    # source : https://github.com/naenumtou\n",
    "    clear_list = r'(?:http|ftp|https)://(?:[\\w_-]+(?:(?:\\.[\\w_-]+)+))(?:[\\w.,@?^=%&:/~+#]*[\\w@?^=%&/~+#])?|“|”|[()\\/\\+\\*.,]|,|ๆ|<.*?>|#|'\n",
    "    \n",
    "    # text = re.sub(r'\\d+', '', text)  # Remove digits\n",
    "    text = re.sub(clear_list,'',text)\n",
    "\n",
    "    # ลบ เครื่องหมายคำพูด (punctuation)\n",
    "    for c in string.punctuation:\n",
    "       text = re.sub(r'\\{}'.format(c),'',text)\n",
    "        \n",
    "    text = ' '.join(text.split())\n",
    "    # text = text.translate(str.maketrans('', '', textPunc)) # Remove punctuation without (.)\n",
    "    text = ' '.join(text.split())  # Keep only one white space\n",
    "    return text"
   ]
  },
  {
   "cell_type": "code",
   "execution_count": 11,
   "id": "b5674c47-221a-4424-adaa-e29c5620739e",
   "metadata": {},
   "outputs": [],
   "source": [
    "data = datasets.load_dataset('imdb')"
   ]
  },
  {
   "cell_type": "code",
   "execution_count": 12,
   "id": "c47a1f7c-dc1e-4173-b884-3df17644bf33",
   "metadata": {},
   "outputs": [
    {
     "data": {
      "text/html": [
       "<div>\n",
       "<style scoped>\n",
       "    .dataframe tbody tr th:only-of-type {\n",
       "        vertical-align: middle;\n",
       "    }\n",
       "\n",
       "    .dataframe tbody tr th {\n",
       "        vertical-align: top;\n",
       "    }\n",
       "\n",
       "    .dataframe thead th {\n",
       "        text-align: right;\n",
       "    }\n",
       "</style>\n",
       "<table border=\"1\" class=\"dataframe\">\n",
       "  <thead>\n",
       "    <tr style=\"text-align: right;\">\n",
       "      <th></th>\n",
       "      <th>text</th>\n",
       "    </tr>\n",
       "  </thead>\n",
       "  <tbody>\n",
       "    <tr>\n",
       "      <th>0</th>\n",
       "      <td>This is just a precious little diamond. The pl...</td>\n",
       "    </tr>\n",
       "    <tr>\n",
       "      <th>1</th>\n",
       "      <td>When I say this is my favourite film of all ti...</td>\n",
       "    </tr>\n",
       "    <tr>\n",
       "      <th>2</th>\n",
       "      <td>I saw this movie because I am a huge fan of th...</td>\n",
       "    </tr>\n",
       "    <tr>\n",
       "      <th>3</th>\n",
       "      <td>Being that the only foreign films I usually li...</td>\n",
       "    </tr>\n",
       "    <tr>\n",
       "      <th>4</th>\n",
       "      <td>After seeing Point of No Return (a great movie...</td>\n",
       "    </tr>\n",
       "    <tr>\n",
       "      <th>...</th>\n",
       "      <td>...</td>\n",
       "    </tr>\n",
       "    <tr>\n",
       "      <th>49995</th>\n",
       "      <td>License To Kill (1989) is an inanely dismal in...</td>\n",
       "    </tr>\n",
       "    <tr>\n",
       "      <th>49996</th>\n",
       "      <td>I love watching a James Bond. It's not very in...</td>\n",
       "    </tr>\n",
       "    <tr>\n",
       "      <th>49997</th>\n",
       "      <td>I can't decide what was the worst thing about ...</td>\n",
       "    </tr>\n",
       "    <tr>\n",
       "      <th>49998</th>\n",
       "      <td>UGH... As an adorer of the James Bond characte...</td>\n",
       "    </tr>\n",
       "    <tr>\n",
       "      <th>49999</th>\n",
       "      <td>I do firmly believe that the revue on this fil...</td>\n",
       "    </tr>\n",
       "  </tbody>\n",
       "</table>\n",
       "<p>50000 rows × 1 columns</p>\n",
       "</div>"
      ],
      "text/plain": [
       "                                                    text\n",
       "0      This is just a precious little diamond. The pl...\n",
       "1      When I say this is my favourite film of all ti...\n",
       "2      I saw this movie because I am a huge fan of th...\n",
       "3      Being that the only foreign films I usually li...\n",
       "4      After seeing Point of No Return (a great movie...\n",
       "...                                                  ...\n",
       "49995  License To Kill (1989) is an inanely dismal in...\n",
       "49996  I love watching a James Bond. It's not very in...\n",
       "49997  I can't decide what was the worst thing about ...\n",
       "49998  UGH... As an adorer of the James Bond characte...\n",
       "49999  I do firmly believe that the revue on this fil...\n",
       "\n",
       "[50000 rows x 1 columns]"
      ]
     },
     "execution_count": 12,
     "metadata": {},
     "output_type": "execute_result"
    }
   ],
   "source": [
    "df = pd.DataFrame(data['unsupervised'])[['text']]\n",
    "df"
   ]
  },
  {
   "cell_type": "code",
   "execution_count": 13,
   "id": "24138a4a-256c-4641-abf3-c9a139a48b07",
   "metadata": {},
   "outputs": [
    {
     "data": {
      "text/html": [
       "<div>\n",
       "<style scoped>\n",
       "    .dataframe tbody tr th:only-of-type {\n",
       "        vertical-align: middle;\n",
       "    }\n",
       "\n",
       "    .dataframe tbody tr th {\n",
       "        vertical-align: top;\n",
       "    }\n",
       "\n",
       "    .dataframe thead th {\n",
       "        text-align: right;\n",
       "    }\n",
       "</style>\n",
       "<table border=\"1\" class=\"dataframe\">\n",
       "  <thead>\n",
       "    <tr style=\"text-align: right;\">\n",
       "      <th></th>\n",
       "      <th>text</th>\n",
       "    </tr>\n",
       "  </thead>\n",
       "  <tbody>\n",
       "    <tr>\n",
       "      <th>35538</th>\n",
       "      <td>Awful simply awful It proves my theory about s...</td>\n",
       "    </tr>\n",
       "    <tr>\n",
       "      <th>17328</th>\n",
       "      <td>Detective Frank KellerAl Pacino in a perfect s...</td>\n",
       "    </tr>\n",
       "    <tr>\n",
       "      <th>34834</th>\n",
       "      <td>Saw the movie on TMC and it was indeed a class...</td>\n",
       "    </tr>\n",
       "    <tr>\n",
       "      <th>1207</th>\n",
       "      <td>Since this black and white B flick is only und...</td>\n",
       "    </tr>\n",
       "    <tr>\n",
       "      <th>726</th>\n",
       "      <td>Romasanta tells the chilling tale of Manuel Bl...</td>\n",
       "    </tr>\n",
       "    <tr>\n",
       "      <th>...</th>\n",
       "      <td>...</td>\n",
       "    </tr>\n",
       "    <tr>\n",
       "      <th>45201</th>\n",
       "      <td>Saturn 3 suffers from an identity crisis To lo...</td>\n",
       "    </tr>\n",
       "    <tr>\n",
       "      <th>44157</th>\n",
       "      <td>First off I have to admit that the story to Be...</td>\n",
       "    </tr>\n",
       "    <tr>\n",
       "      <th>20340</th>\n",
       "      <td>Rize is a documentary about Krumping and Clown...</td>\n",
       "    </tr>\n",
       "    <tr>\n",
       "      <th>12543</th>\n",
       "      <td>i really enjoyed this film the character are a...</td>\n",
       "    </tr>\n",
       "    <tr>\n",
       "      <th>39785</th>\n",
       "      <td>The action was episodic and there was no narra...</td>\n",
       "    </tr>\n",
       "  </tbody>\n",
       "</table>\n",
       "<p>500 rows × 1 columns</p>\n",
       "</div>"
      ],
      "text/plain": [
       "                                                    text\n",
       "35538  Awful simply awful It proves my theory about s...\n",
       "17328  Detective Frank KellerAl Pacino in a perfect s...\n",
       "34834  Saw the movie on TMC and it was indeed a class...\n",
       "1207   Since this black and white B flick is only und...\n",
       "726    Romasanta tells the chilling tale of Manuel Bl...\n",
       "...                                                  ...\n",
       "45201  Saturn 3 suffers from an identity crisis To lo...\n",
       "44157  First off I have to admit that the story to Be...\n",
       "20340  Rize is a documentary about Krumping and Clown...\n",
       "12543  i really enjoyed this film the character are a...\n",
       "39785  The action was episodic and there was no narra...\n",
       "\n",
       "[500 rows x 1 columns]"
      ]
     },
     "execution_count": 13,
     "metadata": {},
     "output_type": "execute_result"
    }
   ],
   "source": [
    "df = df.sample(500)\n",
    "df['text'] = df['text'].apply(cleanText)\n",
    "df"
   ]
  },
  {
   "cell_type": "markdown",
   "id": "cc768065-d81b-4daf-b417-ab989e29fd3f",
   "metadata": {},
   "source": [
    "### **Generate Vector : Embedding and reduction dimensions**"
   ]
  },
  {
   "cell_type": "code",
   "execution_count": 6,
   "id": "85b879f7-1fa3-4e48-85ca-fa2395fc5871",
   "metadata": {},
   "outputs": [],
   "source": [
    "from dsm_wizservices.generate_vector import Generate_Vector \n",
    "from sentence_transformers import SentenceTransformer\n",
    "from umap import UMAP"
   ]
  },
  {
   "cell_type": "code",
   "execution_count": 7,
   "id": "ce8bb9e3-bf76-48b4-a6e1-2a2a9e15536c",
   "metadata": {},
   "outputs": [],
   "source": [
    "docs = df['text'].tolist()"
   ]
  },
  {
   "cell_type": "code",
   "execution_count": 8,
   "id": "de6b908e-f52f-40f1-89ff-73a7f92012eb",
   "metadata": {},
   "outputs": [
    {
     "name": "stderr",
     "output_type": "stream",
     "text": [
      "/Users/peetiphartsuebpeng/Documents/CONDA_ENV/env-wizmap/lib/python3.12/site-packages/huggingface_hub/file_download.py:1132: FutureWarning: `resume_download` is deprecated and will be removed in version 1.0.0. Downloads always resume when possible. If you want to force a new download, use `force_download=True`.\n",
      "  warnings.warn(\n"
     ]
    }
   ],
   "source": [
    "# defind embedding model & reducer model\n",
    "reducer = UMAP(n_neighbors=12, min_dist=0.01, random_state=1234)\n",
    "transformer = SentenceTransformer('all-MiniLM-L6-v2', device='cpu')"
   ]
  },
  {
   "cell_type": "code",
   "execution_count": 9,
   "id": "6f457fe8-abec-4dcb-bbc6-e0cc717c9d0b",
   "metadata": {},
   "outputs": [],
   "source": [
    "vec_generator = Generate_Vector(\n",
    "    embedding_model = transformer,\n",
    "    reduce_dimension_model = reducer, \n",
    "    batch_size = 32, \n",
    "    verbose = False,\n",
    ")"
   ]
  },
  {
   "cell_type": "code",
   "execution_count": 10,
   "id": "5b736ccb-0ba1-4d25-98bd-c3551c34eca2",
   "metadata": {},
   "outputs": [],
   "source": [
    "vec_generator.input(docs)"
   ]
  },
  {
   "cell_type": "code",
   "execution_count": 11,
   "id": "d6620901-6148-40ee-ae41-479dc07c40d6",
   "metadata": {},
   "outputs": [
    {
     "name": "stderr",
     "output_type": "stream",
     "text": [
      "/Users/peetiphartsuebpeng/Documents/CONDA_ENV/env-wizmap/lib/python3.12/site-packages/umap/umap_.py:1945: UserWarning: n_jobs value 1 overridden to 1 by setting random_state. Use no seed for parallelism.\n",
      "  warn(f\"n_jobs value {self.n_jobs} overridden to 1 by setting random_state. Use no seed for parallelism.\")\n",
      "OMP: Info #276: omp_set_nested routine deprecated, please use omp_set_max_active_levels instead.\n"
     ]
    }
   ],
   "source": [
    "model_annotations, process_data = vec_generator.run()"
   ]
  },
  {
   "cell_type": "code",
   "execution_count": 12,
   "id": "1b4a9f5a-2456-467d-bfcc-ee25ac49836c",
   "metadata": {},
   "outputs": [
    {
     "data": {
      "text/html": [
       "<div>\n",
       "<style scoped>\n",
       "    .dataframe tbody tr th:only-of-type {\n",
       "        vertical-align: middle;\n",
       "    }\n",
       "\n",
       "    .dataframe tbody tr th {\n",
       "        vertical-align: top;\n",
       "    }\n",
       "\n",
       "    .dataframe thead th {\n",
       "        text-align: right;\n",
       "    }\n",
       "</style>\n",
       "<table border=\"1\" class=\"dataframe\">\n",
       "  <thead>\n",
       "    <tr style=\"text-align: right;\">\n",
       "      <th></th>\n",
       "      <th>data_process</th>\n",
       "      <th>vector</th>\n",
       "      <th>x</th>\n",
       "      <th>y</th>\n",
       "      <th>data_display</th>\n",
       "    </tr>\n",
       "  </thead>\n",
       "  <tbody>\n",
       "    <tr>\n",
       "      <th>0</th>\n",
       "      <td>Literally one of the darkest of noir films, th...</td>\n",
       "      <td>[-0.07702932, 0.0068955673, -0.07380701, -0.01...</td>\n",
       "      <td>7.758976</td>\n",
       "      <td>4.928448</td>\n",
       "      <td>X: 7.759 Y: 4.9284 Content: Literally one of t...</td>\n",
       "    </tr>\n",
       "    <tr>\n",
       "      <th>1</th>\n",
       "      <td>I'm all for freedom of expression, and would n...</td>\n",
       "      <td>[0.015273209, -0.052728225, -0.042011295, -0.0...</td>\n",
       "      <td>9.162966</td>\n",
       "      <td>8.187388</td>\n",
       "      <td>X: 9.163 Y: 8.1874 Content: I'm all for freedo...</td>\n",
       "    </tr>\n",
       "    <tr>\n",
       "      <th>2</th>\n",
       "      <td>THIS IS QUITE A DIFFERENT MOVIE, BUT A TREAT T...</td>\n",
       "      <td>[-0.008729575, -0.04776459, 0.019168468, 0.024...</td>\n",
       "      <td>9.870467</td>\n",
       "      <td>6.238839</td>\n",
       "      <td>X: 9.8705 Y: 6.2388 Content: THIS IS QUITE A D...</td>\n",
       "    </tr>\n",
       "    <tr>\n",
       "      <th>3</th>\n",
       "      <td>How does one start a commentary on such a perf...</td>\n",
       "      <td>[-0.050786864, -0.070286565, -0.027059635, -0....</td>\n",
       "      <td>6.308136</td>\n",
       "      <td>6.059481</td>\n",
       "      <td>X: 6.3081 Y: 6.0595 Content: How does one star...</td>\n",
       "    </tr>\n",
       "    <tr>\n",
       "      <th>4</th>\n",
       "      <td>I used to watch this show when I was growing u...</td>\n",
       "      <td>[-0.01940856, -0.026941257, -0.01201553, -0.01...</td>\n",
       "      <td>10.149480</td>\n",
       "      <td>6.295237</td>\n",
       "      <td>X: 10.1495 Y: 6.2952 Content: I used to watch ...</td>\n",
       "    </tr>\n",
       "    <tr>\n",
       "      <th>...</th>\n",
       "      <td>...</td>\n",
       "      <td>...</td>\n",
       "      <td>...</td>\n",
       "      <td>...</td>\n",
       "      <td>...</td>\n",
       "    </tr>\n",
       "    <tr>\n",
       "      <th>495</th>\n",
       "      <td>I think the casting of the actors is exception...</td>\n",
       "      <td>[-0.08991099, -0.08416426, 0.010291509, -0.006...</td>\n",
       "      <td>6.147890</td>\n",
       "      <td>5.795775</td>\n",
       "      <td>X: 6.1479 Y: 5.7958 Content: I think the casti...</td>\n",
       "    </tr>\n",
       "    <tr>\n",
       "      <th>496</th>\n",
       "      <td>Even while trying to recover an extremely poor...</td>\n",
       "      <td>[-0.03502663, -0.071942575, 0.0023258077, -0.0...</td>\n",
       "      <td>7.913479</td>\n",
       "      <td>5.936922</td>\n",
       "      <td>X: 7.9135 Y: 5.9369 Content: Even while trying...</td>\n",
       "    </tr>\n",
       "    <tr>\n",
       "      <th>497</th>\n",
       "      <td>I was initially sucked in... I am also a huge ...</td>\n",
       "      <td>[-0.012135552, -0.019680196, 0.014521928, 0.06...</td>\n",
       "      <td>6.868710</td>\n",
       "      <td>6.213500</td>\n",
       "      <td>X: 6.8687 Y: 6.2135 Content: I was initially s...</td>\n",
       "    </tr>\n",
       "    <tr>\n",
       "      <th>498</th>\n",
       "      <td>Eddie Murphy is at it again in his movie Imagi...</td>\n",
       "      <td>[-0.08654306, -0.05013336, -0.075973876, -0.00...</td>\n",
       "      <td>7.160414</td>\n",
       "      <td>5.988025</td>\n",
       "      <td>X: 7.1604 Y: 5.988 Content: Eddie Murphy is at...</td>\n",
       "    </tr>\n",
       "    <tr>\n",
       "      <th>499</th>\n",
       "      <td>I know there are a lot of people out there loo...</td>\n",
       "      <td>[0.038241267, -0.075930655, 0.02638589, 0.0284...</td>\n",
       "      <td>9.085627</td>\n",
       "      <td>7.857281</td>\n",
       "      <td>X: 9.0856 Y: 7.8573 Content: I know there are ...</td>\n",
       "    </tr>\n",
       "  </tbody>\n",
       "</table>\n",
       "<p>500 rows × 5 columns</p>\n",
       "</div>"
      ],
      "text/plain": [
       "                                          data_process  \\\n",
       "0    Literally one of the darkest of noir films, th...   \n",
       "1    I'm all for freedom of expression, and would n...   \n",
       "2    THIS IS QUITE A DIFFERENT MOVIE, BUT A TREAT T...   \n",
       "3    How does one start a commentary on such a perf...   \n",
       "4    I used to watch this show when I was growing u...   \n",
       "..                                                 ...   \n",
       "495  I think the casting of the actors is exception...   \n",
       "496  Even while trying to recover an extremely poor...   \n",
       "497  I was initially sucked in... I am also a huge ...   \n",
       "498  Eddie Murphy is at it again in his movie Imagi...   \n",
       "499  I know there are a lot of people out there loo...   \n",
       "\n",
       "                                                vector          x         y  \\\n",
       "0    [-0.07702932, 0.0068955673, -0.07380701, -0.01...   7.758976  4.928448   \n",
       "1    [0.015273209, -0.052728225, -0.042011295, -0.0...   9.162966  8.187388   \n",
       "2    [-0.008729575, -0.04776459, 0.019168468, 0.024...   9.870467  6.238839   \n",
       "3    [-0.050786864, -0.070286565, -0.027059635, -0....   6.308136  6.059481   \n",
       "4    [-0.01940856, -0.026941257, -0.01201553, -0.01...  10.149480  6.295237   \n",
       "..                                                 ...        ...       ...   \n",
       "495  [-0.08991099, -0.08416426, 0.010291509, -0.006...   6.147890  5.795775   \n",
       "496  [-0.03502663, -0.071942575, 0.0023258077, -0.0...   7.913479  5.936922   \n",
       "497  [-0.012135552, -0.019680196, 0.014521928, 0.06...   6.868710  6.213500   \n",
       "498  [-0.08654306, -0.05013336, -0.075973876, -0.00...   7.160414  5.988025   \n",
       "499  [0.038241267, -0.075930655, 0.02638589, 0.0284...   9.085627  7.857281   \n",
       "\n",
       "                                          data_display  \n",
       "0    X: 7.759 Y: 4.9284 Content: Literally one of t...  \n",
       "1    X: 9.163 Y: 8.1874 Content: I'm all for freedo...  \n",
       "2    X: 9.8705 Y: 6.2388 Content: THIS IS QUITE A D...  \n",
       "3    X: 6.3081 Y: 6.0595 Content: How does one star...  \n",
       "4    X: 10.1495 Y: 6.2952 Content: I used to watch ...  \n",
       "..                                                 ...  \n",
       "495  X: 6.1479 Y: 5.7958 Content: I think the casti...  \n",
       "496  X: 7.9135 Y: 5.9369 Content: Even while trying...  \n",
       "497  X: 6.8687 Y: 6.2135 Content: I was initially s...  \n",
       "498  X: 7.1604 Y: 5.988 Content: Eddie Murphy is at...  \n",
       "499  X: 9.0856 Y: 7.8573 Content: I know there are ...  \n",
       "\n",
       "[500 rows x 5 columns]"
      ]
     },
     "execution_count": 12,
     "metadata": {},
     "output_type": "execute_result"
    }
   ],
   "source": [
    "process_data"
   ]
  },
  {
   "cell_type": "code",
   "execution_count": 13,
   "id": "38f6328f-1b0d-4620-abce-f6c3c72b4564",
   "metadata": {},
   "outputs": [
    {
     "data": {
      "text/plain": [
       "{'sentence_transform': {'model': SentenceTransformer(\n",
       "    (0): Transformer({'max_seq_length': 256, 'do_lower_case': False}) with Transformer model: BertModel \n",
       "    (1): Pooling({'word_embedding_dimension': 384, 'pooling_mode_cls_token': False, 'pooling_mode_mean_tokens': True, 'pooling_mode_max_tokens': False, 'pooling_mode_mean_sqrt_len_tokens': False, 'pooling_mode_weightedmean_tokens': False, 'pooling_mode_lasttoken': False, 'include_prompt': True})\n",
       "    (2): Normalize()\n",
       "  ),\n",
       "  'vector': array([[-0.07702932,  0.00689557, -0.07380701, ...,  0.04279864,\n",
       "           0.11700263, -0.00858636],\n",
       "         [ 0.01527321, -0.05272822, -0.04201129, ..., -0.05885606,\n",
       "           0.04695188, -0.0132707 ],\n",
       "         [-0.00872958, -0.04776459,  0.01916847, ..., -0.04230281,\n",
       "          -0.06144657, -0.05748264],\n",
       "         ...,\n",
       "         [-0.01213555, -0.0196802 ,  0.01452193, ..., -0.02914652,\n",
       "          -0.04973118, -0.04158817],\n",
       "         [-0.08654306, -0.05013336, -0.07597388, ...,  0.04155584,\n",
       "           0.02819509, -0.00136491],\n",
       "         [ 0.03824127, -0.07593066,  0.02638589, ..., -0.00615964,\n",
       "           0.00495982, -0.00606281]], dtype=float32)},\n",
       " 'umap': UMAP(min_dist=0.01, n_jobs=1, n_neighbors=12, random_state=1234, tqdm_kwds={'bar_format': '{desc}: {percentage:3.0f}%| {bar} {n_fmt}/{total_fmt} [{elapsed}]', 'desc': 'Epochs completed', 'disable': True})}"
      ]
     },
     "execution_count": 13,
     "metadata": {},
     "output_type": "execute_result"
    }
   ],
   "source": [
    "model_annotations"
   ]
  },
  {
   "cell_type": "markdown",
   "id": "4132223f-83b3-40e3-8255-4715f7f5700b",
   "metadata": {},
   "source": [
    "### **Generate topic : get tfidf and cluster**"
   ]
  },
  {
   "cell_type": "code",
   "execution_count": 14,
   "id": "0ba9f648-333d-418b-8cd7-c3606b740262",
   "metadata": {},
   "outputs": [],
   "source": [
    "from dsm_wizservices.generate_topic import find_topic, Mini_Bert\n",
    "from sklearn.feature_extraction.text import CountVectorizer\n",
    "from sklearn.cluster import MeanShift"
   ]
  },
  {
   "cell_type": "code",
   "execution_count": 15,
   "id": "23ac4fae-101f-4237-8797-c4a4ebf62134",
   "metadata": {},
   "outputs": [],
   "source": [
    "cv = CountVectorizer(stop_words=\"english\", ngram_range=(1, 1))"
   ]
  },
  {
   "cell_type": "code",
   "execution_count": 16,
   "id": "fb8611f3-0fd1-40b2-a86d-4e1b6b064ba1",
   "metadata": {},
   "outputs": [],
   "source": [
    "topk_generator = find_topic(n_topic=12, cv=cv)"
   ]
  },
  {
   "cell_type": "code",
   "execution_count": 17,
   "id": "7203a1df-db4a-4654-afa3-9443092425fe",
   "metadata": {},
   "outputs": [],
   "source": [
    "topk_generator.input(' '.join(docs))"
   ]
  },
  {
   "cell_type": "code",
   "execution_count": 18,
   "id": "76aa10df-1973-4144-92d3-02c0a6e13251",
   "metadata": {},
   "outputs": [
    {
     "data": {
      "text/plain": [
       "[[('great', 0.0689),\n",
       "  ('like', 0.1505),\n",
       "  ('story', 0.0875),\n",
       "  ('really', 0.0809),\n",
       "  ('good', 0.1033),\n",
       "  ('time', 0.0923),\n",
       "  ('people', 0.073),\n",
       "  ('film', 0.3071),\n",
       "  ('br', 0.7493),\n",
       "  ('don', 0.0713),\n",
       "  ('just', 0.1219),\n",
       "  ('movie', 0.301)]]"
      ]
     },
     "execution_count": 18,
     "metadata": {},
     "output_type": "execute_result"
    }
   ],
   "source": [
    "topic_of_data = topk_generator.run()\n",
    "topic_of_data"
   ]
  },
  {
   "cell_type": "code",
   "execution_count": 19,
   "id": "d574480f-9cd2-425a-99ea-da7cd430a0df",
   "metadata": {},
   "outputs": [],
   "source": [
    "cluster = MeanShift(bandwidth=0.2)"
   ]
  },
  {
   "cell_type": "code",
   "execution_count": 20,
   "id": "2b839e08-2aae-47cb-8024-4ccf7e5c65fa",
   "metadata": {},
   "outputs": [],
   "source": [
    "bert = Mini_Bert(cv=cv, cluster=cluster, n_topic=20, verbose=True)"
   ]
  },
  {
   "cell_type": "code",
   "execution_count": 21,
   "id": "faf03213-b1f0-4c3e-a396-e0e4ca3dca7c",
   "metadata": {},
   "outputs": [
    {
     "data": {
      "text/html": [
       "<div>\n",
       "<style scoped>\n",
       "    .dataframe tbody tr th:only-of-type {\n",
       "        vertical-align: middle;\n",
       "    }\n",
       "\n",
       "    .dataframe tbody tr th {\n",
       "        vertical-align: top;\n",
       "    }\n",
       "\n",
       "    .dataframe thead th {\n",
       "        text-align: right;\n",
       "    }\n",
       "</style>\n",
       "<table border=\"1\" class=\"dataframe\">\n",
       "  <thead>\n",
       "    <tr style=\"text-align: right;\">\n",
       "      <th></th>\n",
       "      <th>data_process</th>\n",
       "      <th>vector</th>\n",
       "      <th>x</th>\n",
       "      <th>y</th>\n",
       "      <th>data_display</th>\n",
       "    </tr>\n",
       "  </thead>\n",
       "  <tbody>\n",
       "    <tr>\n",
       "      <th>0</th>\n",
       "      <td>Literally one of the darkest of noir films, th...</td>\n",
       "      <td>[-0.07702932, 0.0068955673, -0.07380701, -0.01...</td>\n",
       "      <td>7.758976</td>\n",
       "      <td>4.928448</td>\n",
       "      <td>X: 7.759 Y: 4.9284 Content: Literally one of t...</td>\n",
       "    </tr>\n",
       "    <tr>\n",
       "      <th>1</th>\n",
       "      <td>I'm all for freedom of expression, and would n...</td>\n",
       "      <td>[0.015273209, -0.052728225, -0.042011295, -0.0...</td>\n",
       "      <td>9.162966</td>\n",
       "      <td>8.187388</td>\n",
       "      <td>X: 9.163 Y: 8.1874 Content: I'm all for freedo...</td>\n",
       "    </tr>\n",
       "    <tr>\n",
       "      <th>2</th>\n",
       "      <td>THIS IS QUITE A DIFFERENT MOVIE, BUT A TREAT T...</td>\n",
       "      <td>[-0.008729575, -0.04776459, 0.019168468, 0.024...</td>\n",
       "      <td>9.870467</td>\n",
       "      <td>6.238839</td>\n",
       "      <td>X: 9.8705 Y: 6.2388 Content: THIS IS QUITE A D...</td>\n",
       "    </tr>\n",
       "    <tr>\n",
       "      <th>3</th>\n",
       "      <td>How does one start a commentary on such a perf...</td>\n",
       "      <td>[-0.050786864, -0.070286565, -0.027059635, -0....</td>\n",
       "      <td>6.308136</td>\n",
       "      <td>6.059481</td>\n",
       "      <td>X: 6.3081 Y: 6.0595 Content: How does one star...</td>\n",
       "    </tr>\n",
       "    <tr>\n",
       "      <th>4</th>\n",
       "      <td>I used to watch this show when I was growing u...</td>\n",
       "      <td>[-0.01940856, -0.026941257, -0.01201553, -0.01...</td>\n",
       "      <td>10.149480</td>\n",
       "      <td>6.295237</td>\n",
       "      <td>X: 10.1495 Y: 6.2952 Content: I used to watch ...</td>\n",
       "    </tr>\n",
       "    <tr>\n",
       "      <th>...</th>\n",
       "      <td>...</td>\n",
       "      <td>...</td>\n",
       "      <td>...</td>\n",
       "      <td>...</td>\n",
       "      <td>...</td>\n",
       "    </tr>\n",
       "    <tr>\n",
       "      <th>495</th>\n",
       "      <td>I think the casting of the actors is exception...</td>\n",
       "      <td>[-0.08991099, -0.08416426, 0.010291509, -0.006...</td>\n",
       "      <td>6.147890</td>\n",
       "      <td>5.795775</td>\n",
       "      <td>X: 6.1479 Y: 5.7958 Content: I think the casti...</td>\n",
       "    </tr>\n",
       "    <tr>\n",
       "      <th>496</th>\n",
       "      <td>Even while trying to recover an extremely poor...</td>\n",
       "      <td>[-0.03502663, -0.071942575, 0.0023258077, -0.0...</td>\n",
       "      <td>7.913479</td>\n",
       "      <td>5.936922</td>\n",
       "      <td>X: 7.9135 Y: 5.9369 Content: Even while trying...</td>\n",
       "    </tr>\n",
       "    <tr>\n",
       "      <th>497</th>\n",
       "      <td>I was initially sucked in... I am also a huge ...</td>\n",
       "      <td>[-0.012135552, -0.019680196, 0.014521928, 0.06...</td>\n",
       "      <td>6.868710</td>\n",
       "      <td>6.213500</td>\n",
       "      <td>X: 6.8687 Y: 6.2135 Content: I was initially s...</td>\n",
       "    </tr>\n",
       "    <tr>\n",
       "      <th>498</th>\n",
       "      <td>Eddie Murphy is at it again in his movie Imagi...</td>\n",
       "      <td>[-0.08654306, -0.05013336, -0.075973876, -0.00...</td>\n",
       "      <td>7.160414</td>\n",
       "      <td>5.988025</td>\n",
       "      <td>X: 7.1604 Y: 5.988 Content: Eddie Murphy is at...</td>\n",
       "    </tr>\n",
       "    <tr>\n",
       "      <th>499</th>\n",
       "      <td>I know there are a lot of people out there loo...</td>\n",
       "      <td>[0.038241267, -0.075930655, 0.02638589, 0.0284...</td>\n",
       "      <td>9.085627</td>\n",
       "      <td>7.857281</td>\n",
       "      <td>X: 9.0856 Y: 7.8573 Content: I know there are ...</td>\n",
       "    </tr>\n",
       "  </tbody>\n",
       "</table>\n",
       "<p>500 rows × 5 columns</p>\n",
       "</div>"
      ],
      "text/plain": [
       "                                          data_process  \\\n",
       "0    Literally one of the darkest of noir films, th...   \n",
       "1    I'm all for freedom of expression, and would n...   \n",
       "2    THIS IS QUITE A DIFFERENT MOVIE, BUT A TREAT T...   \n",
       "3    How does one start a commentary on such a perf...   \n",
       "4    I used to watch this show when I was growing u...   \n",
       "..                                                 ...   \n",
       "495  I think the casting of the actors is exception...   \n",
       "496  Even while trying to recover an extremely poor...   \n",
       "497  I was initially sucked in... I am also a huge ...   \n",
       "498  Eddie Murphy is at it again in his movie Imagi...   \n",
       "499  I know there are a lot of people out there loo...   \n",
       "\n",
       "                                                vector          x         y  \\\n",
       "0    [-0.07702932, 0.0068955673, -0.07380701, -0.01...   7.758976  4.928448   \n",
       "1    [0.015273209, -0.052728225, -0.042011295, -0.0...   9.162966  8.187388   \n",
       "2    [-0.008729575, -0.04776459, 0.019168468, 0.024...   9.870467  6.238839   \n",
       "3    [-0.050786864, -0.070286565, -0.027059635, -0....   6.308136  6.059481   \n",
       "4    [-0.01940856, -0.026941257, -0.01201553, -0.01...  10.149480  6.295237   \n",
       "..                                                 ...        ...       ...   \n",
       "495  [-0.08991099, -0.08416426, 0.010291509, -0.006...   6.147890  5.795775   \n",
       "496  [-0.03502663, -0.071942575, 0.0023258077, -0.0...   7.913479  5.936922   \n",
       "497  [-0.012135552, -0.019680196, 0.014521928, 0.06...   6.868710  6.213500   \n",
       "498  [-0.08654306, -0.05013336, -0.075973876, -0.00...   7.160414  5.988025   \n",
       "499  [0.038241267, -0.075930655, 0.02638589, 0.0284...   9.085627  7.857281   \n",
       "\n",
       "                                          data_display  \n",
       "0    X: 7.759 Y: 4.9284 Content: Literally one of t...  \n",
       "1    X: 9.163 Y: 8.1874 Content: I'm all for freedo...  \n",
       "2    X: 9.8705 Y: 6.2388 Content: THIS IS QUITE A D...  \n",
       "3    X: 6.3081 Y: 6.0595 Content: How does one star...  \n",
       "4    X: 10.1495 Y: 6.2952 Content: I used to watch ...  \n",
       "..                                                 ...  \n",
       "495  X: 6.1479 Y: 5.7958 Content: I think the casti...  \n",
       "496  X: 7.9135 Y: 5.9369 Content: Even while trying...  \n",
       "497  X: 6.8687 Y: 6.2135 Content: I was initially s...  \n",
       "498  X: 7.1604 Y: 5.988 Content: Eddie Murphy is at...  \n",
       "499  X: 9.0856 Y: 7.8573 Content: I know there are ...  \n",
       "\n",
       "[500 rows x 5 columns]"
      ]
     },
     "execution_count": 21,
     "metadata": {},
     "output_type": "execute_result"
    }
   ],
   "source": [
    "process_data"
   ]
  },
  {
   "cell_type": "code",
   "execution_count": 22,
   "id": "70d0ddce-1df2-4e16-9015-6f1503ab8da2",
   "metadata": {},
   "outputs": [],
   "source": [
    "bert.input(process_data)"
   ]
  },
  {
   "cell_type": "code",
   "execution_count": 23,
   "id": "37b1e40a-96ad-4399-a8f2-9eab6e34f41e",
   "metadata": {},
   "outputs": [
    {
     "data": {
      "application/vnd.jupyter.widget-view+json": {
       "model_id": "f3cc8b4773ae44759bdcb05139c62804",
       "version_major": 2,
       "version_minor": 0
      },
      "text/plain": [
       "Cluster :   0%|          | 0/112 [00:00<?, ?it/s]"
      ]
     },
     "metadata": {},
     "output_type": "display_data"
    }
   ],
   "source": [
    "cluster_result, models_dict, process_data = bert.run()"
   ]
  },
  {
   "cell_type": "code",
   "execution_count": 24,
   "id": "ba2beac5-adca-4745-a0b1-90c562346322",
   "metadata": {},
   "outputs": [
    {
     "data": {
      "text/html": [
       "<div>\n",
       "<style scoped>\n",
       "    .dataframe tbody tr th:only-of-type {\n",
       "        vertical-align: middle;\n",
       "    }\n",
       "\n",
       "    .dataframe tbody tr th {\n",
       "        vertical-align: top;\n",
       "    }\n",
       "\n",
       "    .dataframe thead th {\n",
       "        text-align: right;\n",
       "    }\n",
       "</style>\n",
       "<table border=\"1\" class=\"dataframe\">\n",
       "  <thead>\n",
       "    <tr style=\"text-align: right;\">\n",
       "      <th></th>\n",
       "      <th>cluster</th>\n",
       "      <th>topword</th>\n",
       "    </tr>\n",
       "  </thead>\n",
       "  <tbody>\n",
       "    <tr>\n",
       "      <th>0</th>\n",
       "      <td>4</td>\n",
       "      <td>{'gunther': 0.0429, 'mendoza': 0.0536, 'real':...</td>\n",
       "    </tr>\n",
       "    <tr>\n",
       "      <th>1</th>\n",
       "      <td>3</td>\n",
       "      <td>{'worse': 0.0554, 've': 0.0554, 'expect': 0.06...</td>\n",
       "    </tr>\n",
       "    <tr>\n",
       "      <th>2</th>\n",
       "      <td>1</td>\n",
       "      <td>{'understand': 0.0827, 'kids': 0.0827, 'll': 0...</td>\n",
       "    </tr>\n",
       "    <tr>\n",
       "      <th>3</th>\n",
       "      <td>55</td>\n",
       "      <td>{'cast': 0.0713, 'davis': 0.095, 'story': 0.09...</td>\n",
       "    </tr>\n",
       "    <tr>\n",
       "      <th>4</th>\n",
       "      <td>7</td>\n",
       "      <td>{'way': 0.053, 'did': 0.053, 'make': 0.053, 'h...</td>\n",
       "    </tr>\n",
       "    <tr>\n",
       "      <th>...</th>\n",
       "      <td>...</td>\n",
       "      <td>...</td>\n",
       "    </tr>\n",
       "    <tr>\n",
       "      <th>107</th>\n",
       "      <td>107</td>\n",
       "      <td>{'easily': 0.0563, 'history': 0.1125, 'interna...</td>\n",
       "    </tr>\n",
       "    <tr>\n",
       "      <th>108</th>\n",
       "      <td>2</td>\n",
       "      <td>{'time': 0.0485, 'characters': 0.0485, 'makes'...</td>\n",
       "    </tr>\n",
       "    <tr>\n",
       "      <th>109</th>\n",
       "      <td>96</td>\n",
       "      <td>{'gooding': 0.0786, 'gets': 0.0786, 'movies': ...</td>\n",
       "    </tr>\n",
       "    <tr>\n",
       "      <th>110</th>\n",
       "      <td>72</td>\n",
       "      <td>{'equally': 0.0854, 'hand': 0.0854, 'believe':...</td>\n",
       "    </tr>\n",
       "    <tr>\n",
       "      <th>111</th>\n",
       "      <td>45</td>\n",
       "      <td>{'best': 0.0649, 'does': 0.0649, 'garden': 0.0...</td>\n",
       "    </tr>\n",
       "  </tbody>\n",
       "</table>\n",
       "<p>112 rows × 2 columns</p>\n",
       "</div>"
      ],
      "text/plain": [
       "     cluster                                            topword\n",
       "0          4  {'gunther': 0.0429, 'mendoza': 0.0536, 'real':...\n",
       "1          3  {'worse': 0.0554, 've': 0.0554, 'expect': 0.06...\n",
       "2          1  {'understand': 0.0827, 'kids': 0.0827, 'll': 0...\n",
       "3         55  {'cast': 0.0713, 'davis': 0.095, 'story': 0.09...\n",
       "4          7  {'way': 0.053, 'did': 0.053, 'make': 0.053, 'h...\n",
       "..       ...                                                ...\n",
       "107      107  {'easily': 0.0563, 'history': 0.1125, 'interna...\n",
       "108        2  {'time': 0.0485, 'characters': 0.0485, 'makes'...\n",
       "109       96  {'gooding': 0.0786, 'gets': 0.0786, 'movies': ...\n",
       "110       72  {'equally': 0.0854, 'hand': 0.0854, 'believe':...\n",
       "111       45  {'best': 0.0649, 'does': 0.0649, 'garden': 0.0...\n",
       "\n",
       "[112 rows x 2 columns]"
      ]
     },
     "execution_count": 24,
     "metadata": {},
     "output_type": "execute_result"
    }
   ],
   "source": [
    "cluster_result"
   ]
  },
  {
   "cell_type": "code",
   "execution_count": 25,
   "id": "19e32474-ce5c-4a98-a697-dfad0008a506",
   "metadata": {},
   "outputs": [
    {
     "data": {
      "text/plain": [
       "{'clustering': MeanShift(bandwidth=0.2),\n",
       " 'cv': CountVectorizer(stop_words='english')}"
      ]
     },
     "execution_count": 25,
     "metadata": {},
     "output_type": "execute_result"
    }
   ],
   "source": [
    "models_dict"
   ]
  },
  {
   "cell_type": "code",
   "execution_count": 26,
   "id": "617024b4-b648-4a48-b3ac-e015e0f7a05c",
   "metadata": {},
   "outputs": [
    {
     "data": {
      "text/html": [
       "<div>\n",
       "<style scoped>\n",
       "    .dataframe tbody tr th:only-of-type {\n",
       "        vertical-align: middle;\n",
       "    }\n",
       "\n",
       "    .dataframe tbody tr th {\n",
       "        vertical-align: top;\n",
       "    }\n",
       "\n",
       "    .dataframe thead th {\n",
       "        text-align: right;\n",
       "    }\n",
       "</style>\n",
       "<table border=\"1\" class=\"dataframe\">\n",
       "  <thead>\n",
       "    <tr style=\"text-align: right;\">\n",
       "      <th></th>\n",
       "      <th>data_process</th>\n",
       "      <th>vector</th>\n",
       "      <th>x</th>\n",
       "      <th>y</th>\n",
       "      <th>data_display</th>\n",
       "      <th>cluster</th>\n",
       "    </tr>\n",
       "  </thead>\n",
       "  <tbody>\n",
       "    <tr>\n",
       "      <th>0</th>\n",
       "      <td>Literally one of the darkest of noir films, th...</td>\n",
       "      <td>[-0.07702932, 0.0068955673, -0.07380701, -0.01...</td>\n",
       "      <td>7.758976</td>\n",
       "      <td>4.928448</td>\n",
       "      <td>X: 7.759 Y: 4.9284 Content: Literally one of t...</td>\n",
       "      <td>4</td>\n",
       "    </tr>\n",
       "    <tr>\n",
       "      <th>1</th>\n",
       "      <td>I'm all for freedom of expression, and would n...</td>\n",
       "      <td>[0.015273209, -0.052728225, -0.042011295, -0.0...</td>\n",
       "      <td>9.162966</td>\n",
       "      <td>8.187388</td>\n",
       "      <td>X: 9.163 Y: 8.1874 Content: I'm all for freedo...</td>\n",
       "      <td>3</td>\n",
       "    </tr>\n",
       "    <tr>\n",
       "      <th>2</th>\n",
       "      <td>THIS IS QUITE A DIFFERENT MOVIE, BUT A TREAT T...</td>\n",
       "      <td>[-0.008729575, -0.04776459, 0.019168468, 0.024...</td>\n",
       "      <td>9.870467</td>\n",
       "      <td>6.238839</td>\n",
       "      <td>X: 9.8705 Y: 6.2388 Content: THIS IS QUITE A D...</td>\n",
       "      <td>1</td>\n",
       "    </tr>\n",
       "    <tr>\n",
       "      <th>3</th>\n",
       "      <td>How does one start a commentary on such a perf...</td>\n",
       "      <td>[-0.050786864, -0.070286565, -0.027059635, -0....</td>\n",
       "      <td>6.308136</td>\n",
       "      <td>6.059481</td>\n",
       "      <td>X: 6.3081 Y: 6.0595 Content: How does one star...</td>\n",
       "      <td>55</td>\n",
       "    </tr>\n",
       "    <tr>\n",
       "      <th>4</th>\n",
       "      <td>I used to watch this show when I was growing u...</td>\n",
       "      <td>[-0.01940856, -0.026941257, -0.01201553, -0.01...</td>\n",
       "      <td>10.149480</td>\n",
       "      <td>6.295237</td>\n",
       "      <td>X: 10.1495 Y: 6.2952 Content: I used to watch ...</td>\n",
       "      <td>1</td>\n",
       "    </tr>\n",
       "    <tr>\n",
       "      <th>...</th>\n",
       "      <td>...</td>\n",
       "      <td>...</td>\n",
       "      <td>...</td>\n",
       "      <td>...</td>\n",
       "      <td>...</td>\n",
       "      <td>...</td>\n",
       "    </tr>\n",
       "    <tr>\n",
       "      <th>495</th>\n",
       "      <td>I think the casting of the actors is exception...</td>\n",
       "      <td>[-0.08991099, -0.08416426, 0.010291509, -0.006...</td>\n",
       "      <td>6.147890</td>\n",
       "      <td>5.795775</td>\n",
       "      <td>X: 6.1479 Y: 5.7958 Content: I think the casti...</td>\n",
       "      <td>56</td>\n",
       "    </tr>\n",
       "    <tr>\n",
       "      <th>496</th>\n",
       "      <td>Even while trying to recover an extremely poor...</td>\n",
       "      <td>[-0.03502663, -0.071942575, 0.0023258077, -0.0...</td>\n",
       "      <td>7.913479</td>\n",
       "      <td>5.936922</td>\n",
       "      <td>X: 7.9135 Y: 5.9369 Content: Even while trying...</td>\n",
       "      <td>29</td>\n",
       "    </tr>\n",
       "    <tr>\n",
       "      <th>497</th>\n",
       "      <td>I was initially sucked in... I am also a huge ...</td>\n",
       "      <td>[-0.012135552, -0.019680196, 0.014521928, 0.06...</td>\n",
       "      <td>6.868710</td>\n",
       "      <td>6.213500</td>\n",
       "      <td>X: 6.8687 Y: 6.2135 Content: I was initially s...</td>\n",
       "      <td>84</td>\n",
       "    </tr>\n",
       "    <tr>\n",
       "      <th>498</th>\n",
       "      <td>Eddie Murphy is at it again in his movie Imagi...</td>\n",
       "      <td>[-0.08654306, -0.05013336, -0.075973876, -0.00...</td>\n",
       "      <td>7.160414</td>\n",
       "      <td>5.988025</td>\n",
       "      <td>X: 7.1604 Y: 5.988 Content: Eddie Murphy is at...</td>\n",
       "      <td>46</td>\n",
       "    </tr>\n",
       "    <tr>\n",
       "      <th>499</th>\n",
       "      <td>I know there are a lot of people out there loo...</td>\n",
       "      <td>[0.038241267, -0.075930655, 0.02638589, 0.0284...</td>\n",
       "      <td>9.085627</td>\n",
       "      <td>7.857281</td>\n",
       "      <td>X: 9.0856 Y: 7.8573 Content: I know there are ...</td>\n",
       "      <td>21</td>\n",
       "    </tr>\n",
       "  </tbody>\n",
       "</table>\n",
       "<p>500 rows × 6 columns</p>\n",
       "</div>"
      ],
      "text/plain": [
       "                                          data_process  \\\n",
       "0    Literally one of the darkest of noir films, th...   \n",
       "1    I'm all for freedom of expression, and would n...   \n",
       "2    THIS IS QUITE A DIFFERENT MOVIE, BUT A TREAT T...   \n",
       "3    How does one start a commentary on such a perf...   \n",
       "4    I used to watch this show when I was growing u...   \n",
       "..                                                 ...   \n",
       "495  I think the casting of the actors is exception...   \n",
       "496  Even while trying to recover an extremely poor...   \n",
       "497  I was initially sucked in... I am also a huge ...   \n",
       "498  Eddie Murphy is at it again in his movie Imagi...   \n",
       "499  I know there are a lot of people out there loo...   \n",
       "\n",
       "                                                vector          x         y  \\\n",
       "0    [-0.07702932, 0.0068955673, -0.07380701, -0.01...   7.758976  4.928448   \n",
       "1    [0.015273209, -0.052728225, -0.042011295, -0.0...   9.162966  8.187388   \n",
       "2    [-0.008729575, -0.04776459, 0.019168468, 0.024...   9.870467  6.238839   \n",
       "3    [-0.050786864, -0.070286565, -0.027059635, -0....   6.308136  6.059481   \n",
       "4    [-0.01940856, -0.026941257, -0.01201553, -0.01...  10.149480  6.295237   \n",
       "..                                                 ...        ...       ...   \n",
       "495  [-0.08991099, -0.08416426, 0.010291509, -0.006...   6.147890  5.795775   \n",
       "496  [-0.03502663, -0.071942575, 0.0023258077, -0.0...   7.913479  5.936922   \n",
       "497  [-0.012135552, -0.019680196, 0.014521928, 0.06...   6.868710  6.213500   \n",
       "498  [-0.08654306, -0.05013336, -0.075973876, -0.00...   7.160414  5.988025   \n",
       "499  [0.038241267, -0.075930655, 0.02638589, 0.0284...   9.085627  7.857281   \n",
       "\n",
       "                                          data_display  cluster  \n",
       "0    X: 7.759 Y: 4.9284 Content: Literally one of t...        4  \n",
       "1    X: 9.163 Y: 8.1874 Content: I'm all for freedo...        3  \n",
       "2    X: 9.8705 Y: 6.2388 Content: THIS IS QUITE A D...        1  \n",
       "3    X: 6.3081 Y: 6.0595 Content: How does one star...       55  \n",
       "4    X: 10.1495 Y: 6.2952 Content: I used to watch ...        1  \n",
       "..                                                 ...      ...  \n",
       "495  X: 6.1479 Y: 5.7958 Content: I think the casti...       56  \n",
       "496  X: 7.9135 Y: 5.9369 Content: Even while trying...       29  \n",
       "497  X: 6.8687 Y: 6.2135 Content: I was initially s...       84  \n",
       "498  X: 7.1604 Y: 5.988 Content: Eddie Murphy is at...       46  \n",
       "499  X: 9.0856 Y: 7.8573 Content: I know there are ...       21  \n",
       "\n",
       "[500 rows x 6 columns]"
      ]
     },
     "execution_count": 26,
     "metadata": {},
     "output_type": "execute_result"
    }
   ],
   "source": [
    "process_data"
   ]
  },
  {
   "cell_type": "markdown",
   "id": "5342697a-9197-449f-b900-e9f2b9f081a4",
   "metadata": {
    "jp-MarkdownHeadingCollapsed": true
   },
   "source": [
    "### **Generate Wizmap : get data.ndjson and grid.json**"
   ]
  },
  {
   "cell_type": "code",
   "execution_count": 37,
   "id": "22c547c1-f141-48e7-99a8-ac26cdb286d7",
   "metadata": {},
   "outputs": [],
   "source": [
    "from dsm_wizservices import Generate_Wizmap\n",
    "import wizmap\n",
    "import os\n",
    "\n",
    "os.makedirs('./output_test/', exist_ok=True)"
   ]
  },
  {
   "cell_type": "code",
   "execution_count": 34,
   "id": "99205f44-4aa8-40f5-b7e9-384418dc85c1",
   "metadata": {},
   "outputs": [],
   "source": [
    "wiz_generator = Generate_Wizmap(save_file_path='./output_test/', cv=cv, verbose=False)"
   ]
  },
  {
   "cell_type": "code",
   "execution_count": 35,
   "id": "a659dee3-843b-4beb-9b24-be0fc56ee02c",
   "metadata": {},
   "outputs": [],
   "source": [
    "wiz_generator.input(process_data)"
   ]
  },
  {
   "cell_type": "code",
   "execution_count": 36,
   "id": "5422a50e-d982-4458-a9e5-b9c1173ebebd",
   "metadata": {},
   "outputs": [
    {
     "name": "stderr",
     "output_type": "stream",
     "text": [
      "500it [00:00, 478474.10it/s]\n",
      "100%|█████████████████████████████████████████████████████████████████████████████████████████████████████████████████████████████████████████████████████████| 6/6 [00:00<00:00, 22.74it/s]\n",
      "100%|████████████████████████████████████████████████████████████████████████████████████████████████████████████████████████████████████████████████| 500/500 [00:00<00:00, 4306266.94it/s]\n"
     ]
    }
   ],
   "source": [
    "wiz_generator.run()"
   ]
  },
  {
   "cell_type": "code",
   "execution_count": 42,
   "id": "39912409-3a3e-4532-8ecb-eb32b7804c49",
   "metadata": {},
   "outputs": [
    {
     "data": {
      "text/plain": [
       "['grid.json', 'data.ndjson']"
      ]
     },
     "execution_count": 42,
     "metadata": {},
     "output_type": "execute_result"
    }
   ],
   "source": [
    "os.listdir('./output_test/wizmapJson/')"
   ]
  },
  {
   "cell_type": "code",
   "execution_count": 9,
   "id": "44c81bea-2e9b-4e8c-82a4-a66a938440b8",
   "metadata": {},
   "outputs": [],
   "source": [
    "from model.generate_vector import Generate_Vector\n",
    "from sentence_transformers import SentenceTransformer \n",
    "from umap import UMAP"
   ]
  },
  {
   "cell_type": "code",
   "execution_count": 10,
   "id": "550c9f48-0cd6-4d86-81ba-16a56cd6adf0",
   "metadata": {},
   "outputs": [
    {
     "name": "stderr",
     "output_type": "stream",
     "text": [
      "/Users/peetiphartsuebpeng/Documents/CONDA_ENV/env-wizmap/lib/python3.12/site-packages/huggingface_hub/file_download.py:1132: FutureWarning: `resume_download` is deprecated and will be removed in version 1.0.0. Downloads always resume when possible. If you want to force a new download, use `force_download=True`.\n",
      "  warnings.warn(\n"
     ]
    }
   ],
   "source": [
    "verbose = True\n",
    "transformer = SentenceTransformer('sentence-transformers/all-MiniLM-L6-v2',device='cpu')\n",
    "reducer = UMAP(verbose=verbose)\n",
    "generator = Generate_Vector(embedding_model=transformer, \n",
    "    reduce_dimension_model=reducer ,\n",
    "    batch_size=120, \n",
    "    verbose=verbose, \n",
    "    save_path='./output/')"
   ]
  },
  {
   "cell_type": "code",
   "execution_count": 13,
   "id": "3611d979-1325-410f-b271-9a817a665ded",
   "metadata": {},
   "outputs": [],
   "source": [
    "generator.input(df['text'].tolist())"
   ]
  },
  {
   "cell_type": "code",
   "execution_count": 14,
   "id": "96b935d7-1d92-4826-b9a3-2685455a92af",
   "metadata": {},
   "outputs": [
    {
     "name": "stdout",
     "output_type": "stream",
     "text": [
      "###### Words Embedding ######\n",
      "\n"
     ]
    },
    {
     "data": {
      "application/vnd.jupyter.widget-view+json": {
       "model_id": "498f9121232e4de492020490e7f7dfdd",
       "version_major": 2,
       "version_minor": 0
      },
      "text/plain": [
       "Batches:   0%|          | 0/2 [00:00<?, ?it/s]"
      ]
     },
     "metadata": {},
     "output_type": "display_data"
    },
    {
     "name": "stdout",
     "output_type": "stream",
     "text": [
      "\n",
      "###### Vector Reduction Dimensions ######\n",
      "\n",
      "UMAP( verbose=True)\n",
      "Thu Jun 20 14:49:10 2024 Construct fuzzy simplicial set\n",
      "Thu Jun 20 14:49:10 2024 Finding Nearest Neighbors\n"
     ]
    },
    {
     "name": "stderr",
     "output_type": "stream",
     "text": [
      "OMP: Info #276: omp_set_nested routine deprecated, please use omp_set_max_active_levels instead.\n"
     ]
    },
    {
     "name": "stdout",
     "output_type": "stream",
     "text": [
      "Thu Jun 20 14:49:11 2024 Finished Nearest Neighbor Search\n",
      "Thu Jun 20 14:49:12 2024 Construct embedding\n"
     ]
    },
    {
     "data": {
      "application/vnd.jupyter.widget-view+json": {
       "model_id": "82ce6b3699be48cea3138034e653f619",
       "version_major": 2,
       "version_minor": 0
      },
      "text/plain": [
       "Epochs completed:   0%|            0/500 [00:00]"
      ]
     },
     "metadata": {},
     "output_type": "display_data"
    },
    {
     "name": "stdout",
     "output_type": "stream",
     "text": [
      "\tcompleted  0  /  500 epochs\n",
      "\tcompleted  50  /  500 epochs\n",
      "\tcompleted  100  /  500 epochs\n",
      "\tcompleted  150  /  500 epochs\n",
      "\tcompleted  200  /  500 epochs\n",
      "\tcompleted  250  /  500 epochs\n",
      "\tcompleted  300  /  500 epochs\n",
      "\tcompleted  350  /  500 epochs\n",
      "\tcompleted  400  /  500 epochs\n",
      "\tcompleted  450  /  500 epochs\n",
      "Thu Jun 20 14:49:13 2024 Finished embedding\n"
     ]
    }
   ],
   "source": [
    "model_log, data = generator.run()"
   ]
  },
  {
   "cell_type": "code",
   "execution_count": 15,
   "id": "34dd746f-fc00-41a7-8458-e2015d11e9c6",
   "metadata": {},
   "outputs": [
    {
     "data": {
      "text/html": [
       "<div>\n",
       "<style scoped>\n",
       "    .dataframe tbody tr th:only-of-type {\n",
       "        vertical-align: middle;\n",
       "    }\n",
       "\n",
       "    .dataframe tbody tr th {\n",
       "        vertical-align: top;\n",
       "    }\n",
       "\n",
       "    .dataframe thead th {\n",
       "        text-align: right;\n",
       "    }\n",
       "</style>\n",
       "<table border=\"1\" class=\"dataframe\">\n",
       "  <thead>\n",
       "    <tr style=\"text-align: right;\">\n",
       "      <th></th>\n",
       "      <th>data_process</th>\n",
       "      <th>vector</th>\n",
       "      <th>x</th>\n",
       "      <th>y</th>\n",
       "      <th>data_display</th>\n",
       "    </tr>\n",
       "  </thead>\n",
       "  <tbody>\n",
       "    <tr>\n",
       "      <th>0</th>\n",
       "      <td>title: Genotype by environment interaction eff...</td>\n",
       "      <td>[-0.011761735, -0.024193902, -0.06229731, 0.03...</td>\n",
       "      <td>-3.358461</td>\n",
       "      <td>2.305671</td>\n",
       "      <td>X: -3.3585 Y: 2.3057 Content: title: Genotype ...</td>\n",
       "    </tr>\n",
       "    <tr>\n",
       "      <th>1</th>\n",
       "      <td>title: Bioassay-guided isolation of a vasorela...</td>\n",
       "      <td>[-0.014491484, -0.01157876, -0.09853511, -0.01...</td>\n",
       "      <td>-5.938834</td>\n",
       "      <td>4.781258</td>\n",
       "      <td>X: -5.9388 Y: 4.7813 Content: title: Bioassay-...</td>\n",
       "    </tr>\n",
       "    <tr>\n",
       "      <th>2</th>\n",
       "      <td>title: Bioadhesive dermal patch as promising a...</td>\n",
       "      <td>[-0.05881872, -0.04401235, -0.041604377, -0.03...</td>\n",
       "      <td>-4.507442</td>\n",
       "      <td>3.216583</td>\n",
       "      <td>X: -4.5074 Y: 3.2166 Content: title: Bioadhesi...</td>\n",
       "    </tr>\n",
       "    <tr>\n",
       "      <th>3</th>\n",
       "      <td>title: ESSENTIAL OIL OF Curcuma longa L. RHIZO...</td>\n",
       "      <td>[0.0023844952, -0.061585624, -0.06964083, 0.01...</td>\n",
       "      <td>-3.562569</td>\n",
       "      <td>2.119775</td>\n",
       "      <td>X: -3.5626 Y: 2.1198 Content: title: ESSENTIAL...</td>\n",
       "    </tr>\n",
       "    <tr>\n",
       "      <th>4</th>\n",
       "      <td>title: Adaptogenic-active components from Kaem...</td>\n",
       "      <td>[0.0131213525, -0.05999834, -0.053973444, 0.05...</td>\n",
       "      <td>-6.321672</td>\n",
       "      <td>6.169890</td>\n",
       "      <td>X: -6.3217 Y: 6.1699 Content: title: Adaptogen...</td>\n",
       "    </tr>\n",
       "    <tr>\n",
       "      <th>...</th>\n",
       "      <td>...</td>\n",
       "      <td>...</td>\n",
       "      <td>...</td>\n",
       "      <td>...</td>\n",
       "      <td>...</td>\n",
       "    </tr>\n",
       "    <tr>\n",
       "      <th>195</th>\n",
       "      <td>title: Challenges in Optimizing Nanoplatforms ...</td>\n",
       "      <td>[0.032540128, -0.1696602, 0.026023295, -0.0140...</td>\n",
       "      <td>-4.136169</td>\n",
       "      <td>3.087486</td>\n",
       "      <td>X: -4.1362 Y: 3.0875 Content: title: Challenge...</td>\n",
       "    </tr>\n",
       "    <tr>\n",
       "      <th>196</th>\n",
       "      <td>title: The Role of Garlic in Hepatopulmonary S...</td>\n",
       "      <td>[0.015100233, 0.036982786, -0.08282912, 0.0598...</td>\n",
       "      <td>-1.441832</td>\n",
       "      <td>7.270166</td>\n",
       "      <td>X: -1.4418 Y: 7.2702 Content: title: The Role ...</td>\n",
       "    </tr>\n",
       "    <tr>\n",
       "      <th>197</th>\n",
       "      <td>title: Identifikasi Jenis Bahan Aktif dan Peng...</td>\n",
       "      <td>[-0.00013802102, -0.002648368, -0.034641653, -...</td>\n",
       "      <td>-4.780901</td>\n",
       "      <td>5.052386</td>\n",
       "      <td>X: -4.7809 Y: 5.0524 Content: title: Identifik...</td>\n",
       "    </tr>\n",
       "    <tr>\n",
       "      <th>198</th>\n",
       "      <td>title: Dry-matter production and accumulation ...</td>\n",
       "      <td>[0.034621872, -0.015346619, -0.06576741, 0.010...</td>\n",
       "      <td>-6.423589</td>\n",
       "      <td>4.243403</td>\n",
       "      <td>X: -6.4236 Y: 4.2434 Content: title: Dry-matte...</td>\n",
       "    </tr>\n",
       "    <tr>\n",
       "      <th>199</th>\n",
       "      <td>title: Haematological and Hepatotoxic Potentia...</td>\n",
       "      <td>[0.06593641, -0.0048804423, -0.050979175, 0.03...</td>\n",
       "      <td>-1.572780</td>\n",
       "      <td>7.747817</td>\n",
       "      <td>X: -1.5728 Y: 7.7478 Content: title: Haematolo...</td>\n",
       "    </tr>\n",
       "  </tbody>\n",
       "</table>\n",
       "<p>200 rows × 5 columns</p>\n",
       "</div>"
      ],
      "text/plain": [
       "                                          data_process  \\\n",
       "0    title: Genotype by environment interaction eff...   \n",
       "1    title: Bioassay-guided isolation of a vasorela...   \n",
       "2    title: Bioadhesive dermal patch as promising a...   \n",
       "3    title: ESSENTIAL OIL OF Curcuma longa L. RHIZO...   \n",
       "4    title: Adaptogenic-active components from Kaem...   \n",
       "..                                                 ...   \n",
       "195  title: Challenges in Optimizing Nanoplatforms ...   \n",
       "196  title: The Role of Garlic in Hepatopulmonary S...   \n",
       "197  title: Identifikasi Jenis Bahan Aktif dan Peng...   \n",
       "198  title: Dry-matter production and accumulation ...   \n",
       "199  title: Haematological and Hepatotoxic Potentia...   \n",
       "\n",
       "                                                vector         x         y  \\\n",
       "0    [-0.011761735, -0.024193902, -0.06229731, 0.03... -3.358461  2.305671   \n",
       "1    [-0.014491484, -0.01157876, -0.09853511, -0.01... -5.938834  4.781258   \n",
       "2    [-0.05881872, -0.04401235, -0.041604377, -0.03... -4.507442  3.216583   \n",
       "3    [0.0023844952, -0.061585624, -0.06964083, 0.01... -3.562569  2.119775   \n",
       "4    [0.0131213525, -0.05999834, -0.053973444, 0.05... -6.321672  6.169890   \n",
       "..                                                 ...       ...       ...   \n",
       "195  [0.032540128, -0.1696602, 0.026023295, -0.0140... -4.136169  3.087486   \n",
       "196  [0.015100233, 0.036982786, -0.08282912, 0.0598... -1.441832  7.270166   \n",
       "197  [-0.00013802102, -0.002648368, -0.034641653, -... -4.780901  5.052386   \n",
       "198  [0.034621872, -0.015346619, -0.06576741, 0.010... -6.423589  4.243403   \n",
       "199  [0.06593641, -0.0048804423, -0.050979175, 0.03... -1.572780  7.747817   \n",
       "\n",
       "                                          data_display  \n",
       "0    X: -3.3585 Y: 2.3057 Content: title: Genotype ...  \n",
       "1    X: -5.9388 Y: 4.7813 Content: title: Bioassay-...  \n",
       "2    X: -4.5074 Y: 3.2166 Content: title: Bioadhesi...  \n",
       "3    X: -3.5626 Y: 2.1198 Content: title: ESSENTIAL...  \n",
       "4    X: -6.3217 Y: 6.1699 Content: title: Adaptogen...  \n",
       "..                                                 ...  \n",
       "195  X: -4.1362 Y: 3.0875 Content: title: Challenge...  \n",
       "196  X: -1.4418 Y: 7.2702 Content: title: The Role ...  \n",
       "197  X: -4.7809 Y: 5.0524 Content: title: Identifik...  \n",
       "198  X: -6.4236 Y: 4.2434 Content: title: Dry-matte...  \n",
       "199  X: -1.5728 Y: 7.7478 Content: title: Haematolo...  \n",
       "\n",
       "[200 rows x 5 columns]"
      ]
     },
     "execution_count": 15,
     "metadata": {},
     "output_type": "execute_result"
    }
   ],
   "source": [
    "data"
   ]
  },
  {
   "cell_type": "code",
   "execution_count": 16,
   "id": "869320b9-9096-4b0d-92a2-ca7e30b46539",
   "metadata": {},
   "outputs": [
    {
     "data": {
      "text/plain": [
       "{'sentence_transform': {'model': SentenceTransformer(\n",
       "    (0): Transformer({'max_seq_length': 256, 'do_lower_case': False}) with Transformer model: BertModel \n",
       "    (1): Pooling({'word_embedding_dimension': 384, 'pooling_mode_cls_token': False, 'pooling_mode_mean_tokens': True, 'pooling_mode_max_tokens': False, 'pooling_mode_mean_sqrt_len_tokens': False, 'pooling_mode_weightedmean_tokens': False, 'pooling_mode_lasttoken': False, 'include_prompt': True})\n",
       "    (2): Normalize()\n",
       "  ),\n",
       "  'vector': array([[-0.01176174, -0.0241939 , -0.06229731, ..., -0.00565795,\n",
       "          -0.02784921, -0.03368229],\n",
       "         [-0.01449148, -0.01157876, -0.09853511, ..., -0.0435152 ,\n",
       "           0.0094782 ,  0.03067777],\n",
       "         [-0.05881872, -0.04401235, -0.04160438, ..., -0.0961917 ,\n",
       "           0.04917942,  0.08210851],\n",
       "         ...,\n",
       "         [-0.00013802, -0.00264837, -0.03464165, ..., -0.08349542,\n",
       "          -0.02912513,  0.04641533],\n",
       "         [ 0.03462187, -0.01534662, -0.06576741, ..., -0.07276306,\n",
       "          -0.03242632, -0.0106422 ],\n",
       "         [ 0.06593641, -0.00488044, -0.05097917, ...,  0.0432571 ,\n",
       "          -0.01390328,  0.05606864]], dtype=float32)},\n",
       " 'umap': UMAP( verbose=True)}"
      ]
     },
     "execution_count": 16,
     "metadata": {},
     "output_type": "execute_result"
    }
   ],
   "source": [
    "model_log"
   ]
  },
  {
   "cell_type": "markdown",
   "id": "e0e85fea-aa43-45b8-a0fb-9c15cb87e889",
   "metadata": {},
   "source": [
    "### Mini_Bert"
   ]
  },
  {
   "cell_type": "code",
   "execution_count": 17,
   "id": "591d9e43-ba42-4a49-802f-4f08a94624c3",
   "metadata": {},
   "outputs": [],
   "source": [
    "from model.generate_topic import llm_summary_cluster, find_topic, Mini_Bert\n",
    "from sklearn.cluster import KMeans\n",
    "from sklearn.feature_extraction.text import CountVectorizer"
   ]
  },
  {
   "cell_type": "code",
   "execution_count": 18,
   "id": "336ab092-67e4-42b2-b151-dcc6f777fa43",
   "metadata": {},
   "outputs": [
    {
     "data": {
      "text/html": [
       "<div>\n",
       "<style scoped>\n",
       "    .dataframe tbody tr th:only-of-type {\n",
       "        vertical-align: middle;\n",
       "    }\n",
       "\n",
       "    .dataframe tbody tr th {\n",
       "        vertical-align: top;\n",
       "    }\n",
       "\n",
       "    .dataframe thead th {\n",
       "        text-align: right;\n",
       "    }\n",
       "</style>\n",
       "<table border=\"1\" class=\"dataframe\">\n",
       "  <thead>\n",
       "    <tr style=\"text-align: right;\">\n",
       "      <th></th>\n",
       "      <th>data_process</th>\n",
       "      <th>vector</th>\n",
       "      <th>x</th>\n",
       "      <th>y</th>\n",
       "      <th>data_display</th>\n",
       "    </tr>\n",
       "  </thead>\n",
       "  <tbody>\n",
       "    <tr>\n",
       "      <th>0</th>\n",
       "      <td>title: Genotype by environment interaction eff...</td>\n",
       "      <td>[-0.011761735, -0.024193902, -0.06229731, 0.03...</td>\n",
       "      <td>-3.358461</td>\n",
       "      <td>2.305671</td>\n",
       "      <td>X: -3.3585 Y: 2.3057 Content: title: Genotype ...</td>\n",
       "    </tr>\n",
       "    <tr>\n",
       "      <th>1</th>\n",
       "      <td>title: Bioassay-guided isolation of a vasorela...</td>\n",
       "      <td>[-0.014491484, -0.01157876, -0.09853511, -0.01...</td>\n",
       "      <td>-5.938834</td>\n",
       "      <td>4.781258</td>\n",
       "      <td>X: -5.9388 Y: 4.7813 Content: title: Bioassay-...</td>\n",
       "    </tr>\n",
       "    <tr>\n",
       "      <th>2</th>\n",
       "      <td>title: Bioadhesive dermal patch as promising a...</td>\n",
       "      <td>[-0.05881872, -0.04401235, -0.041604377, -0.03...</td>\n",
       "      <td>-4.507442</td>\n",
       "      <td>3.216583</td>\n",
       "      <td>X: -4.5074 Y: 3.2166 Content: title: Bioadhesi...</td>\n",
       "    </tr>\n",
       "    <tr>\n",
       "      <th>3</th>\n",
       "      <td>title: ESSENTIAL OIL OF Curcuma longa L. RHIZO...</td>\n",
       "      <td>[0.0023844952, -0.061585624, -0.06964083, 0.01...</td>\n",
       "      <td>-3.562569</td>\n",
       "      <td>2.119775</td>\n",
       "      <td>X: -3.5626 Y: 2.1198 Content: title: ESSENTIAL...</td>\n",
       "    </tr>\n",
       "    <tr>\n",
       "      <th>4</th>\n",
       "      <td>title: Adaptogenic-active components from Kaem...</td>\n",
       "      <td>[0.0131213525, -0.05999834, -0.053973444, 0.05...</td>\n",
       "      <td>-6.321672</td>\n",
       "      <td>6.169890</td>\n",
       "      <td>X: -6.3217 Y: 6.1699 Content: title: Adaptogen...</td>\n",
       "    </tr>\n",
       "    <tr>\n",
       "      <th>...</th>\n",
       "      <td>...</td>\n",
       "      <td>...</td>\n",
       "      <td>...</td>\n",
       "      <td>...</td>\n",
       "      <td>...</td>\n",
       "    </tr>\n",
       "    <tr>\n",
       "      <th>195</th>\n",
       "      <td>title: Challenges in Optimizing Nanoplatforms ...</td>\n",
       "      <td>[0.032540128, -0.1696602, 0.026023295, -0.0140...</td>\n",
       "      <td>-4.136169</td>\n",
       "      <td>3.087486</td>\n",
       "      <td>X: -4.1362 Y: 3.0875 Content: title: Challenge...</td>\n",
       "    </tr>\n",
       "    <tr>\n",
       "      <th>196</th>\n",
       "      <td>title: The Role of Garlic in Hepatopulmonary S...</td>\n",
       "      <td>[0.015100233, 0.036982786, -0.08282912, 0.0598...</td>\n",
       "      <td>-1.441832</td>\n",
       "      <td>7.270166</td>\n",
       "      <td>X: -1.4418 Y: 7.2702 Content: title: The Role ...</td>\n",
       "    </tr>\n",
       "    <tr>\n",
       "      <th>197</th>\n",
       "      <td>title: Identifikasi Jenis Bahan Aktif dan Peng...</td>\n",
       "      <td>[-0.00013802102, -0.002648368, -0.034641653, -...</td>\n",
       "      <td>-4.780901</td>\n",
       "      <td>5.052386</td>\n",
       "      <td>X: -4.7809 Y: 5.0524 Content: title: Identifik...</td>\n",
       "    </tr>\n",
       "    <tr>\n",
       "      <th>198</th>\n",
       "      <td>title: Dry-matter production and accumulation ...</td>\n",
       "      <td>[0.034621872, -0.015346619, -0.06576741, 0.010...</td>\n",
       "      <td>-6.423589</td>\n",
       "      <td>4.243403</td>\n",
       "      <td>X: -6.4236 Y: 4.2434 Content: title: Dry-matte...</td>\n",
       "    </tr>\n",
       "    <tr>\n",
       "      <th>199</th>\n",
       "      <td>title: Haematological and Hepatotoxic Potentia...</td>\n",
       "      <td>[0.06593641, -0.0048804423, -0.050979175, 0.03...</td>\n",
       "      <td>-1.572780</td>\n",
       "      <td>7.747817</td>\n",
       "      <td>X: -1.5728 Y: 7.7478 Content: title: Haematolo...</td>\n",
       "    </tr>\n",
       "  </tbody>\n",
       "</table>\n",
       "<p>200 rows × 5 columns</p>\n",
       "</div>"
      ],
      "text/plain": [
       "                                          data_process  \\\n",
       "0    title: Genotype by environment interaction eff...   \n",
       "1    title: Bioassay-guided isolation of a vasorela...   \n",
       "2    title: Bioadhesive dermal patch as promising a...   \n",
       "3    title: ESSENTIAL OIL OF Curcuma longa L. RHIZO...   \n",
       "4    title: Adaptogenic-active components from Kaem...   \n",
       "..                                                 ...   \n",
       "195  title: Challenges in Optimizing Nanoplatforms ...   \n",
       "196  title: The Role of Garlic in Hepatopulmonary S...   \n",
       "197  title: Identifikasi Jenis Bahan Aktif dan Peng...   \n",
       "198  title: Dry-matter production and accumulation ...   \n",
       "199  title: Haematological and Hepatotoxic Potentia...   \n",
       "\n",
       "                                                vector         x         y  \\\n",
       "0    [-0.011761735, -0.024193902, -0.06229731, 0.03... -3.358461  2.305671   \n",
       "1    [-0.014491484, -0.01157876, -0.09853511, -0.01... -5.938834  4.781258   \n",
       "2    [-0.05881872, -0.04401235, -0.041604377, -0.03... -4.507442  3.216583   \n",
       "3    [0.0023844952, -0.061585624, -0.06964083, 0.01... -3.562569  2.119775   \n",
       "4    [0.0131213525, -0.05999834, -0.053973444, 0.05... -6.321672  6.169890   \n",
       "..                                                 ...       ...       ...   \n",
       "195  [0.032540128, -0.1696602, 0.026023295, -0.0140... -4.136169  3.087486   \n",
       "196  [0.015100233, 0.036982786, -0.08282912, 0.0598... -1.441832  7.270166   \n",
       "197  [-0.00013802102, -0.002648368, -0.034641653, -... -4.780901  5.052386   \n",
       "198  [0.034621872, -0.015346619, -0.06576741, 0.010... -6.423589  4.243403   \n",
       "199  [0.06593641, -0.0048804423, -0.050979175, 0.03... -1.572780  7.747817   \n",
       "\n",
       "                                          data_display  \n",
       "0    X: -3.3585 Y: 2.3057 Content: title: Genotype ...  \n",
       "1    X: -5.9388 Y: 4.7813 Content: title: Bioassay-...  \n",
       "2    X: -4.5074 Y: 3.2166 Content: title: Bioadhesi...  \n",
       "3    X: -3.5626 Y: 2.1198 Content: title: ESSENTIAL...  \n",
       "4    X: -6.3217 Y: 6.1699 Content: title: Adaptogen...  \n",
       "..                                                 ...  \n",
       "195  X: -4.1362 Y: 3.0875 Content: title: Challenge...  \n",
       "196  X: -1.4418 Y: 7.2702 Content: title: The Role ...  \n",
       "197  X: -4.7809 Y: 5.0524 Content: title: Identifik...  \n",
       "198  X: -6.4236 Y: 4.2434 Content: title: Dry-matte...  \n",
       "199  X: -1.5728 Y: 7.7478 Content: title: Haematolo...  \n",
       "\n",
       "[200 rows x 5 columns]"
      ]
     },
     "execution_count": 18,
     "metadata": {},
     "output_type": "execute_result"
    }
   ],
   "source": [
    "df = pd.read_parquet('./output/data.parquet')\n",
    "df"
   ]
  },
  {
   "cell_type": "code",
   "execution_count": 20,
   "id": "6157ed53-e35b-4215-b28f-f23cbcbcd2f9",
   "metadata": {},
   "outputs": [],
   "source": [
    "kmeans = KMeans(n_clusters=3, random_state=123, n_init=\"auto\", )\n",
    "cvec = CountVectorizer(stop_words=\"english\", ngram_range=(1, 1))"
   ]
  },
  {
   "cell_type": "code",
   "execution_count": 23,
   "id": "7fe87d8e-7a50-477e-9dd9-2549665736ca",
   "metadata": {},
   "outputs": [],
   "source": [
    "bert = Mini_Bert(gemini_token=gemini_key,\n",
    "                 save_path=\"./output\", \n",
    "                 cluster=kmeans, \n",
    "                 cv=cvec, \n",
    "                 verbose=True)"
   ]
  },
  {
   "cell_type": "code",
   "execution_count": 25,
   "id": "4ad6565b-a0ed-4da4-98bc-b5f9f0548acf",
   "metadata": {},
   "outputs": [
    {
     "data": {
      "application/vnd.jupyter.widget-view+json": {
       "model_id": "a43148d508d04566a8b5b41372a940ed",
       "version_major": 2,
       "version_minor": 0
      },
      "text/plain": [
       "Cluster :   0%|          | 0/3 [00:00<?, ?it/s]"
      ]
     },
     "metadata": {},
     "output_type": "display_data"
    },
    {
     "name": "stderr",
     "output_type": "stream",
     "text": [
      "/Users/peetiphartsuebpeng/Documents/PROJECT/generate-wizmap-dev/model/generate_topic/node.py:240: UserWarning: create summary fail\te:429 Resource has been exhausted (e.g. check quota). attemp new one\n",
      "  warnings.warn(f\"create summary fail\\te:{e} attemp new one\")\n"
     ]
    }
   ],
   "source": [
    "bert.input(df)\n",
    "rs, model_log, df = bert.run()\n",
    "# rs = bert.run()"
   ]
  },
  {
   "cell_type": "code",
   "execution_count": 31,
   "id": "37d36fe5-3f57-480b-876c-b239c5e5e337",
   "metadata": {},
   "outputs": [],
   "source": [
    "# eval(err[0].replace('// Add more details as needed', ''))"
   ]
  },
  {
   "cell_type": "code",
   "execution_count": 33,
   "id": "41ddd3cd-9e1b-4a49-9727-11e0d6e86178",
   "metadata": {},
   "outputs": [
    {
     "data": {
      "text/html": [
       "<div>\n",
       "<style scoped>\n",
       "    .dataframe tbody tr th:only-of-type {\n",
       "        vertical-align: middle;\n",
       "    }\n",
       "\n",
       "    .dataframe tbody tr th {\n",
       "        vertical-align: top;\n",
       "    }\n",
       "\n",
       "    .dataframe thead th {\n",
       "        text-align: right;\n",
       "    }\n",
       "</style>\n",
       "<table border=\"1\" class=\"dataframe\">\n",
       "  <thead>\n",
       "    <tr style=\"text-align: right;\">\n",
       "      <th></th>\n",
       "      <th>data_process</th>\n",
       "      <th>vector</th>\n",
       "      <th>x</th>\n",
       "      <th>y</th>\n",
       "      <th>data_display</th>\n",
       "      <th>cluster</th>\n",
       "    </tr>\n",
       "  </thead>\n",
       "  <tbody>\n",
       "    <tr>\n",
       "      <th>0</th>\n",
       "      <td>title: Genotype by environment interaction eff...</td>\n",
       "      <td>[-0.011761735, -0.024193902, -0.06229731, 0.03...</td>\n",
       "      <td>-3.358461</td>\n",
       "      <td>2.305671</td>\n",
       "      <td>X: -3.3585 Y: 2.3057 Content: title: Genotype ...</td>\n",
       "      <td>1</td>\n",
       "    </tr>\n",
       "    <tr>\n",
       "      <th>1</th>\n",
       "      <td>title: Bioassay-guided isolation of a vasorela...</td>\n",
       "      <td>[-0.014491484, -0.01157876, -0.09853511, -0.01...</td>\n",
       "      <td>-5.938834</td>\n",
       "      <td>4.781258</td>\n",
       "      <td>X: -5.9388 Y: 4.7813 Content: title: Bioassay-...</td>\n",
       "      <td>0</td>\n",
       "    </tr>\n",
       "    <tr>\n",
       "      <th>2</th>\n",
       "      <td>title: Bioadhesive dermal patch as promising a...</td>\n",
       "      <td>[-0.05881872, -0.04401235, -0.041604377, -0.03...</td>\n",
       "      <td>-4.507442</td>\n",
       "      <td>3.216583</td>\n",
       "      <td>X: -4.5074 Y: 3.2166 Content: title: Bioadhesi...</td>\n",
       "      <td>1</td>\n",
       "    </tr>\n",
       "    <tr>\n",
       "      <th>3</th>\n",
       "      <td>title: ESSENTIAL OIL OF Curcuma longa L. RHIZO...</td>\n",
       "      <td>[0.0023844952, -0.061585624, -0.06964083, 0.01...</td>\n",
       "      <td>-3.562569</td>\n",
       "      <td>2.119775</td>\n",
       "      <td>X: -3.5626 Y: 2.1198 Content: title: ESSENTIAL...</td>\n",
       "      <td>1</td>\n",
       "    </tr>\n",
       "    <tr>\n",
       "      <th>4</th>\n",
       "      <td>title: Adaptogenic-active components from Kaem...</td>\n",
       "      <td>[0.0131213525, -0.05999834, -0.053973444, 0.05...</td>\n",
       "      <td>-6.321672</td>\n",
       "      <td>6.169890</td>\n",
       "      <td>X: -6.3217 Y: 6.1699 Content: title: Adaptogen...</td>\n",
       "      <td>0</td>\n",
       "    </tr>\n",
       "    <tr>\n",
       "      <th>...</th>\n",
       "      <td>...</td>\n",
       "      <td>...</td>\n",
       "      <td>...</td>\n",
       "      <td>...</td>\n",
       "      <td>...</td>\n",
       "      <td>...</td>\n",
       "    </tr>\n",
       "    <tr>\n",
       "      <th>195</th>\n",
       "      <td>title: Challenges in Optimizing Nanoplatforms ...</td>\n",
       "      <td>[0.032540128, -0.1696602, 0.026023295, -0.0140...</td>\n",
       "      <td>-4.136169</td>\n",
       "      <td>3.087486</td>\n",
       "      <td>X: -4.1362 Y: 3.0875 Content: title: Challenge...</td>\n",
       "      <td>1</td>\n",
       "    </tr>\n",
       "    <tr>\n",
       "      <th>196</th>\n",
       "      <td>title: The Role of Garlic in Hepatopulmonary S...</td>\n",
       "      <td>[0.015100233, 0.036982786, -0.08282912, 0.0598...</td>\n",
       "      <td>-1.441832</td>\n",
       "      <td>7.270166</td>\n",
       "      <td>X: -1.4418 Y: 7.2702 Content: title: The Role ...</td>\n",
       "      <td>2</td>\n",
       "    </tr>\n",
       "    <tr>\n",
       "      <th>197</th>\n",
       "      <td>title: Identifikasi Jenis Bahan Aktif dan Peng...</td>\n",
       "      <td>[-0.00013802102, -0.002648368, -0.034641653, -...</td>\n",
       "      <td>-4.780901</td>\n",
       "      <td>5.052386</td>\n",
       "      <td>X: -4.7809 Y: 5.0524 Content: title: Identifik...</td>\n",
       "      <td>0</td>\n",
       "    </tr>\n",
       "    <tr>\n",
       "      <th>198</th>\n",
       "      <td>title: Dry-matter production and accumulation ...</td>\n",
       "      <td>[0.034621872, -0.015346619, -0.06576741, 0.010...</td>\n",
       "      <td>-6.423589</td>\n",
       "      <td>4.243403</td>\n",
       "      <td>X: -6.4236 Y: 4.2434 Content: title: Dry-matte...</td>\n",
       "      <td>1</td>\n",
       "    </tr>\n",
       "    <tr>\n",
       "      <th>199</th>\n",
       "      <td>title: Haematological and Hepatotoxic Potentia...</td>\n",
       "      <td>[0.06593641, -0.0048804423, -0.050979175, 0.03...</td>\n",
       "      <td>-1.572780</td>\n",
       "      <td>7.747817</td>\n",
       "      <td>X: -1.5728 Y: 7.7478 Content: title: Haematolo...</td>\n",
       "      <td>2</td>\n",
       "    </tr>\n",
       "  </tbody>\n",
       "</table>\n",
       "<p>200 rows × 6 columns</p>\n",
       "</div>"
      ],
      "text/plain": [
       "                                          data_process  \\\n",
       "0    title: Genotype by environment interaction eff...   \n",
       "1    title: Bioassay-guided isolation of a vasorela...   \n",
       "2    title: Bioadhesive dermal patch as promising a...   \n",
       "3    title: ESSENTIAL OIL OF Curcuma longa L. RHIZO...   \n",
       "4    title: Adaptogenic-active components from Kaem...   \n",
       "..                                                 ...   \n",
       "195  title: Challenges in Optimizing Nanoplatforms ...   \n",
       "196  title: The Role of Garlic in Hepatopulmonary S...   \n",
       "197  title: Identifikasi Jenis Bahan Aktif dan Peng...   \n",
       "198  title: Dry-matter production and accumulation ...   \n",
       "199  title: Haematological and Hepatotoxic Potentia...   \n",
       "\n",
       "                                                vector         x         y  \\\n",
       "0    [-0.011761735, -0.024193902, -0.06229731, 0.03... -3.358461  2.305671   \n",
       "1    [-0.014491484, -0.01157876, -0.09853511, -0.01... -5.938834  4.781258   \n",
       "2    [-0.05881872, -0.04401235, -0.041604377, -0.03... -4.507442  3.216583   \n",
       "3    [0.0023844952, -0.061585624, -0.06964083, 0.01... -3.562569  2.119775   \n",
       "4    [0.0131213525, -0.05999834, -0.053973444, 0.05... -6.321672  6.169890   \n",
       "..                                                 ...       ...       ...   \n",
       "195  [0.032540128, -0.1696602, 0.026023295, -0.0140... -4.136169  3.087486   \n",
       "196  [0.015100233, 0.036982786, -0.08282912, 0.0598... -1.441832  7.270166   \n",
       "197  [-0.00013802102, -0.002648368, -0.034641653, -... -4.780901  5.052386   \n",
       "198  [0.034621872, -0.015346619, -0.06576741, 0.010... -6.423589  4.243403   \n",
       "199  [0.06593641, -0.0048804423, -0.050979175, 0.03... -1.572780  7.747817   \n",
       "\n",
       "                                          data_display  cluster  \n",
       "0    X: -3.3585 Y: 2.3057 Content: title: Genotype ...        1  \n",
       "1    X: -5.9388 Y: 4.7813 Content: title: Bioassay-...        0  \n",
       "2    X: -4.5074 Y: 3.2166 Content: title: Bioadhesi...        1  \n",
       "3    X: -3.5626 Y: 2.1198 Content: title: ESSENTIAL...        1  \n",
       "4    X: -6.3217 Y: 6.1699 Content: title: Adaptogen...        0  \n",
       "..                                                 ...      ...  \n",
       "195  X: -4.1362 Y: 3.0875 Content: title: Challenge...        1  \n",
       "196  X: -1.4418 Y: 7.2702 Content: title: The Role ...        2  \n",
       "197  X: -4.7809 Y: 5.0524 Content: title: Identifik...        0  \n",
       "198  X: -6.4236 Y: 4.2434 Content: title: Dry-matte...        1  \n",
       "199  X: -1.5728 Y: 7.7478 Content: title: Haematolo...        2  \n",
       "\n",
       "[200 rows x 6 columns]"
      ]
     },
     "execution_count": 33,
     "metadata": {},
     "output_type": "execute_result"
    }
   ],
   "source": [
    "df"
   ]
  },
  {
   "cell_type": "markdown",
   "id": "656f41c9-236e-4866-9fe8-51b7c642079b",
   "metadata": {},
   "source": [
    "### Generate_Wizmap"
   ]
  },
  {
   "cell_type": "code",
   "execution_count": 34,
   "id": "6aea2be5-a5d6-4071-b0fa-011cda04841e",
   "metadata": {},
   "outputs": [],
   "source": [
    "import pandas as pd\n",
    "from sklearn.feature_extraction.text import CountVectorizer\n",
    "from model.generate_wizmap import Generate_Wizmap"
   ]
  },
  {
   "cell_type": "code",
   "execution_count": 35,
   "id": "20d4ddaa-f13f-4cb8-85c5-565ced50c31e",
   "metadata": {},
   "outputs": [
    {
     "data": {
      "text/html": [
       "<div>\n",
       "<style scoped>\n",
       "    .dataframe tbody tr th:only-of-type {\n",
       "        vertical-align: middle;\n",
       "    }\n",
       "\n",
       "    .dataframe tbody tr th {\n",
       "        vertical-align: top;\n",
       "    }\n",
       "\n",
       "    .dataframe thead th {\n",
       "        text-align: right;\n",
       "    }\n",
       "</style>\n",
       "<table border=\"1\" class=\"dataframe\">\n",
       "  <thead>\n",
       "    <tr style=\"text-align: right;\">\n",
       "      <th></th>\n",
       "      <th>data_process</th>\n",
       "      <th>vector</th>\n",
       "      <th>x</th>\n",
       "      <th>y</th>\n",
       "      <th>data_display</th>\n",
       "      <th>cluster</th>\n",
       "    </tr>\n",
       "  </thead>\n",
       "  <tbody>\n",
       "    <tr>\n",
       "      <th>0</th>\n",
       "      <td>title: Genotype by environment interaction eff...</td>\n",
       "      <td>[-0.011761735, -0.024193902, -0.06229731, 0.03...</td>\n",
       "      <td>-3.358461</td>\n",
       "      <td>2.305671</td>\n",
       "      <td>X: -3.3585 Y: 2.3057 Content: title: Genotype ...</td>\n",
       "      <td>1</td>\n",
       "    </tr>\n",
       "    <tr>\n",
       "      <th>1</th>\n",
       "      <td>title: Bioassay-guided isolation of a vasorela...</td>\n",
       "      <td>[-0.014491484, -0.01157876, -0.09853511, -0.01...</td>\n",
       "      <td>-5.938834</td>\n",
       "      <td>4.781258</td>\n",
       "      <td>X: -5.9388 Y: 4.7813 Content: title: Bioassay-...</td>\n",
       "      <td>0</td>\n",
       "    </tr>\n",
       "    <tr>\n",
       "      <th>2</th>\n",
       "      <td>title: Bioadhesive dermal patch as promising a...</td>\n",
       "      <td>[-0.05881872, -0.04401235, -0.041604377, -0.03...</td>\n",
       "      <td>-4.507442</td>\n",
       "      <td>3.216583</td>\n",
       "      <td>X: -4.5074 Y: 3.2166 Content: title: Bioadhesi...</td>\n",
       "      <td>1</td>\n",
       "    </tr>\n",
       "    <tr>\n",
       "      <th>3</th>\n",
       "      <td>title: ESSENTIAL OIL OF Curcuma longa L. RHIZO...</td>\n",
       "      <td>[0.0023844952, -0.061585624, -0.06964083, 0.01...</td>\n",
       "      <td>-3.562569</td>\n",
       "      <td>2.119775</td>\n",
       "      <td>X: -3.5626 Y: 2.1198 Content: title: ESSENTIAL...</td>\n",
       "      <td>1</td>\n",
       "    </tr>\n",
       "    <tr>\n",
       "      <th>4</th>\n",
       "      <td>title: Adaptogenic-active components from Kaem...</td>\n",
       "      <td>[0.0131213525, -0.05999834, -0.053973444, 0.05...</td>\n",
       "      <td>-6.321672</td>\n",
       "      <td>6.169890</td>\n",
       "      <td>X: -6.3217 Y: 6.1699 Content: title: Adaptogen...</td>\n",
       "      <td>0</td>\n",
       "    </tr>\n",
       "    <tr>\n",
       "      <th>...</th>\n",
       "      <td>...</td>\n",
       "      <td>...</td>\n",
       "      <td>...</td>\n",
       "      <td>...</td>\n",
       "      <td>...</td>\n",
       "      <td>...</td>\n",
       "    </tr>\n",
       "    <tr>\n",
       "      <th>195</th>\n",
       "      <td>title: Challenges in Optimizing Nanoplatforms ...</td>\n",
       "      <td>[0.032540128, -0.1696602, 0.026023295, -0.0140...</td>\n",
       "      <td>-4.136169</td>\n",
       "      <td>3.087486</td>\n",
       "      <td>X: -4.1362 Y: 3.0875 Content: title: Challenge...</td>\n",
       "      <td>1</td>\n",
       "    </tr>\n",
       "    <tr>\n",
       "      <th>196</th>\n",
       "      <td>title: The Role of Garlic in Hepatopulmonary S...</td>\n",
       "      <td>[0.015100233, 0.036982786, -0.08282912, 0.0598...</td>\n",
       "      <td>-1.441832</td>\n",
       "      <td>7.270166</td>\n",
       "      <td>X: -1.4418 Y: 7.2702 Content: title: The Role ...</td>\n",
       "      <td>2</td>\n",
       "    </tr>\n",
       "    <tr>\n",
       "      <th>197</th>\n",
       "      <td>title: Identifikasi Jenis Bahan Aktif dan Peng...</td>\n",
       "      <td>[-0.00013802102, -0.002648368, -0.034641653, -...</td>\n",
       "      <td>-4.780901</td>\n",
       "      <td>5.052386</td>\n",
       "      <td>X: -4.7809 Y: 5.0524 Content: title: Identifik...</td>\n",
       "      <td>0</td>\n",
       "    </tr>\n",
       "    <tr>\n",
       "      <th>198</th>\n",
       "      <td>title: Dry-matter production and accumulation ...</td>\n",
       "      <td>[0.034621872, -0.015346619, -0.06576741, 0.010...</td>\n",
       "      <td>-6.423589</td>\n",
       "      <td>4.243403</td>\n",
       "      <td>X: -6.4236 Y: 4.2434 Content: title: Dry-matte...</td>\n",
       "      <td>1</td>\n",
       "    </tr>\n",
       "    <tr>\n",
       "      <th>199</th>\n",
       "      <td>title: Haematological and Hepatotoxic Potentia...</td>\n",
       "      <td>[0.06593641, -0.0048804423, -0.050979175, 0.03...</td>\n",
       "      <td>-1.572780</td>\n",
       "      <td>7.747817</td>\n",
       "      <td>X: -1.5728 Y: 7.7478 Content: title: Haematolo...</td>\n",
       "      <td>2</td>\n",
       "    </tr>\n",
       "  </tbody>\n",
       "</table>\n",
       "<p>200 rows × 6 columns</p>\n",
       "</div>"
      ],
      "text/plain": [
       "                                          data_process  \\\n",
       "0    title: Genotype by environment interaction eff...   \n",
       "1    title: Bioassay-guided isolation of a vasorela...   \n",
       "2    title: Bioadhesive dermal patch as promising a...   \n",
       "3    title: ESSENTIAL OIL OF Curcuma longa L. RHIZO...   \n",
       "4    title: Adaptogenic-active components from Kaem...   \n",
       "..                                                 ...   \n",
       "195  title: Challenges in Optimizing Nanoplatforms ...   \n",
       "196  title: The Role of Garlic in Hepatopulmonary S...   \n",
       "197  title: Identifikasi Jenis Bahan Aktif dan Peng...   \n",
       "198  title: Dry-matter production and accumulation ...   \n",
       "199  title: Haematological and Hepatotoxic Potentia...   \n",
       "\n",
       "                                                vector         x         y  \\\n",
       "0    [-0.011761735, -0.024193902, -0.06229731, 0.03... -3.358461  2.305671   \n",
       "1    [-0.014491484, -0.01157876, -0.09853511, -0.01... -5.938834  4.781258   \n",
       "2    [-0.05881872, -0.04401235, -0.041604377, -0.03... -4.507442  3.216583   \n",
       "3    [0.0023844952, -0.061585624, -0.06964083, 0.01... -3.562569  2.119775   \n",
       "4    [0.0131213525, -0.05999834, -0.053973444, 0.05... -6.321672  6.169890   \n",
       "..                                                 ...       ...       ...   \n",
       "195  [0.032540128, -0.1696602, 0.026023295, -0.0140... -4.136169  3.087486   \n",
       "196  [0.015100233, 0.036982786, -0.08282912, 0.0598... -1.441832  7.270166   \n",
       "197  [-0.00013802102, -0.002648368, -0.034641653, -... -4.780901  5.052386   \n",
       "198  [0.034621872, -0.015346619, -0.06576741, 0.010... -6.423589  4.243403   \n",
       "199  [0.06593641, -0.0048804423, -0.050979175, 0.03... -1.572780  7.747817   \n",
       "\n",
       "                                          data_display  cluster  \n",
       "0    X: -3.3585 Y: 2.3057 Content: title: Genotype ...        1  \n",
       "1    X: -5.9388 Y: 4.7813 Content: title: Bioassay-...        0  \n",
       "2    X: -4.5074 Y: 3.2166 Content: title: Bioadhesi...        1  \n",
       "3    X: -3.5626 Y: 2.1198 Content: title: ESSENTIAL...        1  \n",
       "4    X: -6.3217 Y: 6.1699 Content: title: Adaptogen...        0  \n",
       "..                                                 ...      ...  \n",
       "195  X: -4.1362 Y: 3.0875 Content: title: Challenge...        1  \n",
       "196  X: -1.4418 Y: 7.2702 Content: title: The Role ...        2  \n",
       "197  X: -4.7809 Y: 5.0524 Content: title: Identifik...        0  \n",
       "198  X: -6.4236 Y: 4.2434 Content: title: Dry-matte...        1  \n",
       "199  X: -1.5728 Y: 7.7478 Content: title: Haematolo...        2  \n",
       "\n",
       "[200 rows x 6 columns]"
      ]
     },
     "execution_count": 35,
     "metadata": {},
     "output_type": "execute_result"
    }
   ],
   "source": [
    "df = pd.read_parquet('./output/data.parquet')\n",
    "df"
   ]
  },
  {
   "cell_type": "code",
   "execution_count": 36,
   "id": "ebb81012-c641-4b0c-9343-3067112f98f8",
   "metadata": {},
   "outputs": [],
   "source": [
    "cvec = CountVectorizer(stop_words=\"english\", ngram_range=(1, 1))\n",
    "wizGenerator = Generate_Wizmap(save_file_path='./output/', cv=cvec, verbose=True, path_model_log='./output/')"
   ]
  },
  {
   "cell_type": "code",
   "execution_count": 37,
   "id": "37f8a30c-7dc3-4c04-b3d5-a9e7b3b54105",
   "metadata": {},
   "outputs": [],
   "source": [
    "wizGenerator.input(df)"
   ]
  },
  {
   "cell_type": "code",
   "execution_count": 38,
   "id": "54f11f9c-3dfd-4f34-a3c7-9ee3ae60d03c",
   "metadata": {},
   "outputs": [
    {
     "name": "stdout",
     "output_type": "stream",
     "text": [
      "\n",
      "###   compute grid...  ###\n",
      "coordinate:  -8.625001628398895 0.8192280936241154 -0.9898766684532165 8.454353053569793\n"
     ]
    },
    {
     "data": {
      "image/png": "[encoded data removed]",
      "text/plain": [
       "<Figure size 1200x600 with 2 Axes>"
      ]
     },
     "metadata": {},
     "output_type": "display_data"
    },
    {
     "data": {
      "image/png": "[encoded data removed]",
      "text/plain": [
       "<Figure size 1200x600 with 1 Axes>"
      ]
     },
     "metadata": {},
     "output_type": "display_data"
    },
    {
     "name": "stderr",
     "output_type": "stream",
     "text": [
      "200it [00:00, 486860.59it/s]\n"
     ]
    },
    {
     "name": "stdout",
     "output_type": "stream",
     "text": [
      "5 9\n"
     ]
    },
    {
     "name": "stderr",
     "output_type": "stream",
     "text": [
      "100%|███████████████████████████████████| 5/5 [00:00<00:00, 54.96it/s]\n"
     ]
    },
    {
     "name": "stdout",
     "output_type": "stream",
     "text": [
      "\n",
      "###   compute data...  ###\n"
     ]
    },
    {
     "name": "stderr",
     "output_type": "stream",
     "text": [
      "100%|██████████████████████████| 200/200 [00:00<00:00, 3238844.79it/s]"
     ]
    },
    {
     "name": "stdout",
     "output_type": "stream",
     "text": [
      "\n",
      "###   save data...  ###\n"
     ]
    },
    {
     "name": "stderr",
     "output_type": "stream",
     "text": [
      "\n"
     ]
    }
   ],
   "source": [
    "wizGenerator.run()"
   ]
  },
  {
   "cell_type": "code",
   "execution_count": 39,
   "id": "6806fa4f-9153-4490-be14-d6ea9e97be63",
   "metadata": {},
   "outputs": [],
   "source": [
    "from model.generate_wizmap import wizmap_local"
   ]
  },
  {
   "cell_type": "code",
   "execution_count": 42,
   "id": "1211f3f6-4e13-4d00-98bf-206a2cd50525",
   "metadata": {
    "scrolled": true
   },
   "outputs": [
    {
     "name": "stdout",
     "output_type": "stream",
     "text": [
      "https://poloclub.github.io/wizmap/?dataURL=http://localhost:3333/./output/wizmapJson/data.ndjson&gridURL=http://localhost:3333/./output/wizmapJson/grid.json\n"
     ]
    },
    {
     "name": "stderr",
     "output_type": "stream",
     "text": [
      "huggingface/tokenizers: The current process just got forked, after parallelism has already been used. Disabling parallelism to avoid deadlocks...\n",
      "To disable this warning, you can either:\n",
      "\t- Avoid using `tokenizers` before the fork if possible\n",
      "\t- Explicitly set the environment variable TOKENIZERS_PARALLELISM=(true | false)\n",
      "127.0.0.1 - - [20/Jun/2024 14:55:29] \"OPTIONS /output/wizmapJson/grid.json HTTP/1.1\" 204 -\n",
      "127.0.0.1 - - [20/Jun/2024 14:55:29] \"GET /output/wizmapJson/grid.json HTTP/1.1\" 200 -\n",
      "127.0.0.1 - - [20/Jun/2024 14:55:29] \"OPTIONS /output/wizmapJson/data.ndjson HTTP/1.1\" 204 -\n",
      "127.0.0.1 - - [20/Jun/2024 14:55:29] \"GET /output/wizmapJson/data.ndjson HTTP/1.1\" 200 -\n"
     ]
    },
    {
     "name": "stdout",
     "output_type": "stream",
     "text": [
      "<class 'http_server.server.CORSRequestHandler'>\n",
      "Starting httpd server on port 3333...\n"
     ]
    },
    {
     "name": "stderr",
     "output_type": "stream",
     "text": [
      "Traceback (most recent call last):\n",
      "  File \"/Users/peetiphartsuebpeng/Documents/CONDA_ENV/env-wizmap/bin/server\", line 8, in <module>\n",
      "    sys.exit(main())\n",
      "             ^^^^^^\n",
      "  File \"/Users/peetiphartsuebpeng/Documents/CONDA_ENV/env-wizmap/lib/python3.12/site-packages/http_server/server.py\", line 31, in main\n",
      "    run(port=args.port, allow_all_cors=args.allow_cors)\n",
      "  File \"/Users/peetiphartsuebpeng/Documents/CONDA_ENV/env-wizmap/lib/python3.12/site-packages/http_server/server.py\", line 22, in run\n",
      "    httpd.serve_forever()\n",
      "  File \"/Users/peetiphartsuebpeng/Documents/CONDA_ENV/env-wizmap/lib/python3.12/socketserver.py\", line 235, in serve_forever\n",
      "    ready = selector.select(poll_interval)\n",
      "            ^^^^^^^^^^^^^^^^^^^^^^^^^^^^^^\n",
      "  File \"/Users/peetiphartsuebpeng/Documents/CONDA_ENV/env-wizmap/lib/python3.12/selectors.py\", line 415, in select\n",
      "    fd_event_list = self._selector.poll(timeout)\n",
      "                    ^^^^^^^^^^^^^^^^^^^^^^^^^^^^\n",
      "KeyboardInterrupt\n"
     ]
    },
    {
     "ename": "KeyboardInterrupt",
     "evalue": "",
     "output_type": "error",
     "traceback": [
      "\u001b[0;31m---------------------------------------------------------------------------\u001b[0m",
      "\u001b[0;31mKeyboardInterrupt\u001b[0m                         Traceback (most recent call last)",
      "Cell \u001b[0;32mIn[42], line 1\u001b[0m\n\u001b[0;32m----> 1\u001b[0m \u001b[43mwizmap_local\u001b[49m\u001b[43m(\u001b[49m\u001b[43mdirectory_folder_of_wizmap\u001b[49m\u001b[38;5;241;43m=\u001b[39;49m\u001b[38;5;124;43m'\u001b[39;49m\u001b[38;5;124;43m./output/wizmapJson/\u001b[39;49m\u001b[38;5;124;43m'\u001b[39;49m\u001b[43m,\u001b[49m\u001b[43mport\u001b[49m\u001b[38;5;241;43m=\u001b[39;49m\u001b[38;5;241;43m3333\u001b[39;49m\u001b[43m)\u001b[49m\n",
      "File \u001b[0;32m~/Documents/PROJECT/generate-wizmap-dev/model/generate_wizmap/node.py:595\u001b[0m, in \u001b[0;36mwizmap_local\u001b[0;34m(directory_folder_of_wizmap, port)\u001b[0m\n\u001b[1;32m    591\u001b[0m wiz_url \u001b[38;5;241m=\u001b[39m \u001b[38;5;124mf\u001b[39m\u001b[38;5;124m\"\u001b[39m\u001b[38;5;124mhttps://poloclub.github.io/wizmap/?dataURL=\u001b[39m\u001b[38;5;132;01m{\u001b[39;00murl\u001b[38;5;241m+\u001b[39mdata\u001b[38;5;132;01m}\u001b[39;00m\u001b[38;5;124m&gridURL=\u001b[39m\u001b[38;5;132;01m{\u001b[39;00murl\u001b[38;5;241m+\u001b[39mgrid\u001b[38;5;132;01m}\u001b[39;00m\u001b[38;5;124m\"\u001b[39m\n\u001b[1;32m    593\u001b[0m \u001b[38;5;28mprint\u001b[39m(wiz_url)\n\u001b[0;32m--> 595\u001b[0m \u001b[43msubprocess\u001b[49m\u001b[38;5;241;43m.\u001b[39;49m\u001b[43mrun\u001b[49m\u001b[43m(\u001b[49m\u001b[43m[\u001b[49m\u001b[38;5;124;43m\"\u001b[39;49m\u001b[38;5;124;43mserver\u001b[39;49m\u001b[38;5;124;43m\"\u001b[39;49m\u001b[43m,\u001b[49m\u001b[43m \u001b[49m\u001b[38;5;124;43mf\u001b[39;49m\u001b[38;5;124;43m\"\u001b[39;49m\u001b[38;5;124;43m--port=\u001b[39;49m\u001b[38;5;132;43;01m{\u001b[39;49;00m\u001b[43mport\u001b[49m\u001b[38;5;132;43;01m}\u001b[39;49;00m\u001b[38;5;124;43m\"\u001b[39;49m\u001b[43m,\u001b[49m\u001b[43m \u001b[49m\u001b[38;5;124;43m\"\u001b[39;49m\u001b[38;5;124;43m--allow_cors\u001b[39;49m\u001b[38;5;124;43m\"\u001b[39;49m\u001b[43m]\u001b[49m\u001b[43m,\u001b[49m\u001b[43m \u001b[49m\u001b[43mcheck\u001b[49m\u001b[38;5;241;43m=\u001b[39;49m\u001b[38;5;28;43;01mTrue\u001b[39;49;00m\u001b[43m)\u001b[49m\n",
      "File \u001b[0;32m~/Documents/CONDA_ENV/env-wizmap/lib/python3.12/subprocess.py:550\u001b[0m, in \u001b[0;36mrun\u001b[0;34m(input, capture_output, timeout, check, *popenargs, **kwargs)\u001b[0m\n\u001b[1;32m    548\u001b[0m \u001b[38;5;28;01mwith\u001b[39;00m Popen(\u001b[38;5;241m*\u001b[39mpopenargs, \u001b[38;5;241m*\u001b[39m\u001b[38;5;241m*\u001b[39mkwargs) \u001b[38;5;28;01mas\u001b[39;00m process:\n\u001b[1;32m    549\u001b[0m     \u001b[38;5;28;01mtry\u001b[39;00m:\n\u001b[0;32m--> 550\u001b[0m         stdout, stderr \u001b[38;5;241m=\u001b[39m \u001b[43mprocess\u001b[49m\u001b[38;5;241;43m.\u001b[39;49m\u001b[43mcommunicate\u001b[49m\u001b[43m(\u001b[49m\u001b[38;5;28;43minput\u001b[39;49m\u001b[43m,\u001b[49m\u001b[43m \u001b[49m\u001b[43mtimeout\u001b[49m\u001b[38;5;241;43m=\u001b[39;49m\u001b[43mtimeout\u001b[49m\u001b[43m)\u001b[49m\n\u001b[1;32m    551\u001b[0m     \u001b[38;5;28;01mexcept\u001b[39;00m TimeoutExpired \u001b[38;5;28;01mas\u001b[39;00m exc:\n\u001b[1;32m    552\u001b[0m         process\u001b[38;5;241m.\u001b[39mkill()\n",
      "File \u001b[0;32m~/Documents/CONDA_ENV/env-wizmap/lib/python3.12/subprocess.py:1201\u001b[0m, in \u001b[0;36mPopen.communicate\u001b[0;34m(self, input, timeout)\u001b[0m\n\u001b[1;32m   1199\u001b[0m         stderr \u001b[38;5;241m=\u001b[39m \u001b[38;5;28mself\u001b[39m\u001b[38;5;241m.\u001b[39mstderr\u001b[38;5;241m.\u001b[39mread()\n\u001b[1;32m   1200\u001b[0m         \u001b[38;5;28mself\u001b[39m\u001b[38;5;241m.\u001b[39mstderr\u001b[38;5;241m.\u001b[39mclose()\n\u001b[0;32m-> 1201\u001b[0m     \u001b[38;5;28;43mself\u001b[39;49m\u001b[38;5;241;43m.\u001b[39;49m\u001b[43mwait\u001b[49m\u001b[43m(\u001b[49m\u001b[43m)\u001b[49m\n\u001b[1;32m   1202\u001b[0m \u001b[38;5;28;01melse\u001b[39;00m:\n\u001b[1;32m   1203\u001b[0m     \u001b[38;5;28;01mif\u001b[39;00m timeout \u001b[38;5;129;01mis\u001b[39;00m \u001b[38;5;129;01mnot\u001b[39;00m \u001b[38;5;28;01mNone\u001b[39;00m:\n",
      "File \u001b[0;32m~/Documents/CONDA_ENV/env-wizmap/lib/python3.12/subprocess.py:1264\u001b[0m, in \u001b[0;36mPopen.wait\u001b[0;34m(self, timeout)\u001b[0m\n\u001b[1;32m   1262\u001b[0m     endtime \u001b[38;5;241m=\u001b[39m _time() \u001b[38;5;241m+\u001b[39m timeout\n\u001b[1;32m   1263\u001b[0m \u001b[38;5;28;01mtry\u001b[39;00m:\n\u001b[0;32m-> 1264\u001b[0m     \u001b[38;5;28;01mreturn\u001b[39;00m \u001b[38;5;28;43mself\u001b[39;49m\u001b[38;5;241;43m.\u001b[39;49m\u001b[43m_wait\u001b[49m\u001b[43m(\u001b[49m\u001b[43mtimeout\u001b[49m\u001b[38;5;241;43m=\u001b[39;49m\u001b[43mtimeout\u001b[49m\u001b[43m)\u001b[49m\n\u001b[1;32m   1265\u001b[0m \u001b[38;5;28;01mexcept\u001b[39;00m \u001b[38;5;167;01mKeyboardInterrupt\u001b[39;00m:\n\u001b[1;32m   1266\u001b[0m     \u001b[38;5;66;03m# https://bugs.python.org/issue25942\u001b[39;00m\n\u001b[1;32m   1267\u001b[0m     \u001b[38;5;66;03m# The first keyboard interrupt waits briefly for the child to\u001b[39;00m\n\u001b[1;32m   1268\u001b[0m     \u001b[38;5;66;03m# exit under the common assumption that it also received the ^C\u001b[39;00m\n\u001b[1;32m   1269\u001b[0m     \u001b[38;5;66;03m# generated SIGINT and will exit rapidly.\u001b[39;00m\n\u001b[1;32m   1270\u001b[0m     \u001b[38;5;28;01mif\u001b[39;00m timeout \u001b[38;5;129;01mis\u001b[39;00m \u001b[38;5;129;01mnot\u001b[39;00m \u001b[38;5;28;01mNone\u001b[39;00m:\n",
      "File \u001b[0;32m~/Documents/CONDA_ENV/env-wizmap/lib/python3.12/subprocess.py:2046\u001b[0m, in \u001b[0;36mPopen._wait\u001b[0;34m(self, timeout)\u001b[0m\n\u001b[1;32m   2044\u001b[0m \u001b[38;5;28;01mif\u001b[39;00m \u001b[38;5;28mself\u001b[39m\u001b[38;5;241m.\u001b[39mreturncode \u001b[38;5;129;01mis\u001b[39;00m \u001b[38;5;129;01mnot\u001b[39;00m \u001b[38;5;28;01mNone\u001b[39;00m:\n\u001b[1;32m   2045\u001b[0m     \u001b[38;5;28;01mbreak\u001b[39;00m  \u001b[38;5;66;03m# Another thread waited.\u001b[39;00m\n\u001b[0;32m-> 2046\u001b[0m (pid, sts) \u001b[38;5;241m=\u001b[39m \u001b[38;5;28;43mself\u001b[39;49m\u001b[38;5;241;43m.\u001b[39;49m\u001b[43m_try_wait\u001b[49m\u001b[43m(\u001b[49m\u001b[38;5;241;43m0\u001b[39;49m\u001b[43m)\u001b[49m\n\u001b[1;32m   2047\u001b[0m \u001b[38;5;66;03m# Check the pid and loop as waitpid has been known to\u001b[39;00m\n\u001b[1;32m   2048\u001b[0m \u001b[38;5;66;03m# return 0 even without WNOHANG in odd situations.\u001b[39;00m\n\u001b[1;32m   2049\u001b[0m \u001b[38;5;66;03m# http://bugs.python.org/issue14396.\u001b[39;00m\n\u001b[1;32m   2050\u001b[0m \u001b[38;5;28;01mif\u001b[39;00m pid \u001b[38;5;241m==\u001b[39m \u001b[38;5;28mself\u001b[39m\u001b[38;5;241m.\u001b[39mpid:\n",
      "File \u001b[0;32m~/Documents/CONDA_ENV/env-wizmap/lib/python3.12/subprocess.py:2004\u001b[0m, in \u001b[0;36mPopen._try_wait\u001b[0;34m(self, wait_flags)\u001b[0m\n\u001b[1;32m   2002\u001b[0m \u001b[38;5;250m\u001b[39m\u001b[38;5;124;03m\"\"\"All callers to this function MUST hold self._waitpid_lock.\"\"\"\u001b[39;00m\n\u001b[1;32m   2003\u001b[0m \u001b[38;5;28;01mtry\u001b[39;00m:\n\u001b[0;32m-> 2004\u001b[0m     (pid, sts) \u001b[38;5;241m=\u001b[39m \u001b[43mos\u001b[49m\u001b[38;5;241;43m.\u001b[39;49m\u001b[43mwaitpid\u001b[49m\u001b[43m(\u001b[49m\u001b[38;5;28;43mself\u001b[39;49m\u001b[38;5;241;43m.\u001b[39;49m\u001b[43mpid\u001b[49m\u001b[43m,\u001b[49m\u001b[43m \u001b[49m\u001b[43mwait_flags\u001b[49m\u001b[43m)\u001b[49m\n\u001b[1;32m   2005\u001b[0m \u001b[38;5;28;01mexcept\u001b[39;00m \u001b[38;5;167;01mChildProcessError\u001b[39;00m:\n\u001b[1;32m   2006\u001b[0m     \u001b[38;5;66;03m# This happens if SIGCLD is set to be ignored or waiting\u001b[39;00m\n\u001b[1;32m   2007\u001b[0m     \u001b[38;5;66;03m# for child processes has otherwise been disabled for our\u001b[39;00m\n\u001b[1;32m   2008\u001b[0m     \u001b[38;5;66;03m# process.  This child is dead, we can't get the status.\u001b[39;00m\n\u001b[1;32m   2009\u001b[0m     pid \u001b[38;5;241m=\u001b[39m \u001b[38;5;28mself\u001b[39m\u001b[38;5;241m.\u001b[39mpid\n",
      "\u001b[0;31mKeyboardInterrupt\u001b[0m: "
     ]
    }
   ],
   "source": [
    "wizmap_local(directory_folder_of_wizmap='./output/wizmapJson/',port=3333)"
   ]
  },
  {
   "cell_type": "markdown",
   "id": "356df763-1908-4959-a671-0f19b34e18b9",
   "metadata": {},
   "source": [
    "## **One-Short**"
   ]
  },
  {
   "cell_type": "code",
   "execution_count": 1,
   "id": "da18926a-8cb0-4bfe-8199-754ba6dd0d7d",
   "metadata": {},
   "outputs": [
    {
     "name": "stderr",
     "output_type": "stream",
     "text": [
      "/Users/peetiphartsuebpeng/Documents/CONDA_ENV/env-wizmap/lib/python3.12/site-packages/dsm_wizservices/generate_vector/node.py:6: TqdmExperimentalWarning: Using `tqdm.autonotebook.tqdm` in notebook mode. Use `tqdm.tqdm` instead to force console mode (e.g. in jupyter console)\n",
      "  from tqdm.autonotebook import tqdm\n"
     ]
    }
   ],
   "source": [
    "from dsm_wizservices import TopicModel\n",
    "from sklearn.cluster import MeanShift\n",
    "from sentence_transformers import SentenceTransformer \n",
    "from umap import UMAP\n",
    "from sklearn.feature_extraction.text import CountVectorizer\n",
    "from pythainlp.tokenize import word_tokenize\n",
    "from pythainlp.corpus.common import thai_stopwords\n",
    "from datasets import load_dataset\n",
    "import pandas as pd\n",
    "import re\n",
    "import string\n",
    "import datasets\n",
    "\n",
    "def cleanText(text):\n",
    "    \n",
    "    # source : https://github.com/naenumtou\n",
    "    clear_list = r'(?:http|ftp|https)://(?:[\\w_-]+(?:(?:\\.[\\w_-]+)+))(?:[\\w.,@?^=%&:/~+#]*[\\w@?^=%&/~+#])?|“|”|[()\\/\\+\\*.,]|,|ๆ|<.*?>|#|'\n",
    "    \n",
    "    # text = re.sub(r'\\d+', '', text)  # Remove digits\n",
    "    text = re.sub(clear_list,'',text)\n",
    "\n",
    "    # ลบ เครื่องหมายคำพูด (punctuation)\n",
    "    for c in string.punctuation:\n",
    "       text = re.sub(r'\\{}'.format(c),'',text)\n",
    "        \n",
    "    text = ' '.join(text.split())\n",
    "    # text = text.translate(str.maketrans('', '', textPunc)) # Remove punctuation without (.)\n",
    "    text = ' '.join(text.split())  # Keep only one white space\n",
    "    return text"
   ]
  },
  {
   "cell_type": "code",
   "execution_count": 2,
   "id": "f67cfbf7-41dd-4d04-b5ff-bb6b1d5261fb",
   "metadata": {},
   "outputs": [],
   "source": [
    "data = datasets.load_dataset('imdb')['unsupervised']"
   ]
  },
  {
   "cell_type": "code",
   "execution_count": 3,
   "id": "ee2daa86-5c1e-4696-95fc-e5369abc92ab",
   "metadata": {},
   "outputs": [
    {
     "data": {
      "text/html": [
       "<div>\n",
       "<style scoped>\n",
       "    .dataframe tbody tr th:only-of-type {\n",
       "        vertical-align: middle;\n",
       "    }\n",
       "\n",
       "    .dataframe tbody tr th {\n",
       "        vertical-align: top;\n",
       "    }\n",
       "\n",
       "    .dataframe thead th {\n",
       "        text-align: right;\n",
       "    }\n",
       "</style>\n",
       "<table border=\"1\" class=\"dataframe\">\n",
       "  <thead>\n",
       "    <tr style=\"text-align: right;\">\n",
       "      <th></th>\n",
       "      <th>text</th>\n",
       "    </tr>\n",
       "  </thead>\n",
       "  <tbody>\n",
       "    <tr>\n",
       "      <th>34579</th>\n",
       "      <td>I checked out the DVD at my library because I ...</td>\n",
       "    </tr>\n",
       "    <tr>\n",
       "      <th>29062</th>\n",
       "      <td>There is no doubt that Buñuel is a pro in intr...</td>\n",
       "    </tr>\n",
       "    <tr>\n",
       "      <th>49464</th>\n",
       "      <td>I enjoy watching the stars of this movie in th...</td>\n",
       "    </tr>\n",
       "    <tr>\n",
       "      <th>31983</th>\n",
       "      <td>George S Kauffman Moss Harts GEORGE WASHINGTON...</td>\n",
       "    </tr>\n",
       "    <tr>\n",
       "      <th>35200</th>\n",
       "      <td>What a disappointment And if youre going to ma...</td>\n",
       "    </tr>\n",
       "    <tr>\n",
       "      <th>...</th>\n",
       "      <td>...</td>\n",
       "    </tr>\n",
       "    <tr>\n",
       "      <th>32880</th>\n",
       "      <td>Jack Black can usually make me snicker simply ...</td>\n",
       "    </tr>\n",
       "    <tr>\n",
       "      <th>21148</th>\n",
       "      <td>The beginning of the goddamn movie lets start ...</td>\n",
       "    </tr>\n",
       "    <tr>\n",
       "      <th>20407</th>\n",
       "      <td>Dont expect to see a lot of football here caus...</td>\n",
       "    </tr>\n",
       "    <tr>\n",
       "      <th>33802</th>\n",
       "      <td>The first Zenon movie was hilariously kitschy ...</td>\n",
       "    </tr>\n",
       "    <tr>\n",
       "      <th>7679</th>\n",
       "      <td>I am a huge fan of the original film in this s...</td>\n",
       "    </tr>\n",
       "  </tbody>\n",
       "</table>\n",
       "<p>5000 rows × 1 columns</p>\n",
       "</div>"
      ],
      "text/plain": [
       "                                                    text\n",
       "34579  I checked out the DVD at my library because I ...\n",
       "29062  There is no doubt that Buñuel is a pro in intr...\n",
       "49464  I enjoy watching the stars of this movie in th...\n",
       "31983  George S Kauffman Moss Harts GEORGE WASHINGTON...\n",
       "35200  What a disappointment And if youre going to ma...\n",
       "...                                                  ...\n",
       "32880  Jack Black can usually make me snicker simply ...\n",
       "21148  The beginning of the goddamn movie lets start ...\n",
       "20407  Dont expect to see a lot of football here caus...\n",
       "33802  The first Zenon movie was hilariously kitschy ...\n",
       "7679   I am a huge fan of the original film in this s...\n",
       "\n",
       "[5000 rows x 1 columns]"
      ]
     },
     "execution_count": 3,
     "metadata": {},
     "output_type": "execute_result"
    }
   ],
   "source": [
    "df = pd.DataFrame(data)[['text']]\n",
    "df = df.sample(5000)\n",
    "df['text'] = df['text'].apply(cleanText)\n",
    "df"
   ]
  },
  {
   "cell_type": "code",
   "execution_count": 5,
   "id": "db536614-236c-497d-a8e1-fda41b30616b",
   "metadata": {},
   "outputs": [
    {
     "name": "stderr",
     "output_type": "stream",
     "text": [
      "/Users/peetiphartsuebpeng/Documents/CONDA_ENV/env-wizmap/lib/python3.12/site-packages/huggingface_hub/file_download.py:1132: FutureWarning: `resume_download` is deprecated and will be removed in version 1.0.0. Downloads always resume when possible. If you want to force a new download, use `force_download=True`.\n",
      "  warnings.warn(\n"
     ]
    }
   ],
   "source": [
    "gemini_key = <Gemini_API_KEYS>\n",
    "\n",
    "embeder = SentenceTransformer(\n",
    "    'all-MiniLM-L6-v2', \n",
    "    device='cpu'\n",
    ")\n",
    "\n",
    "reducer = UMAP(\n",
    "    n_components=2, \n",
    "    n_neighbors=60, \n",
    "    min_dist=0.2\n",
    ")\n",
    "\n",
    "cv = CountVectorizer( \n",
    "    tokenizer=lambda text: word_tokenize(text, engine='attacut'), \n",
    "    stop_words='english'\n",
    ")\n",
    "clustering = MeanShift(bandwidth=0.7)\n",
    "\n",
    "wizard = TopicModel(\n",
    "    save_folder='output_test/', \n",
    "    # gpt_api_key=api_key,\n",
    "    n_sample_summary=10,\n",
    "    gemini_api_key=gemini_key,\n",
    "    embedding=embeder, \n",
    "    reducer=reducer, \n",
    "    clustering=clustering, \n",
    "    countvector=cv, \n",
    "    batch_size=126, \n",
    "    device='cpu',\n",
    "    verbose=True\n",
    ")"
   ]
  },
  {
   "cell_type": "code",
   "execution_count": 6,
   "id": "8acb78b1-fb46-4bde-876a-7c747111e651",
   "metadata": {},
   "outputs": [],
   "source": [
    "docs = df.text.tolist()"
   ]
  },
  {
   "cell_type": "code",
   "execution_count": 7,
   "id": "34ca8e6f-38aa-4f12-bbc0-e5159fa7c9e3",
   "metadata": {},
   "outputs": [
    {
     "name": "stdout",
     "output_type": "stream",
     "text": [
      "embedding -> reduction dimension ...\n"
     ]
    },
    {
     "data": {
      "application/vnd.jupyter.widget-view+json": {
       "model_id": "b4b2f138788248d7af22af3baef9e021",
       "version_major": 2,
       "version_minor": 0
      },
      "text/plain": [
       "Batches:   0%|          | 0/40 [00:00<?, ?it/s]"
      ]
     },
     "metadata": {},
     "output_type": "display_data"
    },
    {
     "name": "stderr",
     "output_type": "stream",
     "text": [
      "OMP: Info #276: omp_set_nested routine deprecated, please use omp_set_max_active_levels instead.\n"
     ]
    },
    {
     "data": {
      "application/vnd.jupyter.widget-view+json": {
       "model_id": "abe19d93a2e949db958575fda2ae9855",
       "version_major": 2,
       "version_minor": 0
      },
      "text/plain": [
       "Cluster :   0%|          | 0/12 [00:00<?, ?it/s]"
      ]
     },
     "metadata": {},
     "output_type": "display_data"
    },
    {
     "name": "stderr",
     "output_type": "stream",
     "text": [
      "/Users/peetiphartsuebpeng/Documents/CONDA_ENV/env-wizmap/lib/python3.12/site-packages/sklearn/feature_extraction/text.py:523: UserWarning: The parameter 'token_pattern' will not be used since 'tokenizer' is not None'\n",
      "  warnings.warn(\n",
      "/Users/peetiphartsuebpeng/Documents/CONDA_ENV/env-wizmap/lib/python3.12/site-packages/dsm_wizservices/generate_topic/node.py:269: UserWarning: create summary fail\te:Invalid operation: The `response.parts` quick accessor requires a single candidate, but none were returned. Please check the `response.prompt_feedback` to determine if the prompt was blocked. attemp new one\n",
      "  warnings.warn(f\"create summary fail\\te:{e} attemp new one\")\n",
      "/Users/peetiphartsuebpeng/Documents/CONDA_ENV/env-wizmap/lib/python3.12/site-packages/dsm_wizservices/generate_topic/node.py:269: UserWarning: create summary fail\te:429 Resource has been exhausted (e.g. check quota). attemp new one\n",
      "  warnings.warn(f\"create summary fail\\te:{e} attemp new one\")\n",
      "/Users/peetiphartsuebpeng/Documents/CONDA_ENV/env-wizmap/lib/python3.12/site-packages/dsm_wizservices/generate_topic/node.py:269: UserWarning: create summary fail\te:Invalid operation: The `response.text` quick accessor requires the response to contain a valid `Part`, but none were returned. Please check the `candidate.safety_ratings` to determine if the response was blocked. attemp new one\n",
      "  warnings.warn(f\"create summary fail\\te:{e} attemp new one\")\n",
      "/Users/peetiphartsuebpeng/Documents/CONDA_ENV/env-wizmap/lib/python3.12/site-packages/sklearn/feature_extraction/text.py:523: UserWarning: The parameter 'token_pattern' will not be used since 'tokenizer' is not None'\n",
      "  warnings.warn(\n",
      "/Users/peetiphartsuebpeng/Documents/CONDA_ENV/env-wizmap/lib/python3.12/site-packages/sklearn/feature_extraction/text.py:523: UserWarning: The parameter 'token_pattern' will not be used since 'tokenizer' is not None'\n",
      "  warnings.warn(\n",
      "/Users/peetiphartsuebpeng/Documents/CONDA_ENV/env-wizmap/lib/python3.12/site-packages/sklearn/feature_extraction/text.py:523: UserWarning: The parameter 'token_pattern' will not be used since 'tokenizer' is not None'\n",
      "  warnings.warn(\n",
      "/Users/peetiphartsuebpeng/Documents/CONDA_ENV/env-wizmap/lib/python3.12/site-packages/dsm_wizservices/generate_topic/node.py:269: UserWarning: create summary fail\te:Invalid operation: The `response.text` quick accessor requires the response to contain a valid `Part`, but none were returned. Please check the `candidate.safety_ratings` to determine if the response was blocked. attemp new one\n",
      "  warnings.warn(f\"create summary fail\\te:{e} attemp new one\")\n",
      "/Users/peetiphartsuebpeng/Documents/CONDA_ENV/env-wizmap/lib/python3.12/site-packages/sklearn/feature_extraction/text.py:523: UserWarning: The parameter 'token_pattern' will not be used since 'tokenizer' is not None'\n",
      "  warnings.warn(\n",
      "/Users/peetiphartsuebpeng/Documents/CONDA_ENV/env-wizmap/lib/python3.12/site-packages/sklearn/feature_extraction/text.py:523: UserWarning: The parameter 'token_pattern' will not be used since 'tokenizer' is not None'\n",
      "  warnings.warn(\n",
      "/Users/peetiphartsuebpeng/Documents/CONDA_ENV/env-wizmap/lib/python3.12/site-packages/sklearn/feature_extraction/text.py:523: UserWarning: The parameter 'token_pattern' will not be used since 'tokenizer' is not None'\n",
      "  warnings.warn(\n",
      "/Users/peetiphartsuebpeng/Documents/CONDA_ENV/env-wizmap/lib/python3.12/site-packages/dsm_wizservices/generate_topic/node.py:269: UserWarning: create summary fail\te:Invalid operation: The `response.text` quick accessor requires the response to contain a valid `Part`, but none were returned. Please check the `candidate.safety_ratings` to determine if the response was blocked. attemp new one\n",
      "  warnings.warn(f\"create summary fail\\te:{e} attemp new one\")\n",
      "/Users/peetiphartsuebpeng/Documents/CONDA_ENV/env-wizmap/lib/python3.12/site-packages/sklearn/feature_extraction/text.py:523: UserWarning: The parameter 'token_pattern' will not be used since 'tokenizer' is not None'\n",
      "  warnings.warn(\n",
      "/Users/peetiphartsuebpeng/Documents/CONDA_ENV/env-wizmap/lib/python3.12/site-packages/sklearn/feature_extraction/text.py:523: UserWarning: The parameter 'token_pattern' will not be used since 'tokenizer' is not None'\n",
      "  warnings.warn(\n",
      "/Users/peetiphartsuebpeng/Documents/CONDA_ENV/env-wizmap/lib/python3.12/site-packages/dsm_wizservices/generate_topic/node.py:269: UserWarning: create summary fail\te:Invalid operation: The `response.text` quick accessor requires the response to contain a valid `Part`, but none were returned. Please check the `candidate.safety_ratings` to determine if the response was blocked. attemp new one\n",
      "  warnings.warn(f\"create summary fail\\te:{e} attemp new one\")\n",
      "/Users/peetiphartsuebpeng/Documents/CONDA_ENV/env-wizmap/lib/python3.12/site-packages/sklearn/feature_extraction/text.py:523: UserWarning: The parameter 'token_pattern' will not be used since 'tokenizer' is not None'\n",
      "  warnings.warn(\n",
      "/Users/peetiphartsuebpeng/Documents/CONDA_ENV/env-wizmap/lib/python3.12/site-packages/sklearn/feature_extraction/text.py:523: UserWarning: The parameter 'token_pattern' will not be used since 'tokenizer' is not None'\n",
      "  warnings.warn(\n",
      "/Users/peetiphartsuebpeng/Documents/CONDA_ENV/env-wizmap/lib/python3.12/site-packages/sklearn/feature_extraction/text.py:523: UserWarning: The parameter 'token_pattern' will not be used since 'tokenizer' is not None'\n",
      "  warnings.warn(\n",
      "/Users/peetiphartsuebpeng/Documents/CONDA_ENV/env-wizmap/lib/python3.12/site-packages/dsm_wizservices/generate_topic/node.py:269: UserWarning: create summary fail\te:Invalid operation: The `response.text` quick accessor requires the response to contain a valid `Part`, but none were returned. Please check the `candidate.safety_ratings` to determine if the response was blocked. attemp new one\n",
      "  warnings.warn(f\"create summary fail\\te:{e} attemp new one\")\n",
      "/Users/peetiphartsuebpeng/Documents/CONDA_ENV/env-wizmap/lib/python3.12/site-packages/dsm_wizservices/generate_wizmap/node.py:264: UserWarning: You passed a edgecolor/edgecolors ('k') for an unfilled marker ('x').  Matplotlib is ignoring the edgecolor in favor of the facecolor.  This behavior may change in the future.\n",
      "  plt.scatter(centers[:, 0], centers[:, 1], marker='x', c='red', s=50, edgecolors='k')\n"
     ]
    },
    {
     "data": {
      "image/png": "[encoded data removed]",
      "text/plain": [
       "<Figure size 1200x600 with 2 Axes>"
      ]
     },
     "metadata": {},
     "output_type": "display_data"
    },
    {
     "data": {
      "image/png": "[encoded data removed]",
      "text/plain": [
       "<Figure size 1200x600 with 1 Axes>"
      ]
     },
     "metadata": {},
     "output_type": "display_data"
    },
    {
     "name": "stderr",
     "output_type": "stream",
     "text": [
      "5000it [00:00, 378697.68it/s]\n",
      "/Users/peetiphartsuebpeng/Documents/CONDA_ENV/env-wizmap/lib/python3.12/site-packages/sklearn/feature_extraction/text.py:523: UserWarning: The parameter 'token_pattern' will not be used since 'tokenizer' is not None'\n",
      "  warnings.warn(\n",
      "100%|█████████████████████████████████████████████████████████████████████████████████████████████████████████████████████████████████████████████████████████| 5/5 [00:01<00:00,  2.95it/s]\n",
      "100%|██████████████████████████████████████████████████████████████████████████████████████████████████████████████████████████████████████████████| 5000/5000 [00:00<00:00, 3441339.02it/s]\n"
     ]
    }
   ],
   "source": [
    "d_rs = wizard.fit_transforms(docs)"
   ]
  },
  {
   "cell_type": "code",
   "execution_count": 10,
   "id": "9ba3f57b-426f-4c01-b190-bcdef402eeba",
   "metadata": {},
   "outputs": [
    {
     "data": {
      "text/plain": [
       "dict_keys(['data', 'model', 'topword'])"
      ]
     },
     "execution_count": 10,
     "metadata": {},
     "output_type": "execute_result"
    }
   ],
   "source": [
    "d_rs.keys()"
   ]
  },
  {
   "cell_type": "code",
   "execution_count": 11,
   "id": "9eddd614-0295-46a3-b8a6-f39e7ca922c0",
   "metadata": {},
   "outputs": [
    {
     "data": {
      "text/html": [
       "<div>\n",
       "<style scoped>\n",
       "    .dataframe tbody tr th:only-of-type {\n",
       "        vertical-align: middle;\n",
       "    }\n",
       "\n",
       "    .dataframe tbody tr th {\n",
       "        vertical-align: top;\n",
       "    }\n",
       "\n",
       "    .dataframe thead th {\n",
       "        text-align: right;\n",
       "    }\n",
       "</style>\n",
       "<table border=\"1\" class=\"dataframe\">\n",
       "  <thead>\n",
       "    <tr style=\"text-align: right;\">\n",
       "      <th></th>\n",
       "      <th>data_process</th>\n",
       "      <th>vector</th>\n",
       "      <th>x</th>\n",
       "      <th>y</th>\n",
       "      <th>data_display</th>\n",
       "      <th>cluster</th>\n",
       "    </tr>\n",
       "  </thead>\n",
       "  <tbody>\n",
       "    <tr>\n",
       "      <th>0</th>\n",
       "      <td>I checked out the DVD at my library because I ...</td>\n",
       "      <td>[-0.018698912, 0.0159787, -0.0043828427, -0.04...</td>\n",
       "      <td>4.753970</td>\n",
       "      <td>-14.458088</td>\n",
       "      <td>X: 4.754 Y: -14.4581 Content: I checked out th...</td>\n",
       "      <td>0</td>\n",
       "    </tr>\n",
       "    <tr>\n",
       "      <th>1</th>\n",
       "      <td>There is no doubt that Buñuel is a pro in intr...</td>\n",
       "      <td>[0.031386375, -0.008208242, -0.0070380946, -0....</td>\n",
       "      <td>6.630668</td>\n",
       "      <td>-12.360550</td>\n",
       "      <td>X: 6.6307 Y: -12.3606 Content: There is no dou...</td>\n",
       "      <td>3</td>\n",
       "    </tr>\n",
       "    <tr>\n",
       "      <th>2</th>\n",
       "      <td>I enjoy watching the stars of this movie in th...</td>\n",
       "      <td>[-0.059551343, -0.14399152, -0.018924227, -0.0...</td>\n",
       "      <td>5.612566</td>\n",
       "      <td>-12.037004</td>\n",
       "      <td>X: 5.6126 Y: -12.037 Content: I enjoy watching...</td>\n",
       "      <td>3</td>\n",
       "    </tr>\n",
       "    <tr>\n",
       "      <th>3</th>\n",
       "      <td>George S Kauffman Moss Harts GEORGE WASHINGTON...</td>\n",
       "      <td>[-0.044262946, -0.02259889, 0.02257464, 0.0075...</td>\n",
       "      <td>6.472824</td>\n",
       "      <td>-10.576408</td>\n",
       "      <td>X: 6.4728 Y: -10.5764 Content: George S Kauffm...</td>\n",
       "      <td>5</td>\n",
       "    </tr>\n",
       "    <tr>\n",
       "      <th>4</th>\n",
       "      <td>What a disappointment And if youre going to ma...</td>\n",
       "      <td>[0.008464869, -0.07626434, 0.04506604, -0.0474...</td>\n",
       "      <td>5.591044</td>\n",
       "      <td>-14.328239</td>\n",
       "      <td>X: 5.591 Y: -14.3282 Content: What a disappoin...</td>\n",
       "      <td>0</td>\n",
       "    </tr>\n",
       "    <tr>\n",
       "      <th>...</th>\n",
       "      <td>...</td>\n",
       "      <td>...</td>\n",
       "      <td>...</td>\n",
       "      <td>...</td>\n",
       "      <td>...</td>\n",
       "      <td>...</td>\n",
       "    </tr>\n",
       "    <tr>\n",
       "      <th>4995</th>\n",
       "      <td>Jack Black can usually make me snicker simply ...</td>\n",
       "      <td>[-0.08267005, -0.0127807185, -0.054352093, -0....</td>\n",
       "      <td>8.291154</td>\n",
       "      <td>-12.768102</td>\n",
       "      <td>X: 8.2912 Y: -12.7681 Content: Jack Black can ...</td>\n",
       "      <td>9</td>\n",
       "    </tr>\n",
       "    <tr>\n",
       "      <th>4996</th>\n",
       "      <td>The beginning of the goddamn movie lets start ...</td>\n",
       "      <td>[-0.014893235, 0.012000987, -0.012138615, -0.0...</td>\n",
       "      <td>5.721483</td>\n",
       "      <td>-14.223676</td>\n",
       "      <td>X: 5.7215 Y: -14.2237 Content: The beginning o...</td>\n",
       "      <td>0</td>\n",
       "    </tr>\n",
       "    <tr>\n",
       "      <th>4997</th>\n",
       "      <td>Dont expect to see a lot of football here caus...</td>\n",
       "      <td>[-0.008601036, -0.0027451995, -0.04133117, -0....</td>\n",
       "      <td>6.173736</td>\n",
       "      <td>-13.015920</td>\n",
       "      <td>X: 6.1737 Y: -13.0159 Content: Dont expect to ...</td>\n",
       "      <td>1</td>\n",
       "    </tr>\n",
       "    <tr>\n",
       "      <th>4998</th>\n",
       "      <td>The first Zenon movie was hilariously kitschy ...</td>\n",
       "      <td>[-0.13444814, -0.057827517, -0.05999648, -0.03...</td>\n",
       "      <td>5.005800</td>\n",
       "      <td>-12.542340</td>\n",
       "      <td>X: 5.0058 Y: -12.5423 Content: The first Zenon...</td>\n",
       "      <td>4</td>\n",
       "    </tr>\n",
       "    <tr>\n",
       "      <th>4999</th>\n",
       "      <td>I am a huge fan of the original film in this s...</td>\n",
       "      <td>[-0.08019344, 0.036256094, -0.08370971, -0.034...</td>\n",
       "      <td>8.105412</td>\n",
       "      <td>-13.003693</td>\n",
       "      <td>X: 8.1054 Y: -13.0037 Content: I am a huge fan...</td>\n",
       "      <td>9</td>\n",
       "    </tr>\n",
       "  </tbody>\n",
       "</table>\n",
       "<p>5000 rows × 6 columns</p>\n",
       "</div>"
      ],
      "text/plain": [
       "                                           data_process  \\\n",
       "0     I checked out the DVD at my library because I ...   \n",
       "1     There is no doubt that Buñuel is a pro in intr...   \n",
       "2     I enjoy watching the stars of this movie in th...   \n",
       "3     George S Kauffman Moss Harts GEORGE WASHINGTON...   \n",
       "4     What a disappointment And if youre going to ma...   \n",
       "...                                                 ...   \n",
       "4995  Jack Black can usually make me snicker simply ...   \n",
       "4996  The beginning of the goddamn movie lets start ...   \n",
       "4997  Dont expect to see a lot of football here caus...   \n",
       "4998  The first Zenon movie was hilariously kitschy ...   \n",
       "4999  I am a huge fan of the original film in this s...   \n",
       "\n",
       "                                                 vector         x          y  \\\n",
       "0     [-0.018698912, 0.0159787, -0.0043828427, -0.04...  4.753970 -14.458088   \n",
       "1     [0.031386375, -0.008208242, -0.0070380946, -0....  6.630668 -12.360550   \n",
       "2     [-0.059551343, -0.14399152, -0.018924227, -0.0...  5.612566 -12.037004   \n",
       "3     [-0.044262946, -0.02259889, 0.02257464, 0.0075...  6.472824 -10.576408   \n",
       "4     [0.008464869, -0.07626434, 0.04506604, -0.0474...  5.591044 -14.328239   \n",
       "...                                                 ...       ...        ...   \n",
       "4995  [-0.08267005, -0.0127807185, -0.054352093, -0....  8.291154 -12.768102   \n",
       "4996  [-0.014893235, 0.012000987, -0.012138615, -0.0...  5.721483 -14.223676   \n",
       "4997  [-0.008601036, -0.0027451995, -0.04133117, -0....  6.173736 -13.015920   \n",
       "4998  [-0.13444814, -0.057827517, -0.05999648, -0.03...  5.005800 -12.542340   \n",
       "4999  [-0.08019344, 0.036256094, -0.08370971, -0.034...  8.105412 -13.003693   \n",
       "\n",
       "                                           data_display  cluster  \n",
       "0     X: 4.754 Y: -14.4581 Content: I checked out th...        0  \n",
       "1     X: 6.6307 Y: -12.3606 Content: There is no dou...        3  \n",
       "2     X: 5.6126 Y: -12.037 Content: I enjoy watching...        3  \n",
       "3     X: 6.4728 Y: -10.5764 Content: George S Kauffm...        5  \n",
       "4     X: 5.591 Y: -14.3282 Content: What a disappoin...        0  \n",
       "...                                                 ...      ...  \n",
       "4995  X: 8.2912 Y: -12.7681 Content: Jack Black can ...        9  \n",
       "4996  X: 5.7215 Y: -14.2237 Content: The beginning o...        0  \n",
       "4997  X: 6.1737 Y: -13.0159 Content: Dont expect to ...        1  \n",
       "4998  X: 5.0058 Y: -12.5423 Content: The first Zenon...        4  \n",
       "4999  X: 8.1054 Y: -13.0037 Content: I am a huge fan...        9  \n",
       "\n",
       "[5000 rows x 6 columns]"
      ]
     },
     "execution_count": 11,
     "metadata": {},
     "output_type": "execute_result"
    }
   ],
   "source": [
    "df = d_rs.get('data')\n",
    "df"
   ]
  },
  {
   "cell_type": "code",
   "execution_count": 12,
   "id": "557518f7-16bd-4b61-9ff0-2d9ef4107a71",
   "metadata": {},
   "outputs": [
    {
     "data": {
      "text/html": [
       "<div>\n",
       "<style scoped>\n",
       "    .dataframe tbody tr th:only-of-type {\n",
       "        vertical-align: middle;\n",
       "    }\n",
       "\n",
       "    .dataframe tbody tr th {\n",
       "        vertical-align: top;\n",
       "    }\n",
       "\n",
       "    .dataframe thead th {\n",
       "        text-align: right;\n",
       "    }\n",
       "</style>\n",
       "<table border=\"1\" class=\"dataframe\">\n",
       "  <thead>\n",
       "    <tr style=\"text-align: right;\">\n",
       "      <th></th>\n",
       "      <th>cluster</th>\n",
       "      <th>topword</th>\n",
       "      <th>summary</th>\n",
       "    </tr>\n",
       "  </thead>\n",
       "  <tbody>\n",
       "    <tr>\n",
       "      <th>0</th>\n",
       "      <td>0</td>\n",
       "      <td>[[(dont, 0.0026), (really, 0.0027), (good, 0.0...</td>\n",
       "      <td>{'header': 'Movies: why are they so bad?', 'su...</td>\n",
       "    </tr>\n",
       "    <tr>\n",
       "      <th>1</th>\n",
       "      <td>3</td>\n",
       "      <td>[[(character, 0.0018), (great, 0.0022), (time,...</td>\n",
       "      <td>{ 'header': 'Plays', 'summary': 'This is a gre...</td>\n",
       "    </tr>\n",
       "    <tr>\n",
       "      <th>2</th>\n",
       "      <td>5</td>\n",
       "      <td>[[(love, 0.0019), (time, 0.002), (great, 0.002...</td>\n",
       "      <td>{    \"header\": \"Critique of Cruel Intentions 2...</td>\n",
       "    </tr>\n",
       "    <tr>\n",
       "      <th>3</th>\n",
       "      <td>2</td>\n",
       "      <td>[[(story, 0.0017), (character, 0.0017), (peopl...</td>\n",
       "      <td>{'header': 'This Movie Can Be Watched', 'summa...</td>\n",
       "    </tr>\n",
       "    <tr>\n",
       "      <th>4</th>\n",
       "      <td>8</td>\n",
       "      <td>[[(time, 0.002), (really, 0.0021), (bad, 0.002...</td>\n",
       "      <td>{'header':'The Water Horse Legend of the Deep'...</td>\n",
       "    </tr>\n",
       "    <tr>\n",
       "      <th>5</th>\n",
       "      <td>4</td>\n",
       "      <td>[[(funny, 0.0023), (time, 0.0025), (great, 0.0...</td>\n",
       "      <td>{'header': 'The movie got off to a quick start...</td>\n",
       "    </tr>\n",
       "    <tr>\n",
       "      <th>6</th>\n",
       "      <td>1</td>\n",
       "      <td>[[(bad, 0.0018), (time, 0.0027), (just, 0.0037...</td>\n",
       "      <td>{ \"header\": \"Green\", \"summary\": \"Green is a we...</td>\n",
       "    </tr>\n",
       "    <tr>\n",
       "      <th>7</th>\n",
       "      <td>9</td>\n",
       "      <td>[[(people, 0.0017), (really, 0.0018), (time, 0...</td>\n",
       "      <td>{'header':'Babylon AD', 'summary':'Babylon AD ...</td>\n",
       "    </tr>\n",
       "    <tr>\n",
       "      <th>8</th>\n",
       "      <td>7</td>\n",
       "      <td>[[(character, 0.0015), (way, 0.0016), (film, 0...</td>\n",
       "      <td>{'header':'Documentary Films', 'summary':'Here...</td>\n",
       "    </tr>\n",
       "    <tr>\n",
       "      <th>9</th>\n",
       "      <td>11</td>\n",
       "      <td>[[(people, 0.0017), (films, 0.0018), (time, 0....</td>\n",
       "      <td>{  \"header\": \"Reviewed Feature Films\",  \"summa...</td>\n",
       "    </tr>\n",
       "    <tr>\n",
       "      <th>10</th>\n",
       "      <td>10</td>\n",
       "      <td>[[(tv, 0.002), (time, 0.002), (episode, 0.0022...</td>\n",
       "      <td>{ \"header\": \"Title or topic: Short Commentary ...</td>\n",
       "    </tr>\n",
       "    <tr>\n",
       "      <th>11</th>\n",
       "      <td>6</td>\n",
       "      <td>[[(time, 0.0016), (people, 0.0018), (story, 0....</td>\n",
       "      <td>{  \"header\": \"Documentary review: American Mov...</td>\n",
       "    </tr>\n",
       "  </tbody>\n",
       "</table>\n",
       "</div>"
      ],
      "text/plain": [
       "    cluster                                            topword  \\\n",
       "0         0  [[(dont, 0.0026), (really, 0.0027), (good, 0.0...   \n",
       "1         3  [[(character, 0.0018), (great, 0.0022), (time,...   \n",
       "2         5  [[(love, 0.0019), (time, 0.002), (great, 0.002...   \n",
       "3         2  [[(story, 0.0017), (character, 0.0017), (peopl...   \n",
       "4         8  [[(time, 0.002), (really, 0.0021), (bad, 0.002...   \n",
       "5         4  [[(funny, 0.0023), (time, 0.0025), (great, 0.0...   \n",
       "6         1  [[(bad, 0.0018), (time, 0.0027), (just, 0.0037...   \n",
       "7         9  [[(people, 0.0017), (really, 0.0018), (time, 0...   \n",
       "8         7  [[(character, 0.0015), (way, 0.0016), (film, 0...   \n",
       "9        11  [[(people, 0.0017), (films, 0.0018), (time, 0....   \n",
       "10       10  [[(tv, 0.002), (time, 0.002), (episode, 0.0022...   \n",
       "11        6  [[(time, 0.0016), (people, 0.0018), (story, 0....   \n",
       "\n",
       "                                              summary  \n",
       "0   {'header': 'Movies: why are they so bad?', 'su...  \n",
       "1   { 'header': 'Plays', 'summary': 'This is a gre...  \n",
       "2   {    \"header\": \"Critique of Cruel Intentions 2...  \n",
       "3   {'header': 'This Movie Can Be Watched', 'summa...  \n",
       "4   {'header':'The Water Horse Legend of the Deep'...  \n",
       "5   {'header': 'The movie got off to a quick start...  \n",
       "6   { \"header\": \"Green\", \"summary\": \"Green is a we...  \n",
       "7   {'header':'Babylon AD', 'summary':'Babylon AD ...  \n",
       "8   {'header':'Documentary Films', 'summary':'Here...  \n",
       "9   {  \"header\": \"Reviewed Feature Films\",  \"summa...  \n",
       "10  { \"header\": \"Title or topic: Short Commentary ...  \n",
       "11  {  \"header\": \"Documentary review: American Mov...  "
      ]
     },
     "execution_count": 12,
     "metadata": {},
     "output_type": "execute_result"
    }
   ],
   "source": [
    "tw = d_rs.get('topword')\n",
    "# tw['summary'] = tw['summary'].apply(eval)\n",
    "tw"
   ]
  },
  {
   "cell_type": "code",
   "execution_count": 27,
   "id": "cecfe5fe-d240-42d3-8838-541093da9a8f",
   "metadata": {},
   "outputs": [
    {
     "data": {
      "text/plain": [
       "\"{'header': 'Movies: why are they so bad?', 'summary': 'This was a very well done movie with a great cast Patrick Swayze did an excellent job of portraying a redneckgonebigcity cop Liam did a fantastic job of playing the outforrevenge redneckvsmafia role as well The special effects are ripoff from Hollywood tooOverall a movie you can do without'}\""
      ]
     },
     "execution_count": 27,
     "metadata": {},
     "output_type": "execute_result"
    }
   ],
   "source": [
    "tw[tw['cluster']==0]['summary'].values[0]"
   ]
  },
  {
   "cell_type": "code",
   "execution_count": 21,
   "id": "56999d3d-377c-4aa4-bcc7-3ef95ea249ec",
   "metadata": {},
   "outputs": [],
   "source": [
    "def print_topword(tw, cluster):\n",
    "    max_ = 0\n",
    "    tw = tw[tw['cluster'] == cluster]\n",
    "    data = tw['topword'].values[0]\n",
    "    data = dict(data[0])\n",
    "    sorted_word_scores = dict(sorted(data.items(), key=lambda x: x[1], reverse=True))\n",
    "    \n",
    "    # หาความยาวของคำที่ยาวที่สุด\n",
    "    for i in sorted_word_scores:\n",
    "        if len(i) > max_:\n",
    "            max_ = len(i)\n",
    "    \n",
    "    # พิมพ์คำและคะแนนพร้อมเส้นขีดล่าง (_)\n",
    "    for word, score in sorted_word_scores.items():\n",
    "        thresh = max_ - len(word)\n",
    "        print(f'topword: {word} {\"_\" * (thresh + 5)} scores: {score}')"
   ]
  },
  {
   "cell_type": "code",
   "execution_count": 22,
   "id": "5ee2dff2-9578-44e7-a876-9cb1f2af0df2",
   "metadata": {},
   "outputs": [
    {
     "name": "stdout",
     "output_type": "stream",
     "text": [
      "\n",
      "cluster: 0\n",
      "topword:   __________ scores: 0.9998\n",
      "topword: movie ______ scores: 0.0121\n",
      "topword: film _______ scores: 0.0061\n",
      "topword: bad ________ scores: 0.0042\n",
      "topword: just _______ scores: 0.004\n",
      "topword: like _______ scores: 0.0038\n",
      "topword: good _______ scores: 0.0032\n",
      "topword: time _______ scores: 0.0028\n",
      "topword: really _____ scores: 0.0027\n",
      "topword: dont _______ scores: 0.0026\n",
      "\n",
      "cluster: 3\n",
      "topword:   _____________ scores: 0.9999\n",
      "topword: film __________ scores: 0.0088\n",
      "topword: movie _________ scores: 0.0077\n",
      "topword: like __________ scores: 0.0034\n",
      "topword: just __________ scores: 0.0026\n",
      "topword: good __________ scores: 0.0026\n",
      "topword: story _________ scores: 0.0024\n",
      "topword: time __________ scores: 0.0023\n",
      "topword: great _________ scores: 0.0022\n",
      "topword: character _____ scores: 0.0018\n",
      "\n",
      "cluster: 5\n",
      "topword:   _________ scores: 0.9999\n",
      "topword: film ______ scores: 0.006\n",
      "topword: movie _____ scores: 0.0055\n",
      "topword: like ______ scores: 0.0027\n",
      "topword: just ______ scores: 0.0026\n",
      "topword: great _____ scores: 0.0023\n",
      "topword: good ______ scores: 0.0023\n",
      "topword: best ______ scores: 0.0022\n",
      "topword: time ______ scores: 0.002\n",
      "topword: love ______ scores: 0.0019\n",
      "\n",
      "cluster: 2\n",
      "topword:   _____________ scores: 0.9999\n",
      "topword: movie _________ scores: 0.0068\n",
      "topword: film __________ scores: 0.006\n",
      "topword: like __________ scores: 0.0032\n",
      "topword: just __________ scores: 0.0031\n",
      "topword: good __________ scores: 0.0022\n",
      "topword: time __________ scores: 0.0018\n",
      "topword: story _________ scores: 0.0017\n",
      "topword: character _____ scores: 0.0017\n",
      "topword: people ________ scores: 0.0017\n",
      "\n",
      "cluster: 8\n",
      "topword:   __________ scores: 0.9999\n",
      "topword: movie ______ scores: 0.0088\n",
      "topword: film _______ scores: 0.0069\n",
      "topword: like _______ scores: 0.0037\n",
      "topword: just _______ scores: 0.0035\n",
      "topword: good _______ scores: 0.0029\n",
      "topword: horror _____ scores: 0.0029\n",
      "topword: really _____ scores: 0.0021\n",
      "topword: bad ________ scores: 0.0021\n",
      "topword: time _______ scores: 0.002\n",
      "\n",
      "cluster: 4\n",
      "topword:   __________ scores: 0.9998\n",
      "topword: movie ______ scores: 0.014\n",
      "topword: film _______ scores: 0.0052\n",
      "topword: like _______ scores: 0.0039\n",
      "topword: just _______ scores: 0.0039\n",
      "topword: good _______ scores: 0.0037\n",
      "topword: really _____ scores: 0.0031\n",
      "topword: great ______ scores: 0.0026\n",
      "topword: time _______ scores: 0.0025\n",
      "topword: funny ______ scores: 0.0023\n",
      "\n",
      "cluster: 1\n",
      "topword:   __________ scores: 0.9998\n",
      "topword: film _______ scores: 0.0088\n",
      "topword: movie ______ scores: 0.0075\n",
      "topword: just _______ scores: 0.0037\n",
      "topword: like _______ scores: 0.0034\n",
      "topword: time _______ scores: 0.0027\n",
      "topword: good _______ scores: 0.0027\n",
      "topword: really _____ scores: 0.0026\n",
      "topword: story ______ scores: 0.0023\n",
      "topword: bad ________ scores: 0.0018\n",
      "\n",
      "cluster: 9\n",
      "topword:   __________ scores: 0.9999\n",
      "topword: film _______ scores: 0.0079\n",
      "topword: movie ______ scores: 0.0059\n",
      "topword: like _______ scores: 0.003\n",
      "topword: just _______ scores: 0.0026\n",
      "topword: time _______ scores: 0.0021\n",
      "topword: good _______ scores: 0.0021\n",
      "topword: story ______ scores: 0.0021\n",
      "topword: really _____ scores: 0.0018\n",
      "topword: people _____ scores: 0.0017\n",
      "\n",
      "cluster: 7\n",
      "topword:   _____________ scores: 0.9999\n",
      "topword: film __________ scores: 0.0059\n",
      "topword: movie _________ scores: 0.0051\n",
      "topword: like __________ scores: 0.0024\n",
      "topword: just __________ scores: 0.0023\n",
      "topword: story _________ scores: 0.0021\n",
      "topword: life __________ scores: 0.0018\n",
      "topword: way ___________ scores: 0.0016\n",
      "topword: time __________ scores: 0.0016\n",
      "topword: character _____ scores: 0.0015\n",
      "\n",
      "cluster: 11\n",
      "topword:   __________ scores: 0.9999\n",
      "topword: movie ______ scores: 0.0086\n",
      "topword: film _______ scores: 0.0076\n",
      "topword: like _______ scores: 0.0028\n",
      "topword: good _______ scores: 0.0027\n",
      "topword: story ______ scores: 0.0026\n",
      "topword: just _______ scores: 0.0024\n",
      "topword: time _______ scores: 0.002\n",
      "topword: films ______ scores: 0.0018\n",
      "topword: people _____ scores: 0.0017\n",
      "\n",
      "cluster: 10\n",
      "topword:   ___________ scores: 0.9999\n",
      "topword: like ________ scores: 0.0047\n",
      "topword: just ________ scores: 0.0034\n",
      "topword: series ______ scores: 0.0023\n",
      "topword: good ________ scores: 0.0023\n",
      "topword: episode _____ scores: 0.0022\n",
      "topword: people ______ scores: 0.0022\n",
      "topword: really ______ scores: 0.0022\n",
      "topword: tv __________ scores: 0.002\n",
      "topword: time ________ scores: 0.002\n",
      "\n",
      "cluster: 6\n",
      "topword:   __________ scores: 0.9999\n",
      "topword: movie ______ scores: 0.0062\n",
      "topword: film _______ scores: 0.0056\n",
      "topword: like _______ scores: 0.0029\n",
      "topword: just _______ scores: 0.0026\n",
      "topword: good _______ scores: 0.0021\n",
      "topword: really _____ scores: 0.0019\n",
      "topword: people _____ scores: 0.0018\n",
      "topword: story ______ scores: 0.0018\n",
      "topword: time _______ scores: 0.0016\n"
     ]
    }
   ],
   "source": [
    "for i in tw['cluster'].unique() : \n",
    "    print()\n",
    "    print(f'cluster: {i}')\n",
    "    try : \n",
    "        print(f'header of cluster : {tw[tw['cluster']==i]['summary'].values[0].get('header')}')\n",
    "        print(f'summary : {tw[tw['cluster']==i]['summary'].values[0].get('summary')}')\n",
    "\n",
    "    except :\n",
    "        pass\n",
    "    print_topword(tw, i)"
   ]
  },
  {
   "cell_type": "code",
   "execution_count": 24,
   "id": "c656f9e0-f720-41ad-b0cc-bde52b346468",
   "metadata": {},
   "outputs": [
    {
     "name": "stdout",
     "output_type": "stream",
     "text": [
      "https://poloclub.github.io/wizmap/?dataURL=http://localhost:8000/output_test/wizmapJson/data.ndjson&gridURL=http://localhost:8000/output_test/wizmapJson/grid.json\n"
     ]
    },
    {
     "name": "stderr",
     "output_type": "stream",
     "text": [
      "huggingface/tokenizers: The current process just got forked, after parallelism has already been used. Disabling parallelism to avoid deadlocks...\n",
      "To disable this warning, you can either:\n",
      "\t- Avoid using `tokenizers` before the fork if possible\n",
      "\t- Explicitly set the environment variable TOKENIZERS_PARALLELISM=(true | false)\n",
      "127.0.0.1 - - [18/Jul/2024 15:35:48] \"OPTIONS /output_test/wizmapJson/grid.json HTTP/1.1\" 204 -\n",
      "127.0.0.1 - - [18/Jul/2024 15:35:48] \"GET /output_test/wizmapJson/grid.json HTTP/1.1\" 200 -\n",
      "127.0.0.1 - - [18/Jul/2024 15:35:48] \"OPTIONS /output_test/wizmapJson/data.ndjson HTTP/1.1\" 204 -\n",
      "127.0.0.1 - - [18/Jul/2024 15:35:48] \"GET /output_test/wizmapJson/data.ndjson HTTP/1.1\" 200 -\n"
     ]
    },
    {
     "name": "stdout",
     "output_type": "stream",
     "text": [
      "<class 'http_server.server.CORSRequestHandler'>\n",
      "Starting httpd server on port 8000...\n"
     ]
    },
    {
     "name": "stderr",
     "output_type": "stream",
     "text": [
      "Traceback (most recent call last):\n",
      "  File \"/Users/peetiphartsuebpeng/miniconda3/bin/server\", line 8, in <module>\n",
      "    sys.exit(main())\n",
      "             ^^^^^^\n",
      "  File \"/Users/peetiphartsuebpeng/miniconda3/lib/python3.12/site-packages/http_server/server.py\", line 31, in main\n",
      "    run(port=args.port, allow_all_cors=args.allow_cors)\n",
      "  File \"/Users/peetiphartsuebpeng/miniconda3/lib/python3.12/site-packages/http_server/server.py\", line 22, in run\n",
      "    httpd.serve_forever()\n",
      "  File \"/Users/peetiphartsuebpeng/miniconda3/lib/python3.12/socketserver.py\", line 235, in serve_forever\n",
      "    ready = selector.select(poll_interval)\n",
      "            ^^^^^^^^^^^^^^^^^^^^^^^^^^^^^^\n",
      "  File \"/Users/peetiphartsuebpeng/miniconda3/lib/python3.12/selectors.py\", line 415, in select\n",
      "    fd_event_list = self._selector.poll(timeout)\n",
      "                    ^^^^^^^^^^^^^^^^^^^^^^^^^^^^\n",
      "KeyboardInterrupt\n",
      "\n",
      "KeyboardInterrupt\n",
      "\n"
     ]
    }
   ],
   "source": [
    "from dsm_wizservices import wizmap_local\n",
    "wizmap_local(directory_folder_of_wizmap='output_test/wizmapJson/')"
   ]
  },
  {
   "cell_type": "code",
   "execution_count": null,
   "id": "8c7708db-a372-4611-9d9f-c36fe92600cd",
   "metadata": {},
   "outputs": [],
   "source": []
  }
 ],
 "metadata": {
  "kernelspec": {
   "display_name": "env-wizmap",
   "language": "python",
   "name": "env-wizmap"
  },
  "language_info": {
   "codemirror_mode": {
    "name": "ipython",
    "version": 3
   },
   "file_extension": ".py",
   "mimetype": "text/x-python",
   "name": "python",
   "nbconvert_exporter": "python",
   "pygments_lexer": "ipython3",
   "version": "3.12.0"
  }
 },
 "nbformat": 4,
 "nbformat_minor": 5
}
